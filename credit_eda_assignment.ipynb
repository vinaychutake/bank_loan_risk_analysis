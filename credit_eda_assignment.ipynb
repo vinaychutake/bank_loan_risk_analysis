{
 "cells": [
  {
   "cell_type": "markdown",
   "id": "ef018b66",
   "metadata": {},
   "source": [
    "# Credit EDA Assignment"
   ]
  },
  {
   "cell_type": "markdown",
   "id": "e3a69907",
   "metadata": {},
   "source": [
    "In this case study/assignment we aim to analyize the provided dataset and to find the patterns to indicate if user is able to pay his installments which should help bank to take various business decisions regarding loan application of a client."
   ]
  },
  {
   "cell_type": "markdown",
   "id": "ad86f785",
   "metadata": {},
   "source": [
    "As we have 2 datasets provided to use \"application_data.csv\" and \"previous_application.csv\" which denote current application and previous application history of a client.\n",
    "The general steps we will be following will be:\n",
    "- Data cleaning of current application\n",
    "- analyzing the current application data individually to get idea what we are in for\n",
    "- Data cleaning of previous application\n",
    "- analyzing the previous application data individually \n",
    "- Merging these two data sets and analyzing it to see the full picture"
   ]
  },
  {
   "cell_type": "markdown",
   "id": "6ad8e1c4",
   "metadata": {},
   "source": [
    "#### Importing the libraries we will be using for analysis"
   ]
  },
  {
   "cell_type": "code",
   "execution_count": 2,
   "id": "d9409146",
   "metadata": {},
   "outputs": [],
   "source": [
    "import pandas as pd, numpy as np\n",
    "import matplotlib.pyplot as plt, seaborn as sns"
   ]
  },
  {
   "cell_type": "markdown",
   "id": "658fd8e4",
   "metadata": {},
   "source": [
    "## Importing and understanding application data"
   ]
  },
  {
   "cell_type": "code",
   "execution_count": 3,
   "id": "373894a3",
   "metadata": {},
   "outputs": [],
   "source": [
    "app_df = pd.read_csv(\"application_data.csv\")"
   ]
  },
  {
   "cell_type": "markdown",
   "id": "462e6e85",
   "metadata": {},
   "source": [
    "lets see if we were successful"
   ]
  },
  {
   "cell_type": "code",
   "execution_count": 4,
   "id": "81a2dc28",
   "metadata": {},
   "outputs": [
    {
     "data": {
      "text/html": [
       "<div>\n",
       "<style scoped>\n",
       "    .dataframe tbody tr th:only-of-type {\n",
       "        vertical-align: middle;\n",
       "    }\n",
       "\n",
       "    .dataframe tbody tr th {\n",
       "        vertical-align: top;\n",
       "    }\n",
       "\n",
       "    .dataframe thead th {\n",
       "        text-align: right;\n",
       "    }\n",
       "</style>\n",
       "<table border=\"1\" class=\"dataframe\">\n",
       "  <thead>\n",
       "    <tr style=\"text-align: right;\">\n",
       "      <th></th>\n",
       "      <th>SK_ID_CURR</th>\n",
       "      <th>TARGET</th>\n",
       "      <th>NAME_CONTRACT_TYPE</th>\n",
       "      <th>CODE_GENDER</th>\n",
       "      <th>FLAG_OWN_CAR</th>\n",
       "      <th>FLAG_OWN_REALTY</th>\n",
       "      <th>CNT_CHILDREN</th>\n",
       "      <th>AMT_INCOME_TOTAL</th>\n",
       "      <th>AMT_CREDIT</th>\n",
       "      <th>AMT_ANNUITY</th>\n",
       "      <th>...</th>\n",
       "      <th>FLAG_DOCUMENT_18</th>\n",
       "      <th>FLAG_DOCUMENT_19</th>\n",
       "      <th>FLAG_DOCUMENT_20</th>\n",
       "      <th>FLAG_DOCUMENT_21</th>\n",
       "      <th>AMT_REQ_CREDIT_BUREAU_HOUR</th>\n",
       "      <th>AMT_REQ_CREDIT_BUREAU_DAY</th>\n",
       "      <th>AMT_REQ_CREDIT_BUREAU_WEEK</th>\n",
       "      <th>AMT_REQ_CREDIT_BUREAU_MON</th>\n",
       "      <th>AMT_REQ_CREDIT_BUREAU_QRT</th>\n",
       "      <th>AMT_REQ_CREDIT_BUREAU_YEAR</th>\n",
       "    </tr>\n",
       "  </thead>\n",
       "  <tbody>\n",
       "    <tr>\n",
       "      <th>0</th>\n",
       "      <td>100002</td>\n",
       "      <td>1</td>\n",
       "      <td>Cash loans</td>\n",
       "      <td>M</td>\n",
       "      <td>N</td>\n",
       "      <td>Y</td>\n",
       "      <td>0</td>\n",
       "      <td>202500.0</td>\n",
       "      <td>406597.5</td>\n",
       "      <td>24700.5</td>\n",
       "      <td>...</td>\n",
       "      <td>0</td>\n",
       "      <td>0</td>\n",
       "      <td>0</td>\n",
       "      <td>0</td>\n",
       "      <td>0.0</td>\n",
       "      <td>0.0</td>\n",
       "      <td>0.0</td>\n",
       "      <td>0.0</td>\n",
       "      <td>0.0</td>\n",
       "      <td>1.0</td>\n",
       "    </tr>\n",
       "    <tr>\n",
       "      <th>1</th>\n",
       "      <td>100003</td>\n",
       "      <td>0</td>\n",
       "      <td>Cash loans</td>\n",
       "      <td>F</td>\n",
       "      <td>N</td>\n",
       "      <td>N</td>\n",
       "      <td>0</td>\n",
       "      <td>270000.0</td>\n",
       "      <td>1293502.5</td>\n",
       "      <td>35698.5</td>\n",
       "      <td>...</td>\n",
       "      <td>0</td>\n",
       "      <td>0</td>\n",
       "      <td>0</td>\n",
       "      <td>0</td>\n",
       "      <td>0.0</td>\n",
       "      <td>0.0</td>\n",
       "      <td>0.0</td>\n",
       "      <td>0.0</td>\n",
       "      <td>0.0</td>\n",
       "      <td>0.0</td>\n",
       "    </tr>\n",
       "    <tr>\n",
       "      <th>2</th>\n",
       "      <td>100004</td>\n",
       "      <td>0</td>\n",
       "      <td>Revolving loans</td>\n",
       "      <td>M</td>\n",
       "      <td>Y</td>\n",
       "      <td>Y</td>\n",
       "      <td>0</td>\n",
       "      <td>67500.0</td>\n",
       "      <td>135000.0</td>\n",
       "      <td>6750.0</td>\n",
       "      <td>...</td>\n",
       "      <td>0</td>\n",
       "      <td>0</td>\n",
       "      <td>0</td>\n",
       "      <td>0</td>\n",
       "      <td>0.0</td>\n",
       "      <td>0.0</td>\n",
       "      <td>0.0</td>\n",
       "      <td>0.0</td>\n",
       "      <td>0.0</td>\n",
       "      <td>0.0</td>\n",
       "    </tr>\n",
       "    <tr>\n",
       "      <th>3</th>\n",
       "      <td>100006</td>\n",
       "      <td>0</td>\n",
       "      <td>Cash loans</td>\n",
       "      <td>F</td>\n",
       "      <td>N</td>\n",
       "      <td>Y</td>\n",
       "      <td>0</td>\n",
       "      <td>135000.0</td>\n",
       "      <td>312682.5</td>\n",
       "      <td>29686.5</td>\n",
       "      <td>...</td>\n",
       "      <td>0</td>\n",
       "      <td>0</td>\n",
       "      <td>0</td>\n",
       "      <td>0</td>\n",
       "      <td>NaN</td>\n",
       "      <td>NaN</td>\n",
       "      <td>NaN</td>\n",
       "      <td>NaN</td>\n",
       "      <td>NaN</td>\n",
       "      <td>NaN</td>\n",
       "    </tr>\n",
       "    <tr>\n",
       "      <th>4</th>\n",
       "      <td>100007</td>\n",
       "      <td>0</td>\n",
       "      <td>Cash loans</td>\n",
       "      <td>M</td>\n",
       "      <td>N</td>\n",
       "      <td>Y</td>\n",
       "      <td>0</td>\n",
       "      <td>121500.0</td>\n",
       "      <td>513000.0</td>\n",
       "      <td>21865.5</td>\n",
       "      <td>...</td>\n",
       "      <td>0</td>\n",
       "      <td>0</td>\n",
       "      <td>0</td>\n",
       "      <td>0</td>\n",
       "      <td>0.0</td>\n",
       "      <td>0.0</td>\n",
       "      <td>0.0</td>\n",
       "      <td>0.0</td>\n",
       "      <td>0.0</td>\n",
       "      <td>0.0</td>\n",
       "    </tr>\n",
       "  </tbody>\n",
       "</table>\n",
       "<p>5 rows × 122 columns</p>\n",
       "</div>"
      ],
      "text/plain": [
       "   SK_ID_CURR  TARGET NAME_CONTRACT_TYPE CODE_GENDER FLAG_OWN_CAR  \\\n",
       "0      100002       1         Cash loans           M            N   \n",
       "1      100003       0         Cash loans           F            N   \n",
       "2      100004       0    Revolving loans           M            Y   \n",
       "3      100006       0         Cash loans           F            N   \n",
       "4      100007       0         Cash loans           M            N   \n",
       "\n",
       "  FLAG_OWN_REALTY  CNT_CHILDREN  AMT_INCOME_TOTAL  AMT_CREDIT  AMT_ANNUITY  \\\n",
       "0               Y             0          202500.0    406597.5      24700.5   \n",
       "1               N             0          270000.0   1293502.5      35698.5   \n",
       "2               Y             0           67500.0    135000.0       6750.0   \n",
       "3               Y             0          135000.0    312682.5      29686.5   \n",
       "4               Y             0          121500.0    513000.0      21865.5   \n",
       "\n",
       "   ...  FLAG_DOCUMENT_18 FLAG_DOCUMENT_19 FLAG_DOCUMENT_20 FLAG_DOCUMENT_21  \\\n",
       "0  ...                 0                0                0                0   \n",
       "1  ...                 0                0                0                0   \n",
       "2  ...                 0                0                0                0   \n",
       "3  ...                 0                0                0                0   \n",
       "4  ...                 0                0                0                0   \n",
       "\n",
       "  AMT_REQ_CREDIT_BUREAU_HOUR AMT_REQ_CREDIT_BUREAU_DAY  \\\n",
       "0                        0.0                       0.0   \n",
       "1                        0.0                       0.0   \n",
       "2                        0.0                       0.0   \n",
       "3                        NaN                       NaN   \n",
       "4                        0.0                       0.0   \n",
       "\n",
       "   AMT_REQ_CREDIT_BUREAU_WEEK  AMT_REQ_CREDIT_BUREAU_MON  \\\n",
       "0                         0.0                        0.0   \n",
       "1                         0.0                        0.0   \n",
       "2                         0.0                        0.0   \n",
       "3                         NaN                        NaN   \n",
       "4                         0.0                        0.0   \n",
       "\n",
       "   AMT_REQ_CREDIT_BUREAU_QRT  AMT_REQ_CREDIT_BUREAU_YEAR  \n",
       "0                        0.0                         1.0  \n",
       "1                        0.0                         0.0  \n",
       "2                        0.0                         0.0  \n",
       "3                        NaN                         NaN  \n",
       "4                        0.0                         0.0  \n",
       "\n",
       "[5 rows x 122 columns]"
      ]
     },
     "execution_count": 4,
     "metadata": {},
     "output_type": "execute_result"
    }
   ],
   "source": [
    "app_df.head()"
   ]
  },
  {
   "cell_type": "markdown",
   "id": "8d7e482d",
   "metadata": {},
   "source": [
    "lets see the shape of data we have"
   ]
  },
  {
   "cell_type": "code",
   "execution_count": 5,
   "id": "1705ee5c",
   "metadata": {},
   "outputs": [
    {
     "data": {
      "text/plain": [
       "(307511, 122)"
      ]
     },
     "execution_count": 5,
     "metadata": {},
     "output_type": "execute_result"
    }
   ],
   "source": [
    "app_df.shape"
   ]
  },
  {
   "cell_type": "markdown",
   "id": "4c471e4d",
   "metadata": {},
   "source": [
    "<b>Observation</b>: From column description and the current application data, we can see there is <b>TARGET</b> column, which shows if client is with payment difficulties (as per various logical threshold values). So it seems this is one of important columns against which we will be creating patterns"
   ]
  },
  {
   "cell_type": "code",
   "execution_count": 6,
   "id": "cdd5be85",
   "metadata": {},
   "outputs": [
    {
     "data": {
      "text/plain": [
       "0    282686\n",
       "1     24825\n",
       "Name: TARGET, dtype: int64"
      ]
     },
     "execution_count": 6,
     "metadata": {},
     "output_type": "execute_result"
    }
   ],
   "source": [
    "app_df.TARGET.value_counts()"
   ]
  },
  {
   "cell_type": "markdown",
   "id": "20a39eef",
   "metadata": {},
   "source": [
    "<b>Initial observation of target column:</b>\n",
    "<p>It seems there are no empty or irrelevant values and this column have proper values.</p>\n",
    "<p>Also, entries with payment difficulties (target=1) are less compared to client with no-payment difficulties. This should be good to get positive business decisions also, like which should be our preferred target client pattern</p>"
   ]
  },
  {
   "cell_type": "markdown",
   "id": "e58f10a3",
   "metadata": {},
   "source": [
    "## Data Cleaning on application-data"
   ]
  },
  {
   "cell_type": "markdown",
   "id": "09075898",
   "metadata": {},
   "source": [
    "As part of Data Cleanup we would be taking multiple steps (if needed) such as data type conversion, handling missing values, handling outliers, standardizing values etc."
   ]
  },
  {
   "cell_type": "markdown",
   "id": "0d554168",
   "metadata": {},
   "source": [
    "### Column type checking"
   ]
  },
  {
   "cell_type": "markdown",
   "id": "4e96aa6e",
   "metadata": {},
   "source": [
    "Lets try to explore columns from both data sets to see if those need any type fixing"
   ]
  },
  {
   "cell_type": "code",
   "execution_count": 7,
   "id": "6ecee156",
   "metadata": {},
   "outputs": [
    {
     "name": "stdout",
     "output_type": "stream",
     "text": [
      "<class 'pandas.core.frame.DataFrame'>\n",
      "RangeIndex: 307511 entries, 0 to 307510\n",
      "Columns: 122 entries, SK_ID_CURR to AMT_REQ_CREDIT_BUREAU_YEAR\n",
      "dtypes: float64(65), int64(41), object(16)\n",
      "memory usage: 286.2+ MB\n"
     ]
    }
   ],
   "source": [
    "# lets check application data first\n",
    "app_df.info()"
   ]
  },
  {
   "cell_type": "markdown",
   "id": "6e085cfb",
   "metadata": {},
   "source": [
    "above command is not showing all columns info properly, lets see verbose info"
   ]
  },
  {
   "cell_type": "code",
   "execution_count": 8,
   "id": "e09f9471",
   "metadata": {},
   "outputs": [
    {
     "name": "stdout",
     "output_type": "stream",
     "text": [
      "<class 'pandas.core.frame.DataFrame'>\n",
      "RangeIndex: 307511 entries, 0 to 307510\n",
      "Data columns (total 122 columns):\n",
      " #    Column                        Dtype  \n",
      "---   ------                        -----  \n",
      " 0    SK_ID_CURR                    int64  \n",
      " 1    TARGET                        int64  \n",
      " 2    NAME_CONTRACT_TYPE            object \n",
      " 3    CODE_GENDER                   object \n",
      " 4    FLAG_OWN_CAR                  object \n",
      " 5    FLAG_OWN_REALTY               object \n",
      " 6    CNT_CHILDREN                  int64  \n",
      " 7    AMT_INCOME_TOTAL              float64\n",
      " 8    AMT_CREDIT                    float64\n",
      " 9    AMT_ANNUITY                   float64\n",
      " 10   AMT_GOODS_PRICE               float64\n",
      " 11   NAME_TYPE_SUITE               object \n",
      " 12   NAME_INCOME_TYPE              object \n",
      " 13   NAME_EDUCATION_TYPE           object \n",
      " 14   NAME_FAMILY_STATUS            object \n",
      " 15   NAME_HOUSING_TYPE             object \n",
      " 16   REGION_POPULATION_RELATIVE    float64\n",
      " 17   DAYS_BIRTH                    int64  \n",
      " 18   DAYS_EMPLOYED                 int64  \n",
      " 19   DAYS_REGISTRATION             float64\n",
      " 20   DAYS_ID_PUBLISH               int64  \n",
      " 21   OWN_CAR_AGE                   float64\n",
      " 22   FLAG_MOBIL                    int64  \n",
      " 23   FLAG_EMP_PHONE                int64  \n",
      " 24   FLAG_WORK_PHONE               int64  \n",
      " 25   FLAG_CONT_MOBILE              int64  \n",
      " 26   FLAG_PHONE                    int64  \n",
      " 27   FLAG_EMAIL                    int64  \n",
      " 28   OCCUPATION_TYPE               object \n",
      " 29   CNT_FAM_MEMBERS               float64\n",
      " 30   REGION_RATING_CLIENT          int64  \n",
      " 31   REGION_RATING_CLIENT_W_CITY   int64  \n",
      " 32   WEEKDAY_APPR_PROCESS_START    object \n",
      " 33   HOUR_APPR_PROCESS_START       int64  \n",
      " 34   REG_REGION_NOT_LIVE_REGION    int64  \n",
      " 35   REG_REGION_NOT_WORK_REGION    int64  \n",
      " 36   LIVE_REGION_NOT_WORK_REGION   int64  \n",
      " 37   REG_CITY_NOT_LIVE_CITY        int64  \n",
      " 38   REG_CITY_NOT_WORK_CITY        int64  \n",
      " 39   LIVE_CITY_NOT_WORK_CITY       int64  \n",
      " 40   ORGANIZATION_TYPE             object \n",
      " 41   EXT_SOURCE_1                  float64\n",
      " 42   EXT_SOURCE_2                  float64\n",
      " 43   EXT_SOURCE_3                  float64\n",
      " 44   APARTMENTS_AVG                float64\n",
      " 45   BASEMENTAREA_AVG              float64\n",
      " 46   YEARS_BEGINEXPLUATATION_AVG   float64\n",
      " 47   YEARS_BUILD_AVG               float64\n",
      " 48   COMMONAREA_AVG                float64\n",
      " 49   ELEVATORS_AVG                 float64\n",
      " 50   ENTRANCES_AVG                 float64\n",
      " 51   FLOORSMAX_AVG                 float64\n",
      " 52   FLOORSMIN_AVG                 float64\n",
      " 53   LANDAREA_AVG                  float64\n",
      " 54   LIVINGAPARTMENTS_AVG          float64\n",
      " 55   LIVINGAREA_AVG                float64\n",
      " 56   NONLIVINGAPARTMENTS_AVG       float64\n",
      " 57   NONLIVINGAREA_AVG             float64\n",
      " 58   APARTMENTS_MODE               float64\n",
      " 59   BASEMENTAREA_MODE             float64\n",
      " 60   YEARS_BEGINEXPLUATATION_MODE  float64\n",
      " 61   YEARS_BUILD_MODE              float64\n",
      " 62   COMMONAREA_MODE               float64\n",
      " 63   ELEVATORS_MODE                float64\n",
      " 64   ENTRANCES_MODE                float64\n",
      " 65   FLOORSMAX_MODE                float64\n",
      " 66   FLOORSMIN_MODE                float64\n",
      " 67   LANDAREA_MODE                 float64\n",
      " 68   LIVINGAPARTMENTS_MODE         float64\n",
      " 69   LIVINGAREA_MODE               float64\n",
      " 70   NONLIVINGAPARTMENTS_MODE      float64\n",
      " 71   NONLIVINGAREA_MODE            float64\n",
      " 72   APARTMENTS_MEDI               float64\n",
      " 73   BASEMENTAREA_MEDI             float64\n",
      " 74   YEARS_BEGINEXPLUATATION_MEDI  float64\n",
      " 75   YEARS_BUILD_MEDI              float64\n",
      " 76   COMMONAREA_MEDI               float64\n",
      " 77   ELEVATORS_MEDI                float64\n",
      " 78   ENTRANCES_MEDI                float64\n",
      " 79   FLOORSMAX_MEDI                float64\n",
      " 80   FLOORSMIN_MEDI                float64\n",
      " 81   LANDAREA_MEDI                 float64\n",
      " 82   LIVINGAPARTMENTS_MEDI         float64\n",
      " 83   LIVINGAREA_MEDI               float64\n",
      " 84   NONLIVINGAPARTMENTS_MEDI      float64\n",
      " 85   NONLIVINGAREA_MEDI            float64\n",
      " 86   FONDKAPREMONT_MODE            object \n",
      " 87   HOUSETYPE_MODE                object \n",
      " 88   TOTALAREA_MODE                float64\n",
      " 89   WALLSMATERIAL_MODE            object \n",
      " 90   EMERGENCYSTATE_MODE           object \n",
      " 91   OBS_30_CNT_SOCIAL_CIRCLE      float64\n",
      " 92   DEF_30_CNT_SOCIAL_CIRCLE      float64\n",
      " 93   OBS_60_CNT_SOCIAL_CIRCLE      float64\n",
      " 94   DEF_60_CNT_SOCIAL_CIRCLE      float64\n",
      " 95   DAYS_LAST_PHONE_CHANGE        float64\n",
      " 96   FLAG_DOCUMENT_2               int64  \n",
      " 97   FLAG_DOCUMENT_3               int64  \n",
      " 98   FLAG_DOCUMENT_4               int64  \n",
      " 99   FLAG_DOCUMENT_5               int64  \n",
      " 100  FLAG_DOCUMENT_6               int64  \n",
      " 101  FLAG_DOCUMENT_7               int64  \n",
      " 102  FLAG_DOCUMENT_8               int64  \n",
      " 103  FLAG_DOCUMENT_9               int64  \n",
      " 104  FLAG_DOCUMENT_10              int64  \n",
      " 105  FLAG_DOCUMENT_11              int64  \n",
      " 106  FLAG_DOCUMENT_12              int64  \n",
      " 107  FLAG_DOCUMENT_13              int64  \n",
      " 108  FLAG_DOCUMENT_14              int64  \n",
      " 109  FLAG_DOCUMENT_15              int64  \n",
      " 110  FLAG_DOCUMENT_16              int64  \n",
      " 111  FLAG_DOCUMENT_17              int64  \n",
      " 112  FLAG_DOCUMENT_18              int64  \n",
      " 113  FLAG_DOCUMENT_19              int64  \n",
      " 114  FLAG_DOCUMENT_20              int64  \n",
      " 115  FLAG_DOCUMENT_21              int64  \n",
      " 116  AMT_REQ_CREDIT_BUREAU_HOUR    float64\n",
      " 117  AMT_REQ_CREDIT_BUREAU_DAY     float64\n",
      " 118  AMT_REQ_CREDIT_BUREAU_WEEK    float64\n",
      " 119  AMT_REQ_CREDIT_BUREAU_MON     float64\n",
      " 120  AMT_REQ_CREDIT_BUREAU_QRT     float64\n",
      " 121  AMT_REQ_CREDIT_BUREAU_YEAR    float64\n",
      "dtypes: float64(65), int64(41), object(16)\n",
      "memory usage: 286.2+ MB\n"
     ]
    }
   ],
   "source": [
    "app_df.info(verbose=True)"
   ]
  },
  {
   "cell_type": "markdown",
   "id": "74543a98",
   "metadata": {},
   "source": [
    "After observing application data sets's columns info, comparing that with column description in provided file and sample rows from dataset,\n",
    "we can say that all column have correct data types i.e. numerical columns are marked int or float etc. (in case if we missed anything here, we will tackle that in upcoming steps where we process individual columns)"
   ]
  },
  {
   "cell_type": "markdown",
   "id": "94ef654e",
   "metadata": {},
   "source": [
    "### Missing value checkup/handling for current application data"
   ]
  },
  {
   "cell_type": "markdown",
   "id": "997dfea2",
   "metadata": {},
   "source": [
    "Here we will be checking all columns with empty values one by one and will be tackling various situations as per column description, values present, type of values, outliers and need."
   ]
  },
  {
   "cell_type": "markdown",
   "id": "d97e3f27",
   "metadata": {},
   "source": [
    "Tackling both data sets would get tricky and lengthy for single section, so lets handle current application data first"
   ]
  },
  {
   "cell_type": "code",
   "execution_count": 9,
   "id": "6990b7f5",
   "metadata": {},
   "outputs": [
    {
     "data": {
      "text/plain": [
       "SK_ID_CURR                        0\n",
       "TARGET                            0\n",
       "NAME_CONTRACT_TYPE                0\n",
       "CODE_GENDER                       0\n",
       "FLAG_OWN_CAR                      0\n",
       "                              ...  \n",
       "AMT_REQ_CREDIT_BUREAU_DAY     41519\n",
       "AMT_REQ_CREDIT_BUREAU_WEEK    41519\n",
       "AMT_REQ_CREDIT_BUREAU_MON     41519\n",
       "AMT_REQ_CREDIT_BUREAU_QRT     41519\n",
       "AMT_REQ_CREDIT_BUREAU_YEAR    41519\n",
       "Length: 122, dtype: int64"
      ]
     },
     "execution_count": 9,
     "metadata": {},
     "output_type": "execute_result"
    }
   ],
   "source": [
    "# lets see columns who have null values\n",
    "app_df.isna().sum()"
   ]
  },
  {
   "cell_type": "markdown",
   "id": "d98ec745",
   "metadata": {},
   "source": [
    "oh.. too many null values.. lets try to see columns with null values only.. easier to tackle"
   ]
  },
  {
   "cell_type": "code",
   "execution_count": 10,
   "id": "0dca148b",
   "metadata": {},
   "outputs": [
    {
     "data": {
      "text/plain": [
       "Index(['AMT_ANNUITY', 'AMT_GOODS_PRICE', 'NAME_TYPE_SUITE', 'OWN_CAR_AGE',\n",
       "       'OCCUPATION_TYPE', 'CNT_FAM_MEMBERS', 'EXT_SOURCE_1', 'EXT_SOURCE_2',\n",
       "       'EXT_SOURCE_3', 'APARTMENTS_AVG', 'BASEMENTAREA_AVG',\n",
       "       'YEARS_BEGINEXPLUATATION_AVG', 'YEARS_BUILD_AVG', 'COMMONAREA_AVG',\n",
       "       'ELEVATORS_AVG', 'ENTRANCES_AVG', 'FLOORSMAX_AVG', 'FLOORSMIN_AVG',\n",
       "       'LANDAREA_AVG', 'LIVINGAPARTMENTS_AVG', 'LIVINGAREA_AVG',\n",
       "       'NONLIVINGAPARTMENTS_AVG', 'NONLIVINGAREA_AVG', 'APARTMENTS_MODE',\n",
       "       'BASEMENTAREA_MODE', 'YEARS_BEGINEXPLUATATION_MODE', 'YEARS_BUILD_MODE',\n",
       "       'COMMONAREA_MODE', 'ELEVATORS_MODE', 'ENTRANCES_MODE', 'FLOORSMAX_MODE',\n",
       "       'FLOORSMIN_MODE', 'LANDAREA_MODE', 'LIVINGAPARTMENTS_MODE',\n",
       "       'LIVINGAREA_MODE', 'NONLIVINGAPARTMENTS_MODE', 'NONLIVINGAREA_MODE',\n",
       "       'APARTMENTS_MEDI', 'BASEMENTAREA_MEDI', 'YEARS_BEGINEXPLUATATION_MEDI',\n",
       "       'YEARS_BUILD_MEDI', 'COMMONAREA_MEDI', 'ELEVATORS_MEDI',\n",
       "       'ENTRANCES_MEDI', 'FLOORSMAX_MEDI', 'FLOORSMIN_MEDI', 'LANDAREA_MEDI',\n",
       "       'LIVINGAPARTMENTS_MEDI', 'LIVINGAREA_MEDI', 'NONLIVINGAPARTMENTS_MEDI',\n",
       "       'NONLIVINGAREA_MEDI', 'FONDKAPREMONT_MODE', 'HOUSETYPE_MODE',\n",
       "       'TOTALAREA_MODE', 'WALLSMATERIAL_MODE', 'EMERGENCYSTATE_MODE',\n",
       "       'OBS_30_CNT_SOCIAL_CIRCLE', 'DEF_30_CNT_SOCIAL_CIRCLE',\n",
       "       'OBS_60_CNT_SOCIAL_CIRCLE', 'DEF_60_CNT_SOCIAL_CIRCLE',\n",
       "       'DAYS_LAST_PHONE_CHANGE', 'AMT_REQ_CREDIT_BUREAU_HOUR',\n",
       "       'AMT_REQ_CREDIT_BUREAU_DAY', 'AMT_REQ_CREDIT_BUREAU_WEEK',\n",
       "       'AMT_REQ_CREDIT_BUREAU_MON', 'AMT_REQ_CREDIT_BUREAU_QRT',\n",
       "       'AMT_REQ_CREDIT_BUREAU_YEAR'],\n",
       "      dtype='object')"
      ]
     },
     "execution_count": 10,
     "metadata": {},
     "output_type": "execute_result"
    }
   ],
   "source": [
    "app_df.columns[app_df.isna().any()]"
   ]
  },
  {
   "cell_type": "markdown",
   "id": "d204cb55",
   "metadata": {},
   "source": [
    "lets see null values too"
   ]
  },
  {
   "cell_type": "code",
   "execution_count": 11,
   "id": "150293d0",
   "metadata": {},
   "outputs": [
    {
     "data": {
      "text/plain": [
       "COMMONAREA_MEDI             214865\n",
       "COMMONAREA_AVG              214865\n",
       "COMMONAREA_MODE             214865\n",
       "NONLIVINGAPARTMENTS_MEDI    213514\n",
       "NONLIVINGAPARTMENTS_MODE    213514\n",
       "                             ...  \n",
       "EXT_SOURCE_2                   660\n",
       "AMT_GOODS_PRICE                278\n",
       "AMT_ANNUITY                     12\n",
       "CNT_FAM_MEMBERS                  2\n",
       "DAYS_LAST_PHONE_CHANGE           1\n",
       "Length: 67, dtype: int64"
      ]
     },
     "execution_count": 11,
     "metadata": {},
     "output_type": "execute_result"
    }
   ],
   "source": [
    "col_nas = app_df[app_df.columns[app_df.isnull().any()]].isnull().sum()\n",
    "\n",
    "#lets see which columns have most empty values\n",
    "col_nas.sort_values(ascending=False)"
   ]
  },
  {
   "cell_type": "code",
   "execution_count": 12,
   "id": "cce7093e",
   "metadata": {},
   "outputs": [],
   "source": [
    "# lets analyize the column with most empty values first, which is \"COMMONAREA_MEDI\""
   ]
  },
  {
   "cell_type": "code",
   "execution_count": 13,
   "id": "63c6f892",
   "metadata": {},
   "outputs": [
    {
     "data": {
      "text/plain": [
       "count    92646.000000\n",
       "mean         0.044595\n",
       "std          0.076144\n",
       "min          0.000000\n",
       "25%          0.007900\n",
       "50%          0.020800\n",
       "75%          0.051300\n",
       "max          1.000000\n",
       "Name: COMMONAREA_MEDI, dtype: float64"
      ]
     },
     "execution_count": 13,
     "metadata": {},
     "output_type": "execute_result"
    }
   ],
   "source": [
    "app_df[\"COMMONAREA_MEDI\"].describe()"
   ]
  },
  {
   "cell_type": "code",
   "execution_count": 14,
   "id": "20854190",
   "metadata": {},
   "outputs": [
    {
     "data": {
      "text/plain": [
       "(307511,)"
      ]
     },
     "execution_count": 14,
     "metadata": {},
     "output_type": "execute_result"
    }
   ],
   "source": [
    "app_df[\"COMMONAREA_MEDI\"].shape"
   ]
  },
  {
   "cell_type": "markdown",
   "id": "1867578b",
   "metadata": {},
   "source": [
    "<b>Observation:</b>\n",
    "<p>\n",
    "    this column is of type float, and as per the description of this column its a normalized information about various factors like age of building, number of elevators, entrances, state of building, no. of floors etc etc.\n",
    "</p>\n",
    "<p>\n",
    "    In addition, considering this column have empty values 214865 out of 307511 (almost 70%)\n",
    "    so I guess there is no point in keeping this column if its not going to help in analysis that much.\n",
    "</p>"
   ]
  },
  {
   "cell_type": "markdown",
   "id": "25d47d97",
   "metadata": {},
   "source": [
    "<b>As per above observation:</b>\n",
    "<p>\n",
    "    By thinking of pros and cons from above observation, as per my understanding it'll be better if we drop such columns who are derived, are not a golden source of information and have too many empty values\n",
    "</p>"
   ]
  },
  {
   "cell_type": "markdown",
   "id": "6f6bebf2",
   "metadata": {},
   "source": [
    "<b>But this is the situation we saw in single column</b>, Lets try to get idea of more columns before we decide about dropping empty values\n"
   ]
  },
  {
   "cell_type": "code",
   "execution_count": 15,
   "id": "a285b4e6",
   "metadata": {},
   "outputs": [
    {
     "data": {
      "text/plain": [
       "AMT_ANNUITY                    0.003902\n",
       "AMT_GOODS_PRICE                0.090403\n",
       "NAME_TYPE_SUITE                0.420148\n",
       "OWN_CAR_AGE                   65.990810\n",
       "OCCUPATION_TYPE               31.345545\n",
       "                                ...    \n",
       "AMT_REQ_CREDIT_BUREAU_DAY     13.501631\n",
       "AMT_REQ_CREDIT_BUREAU_WEEK    13.501631\n",
       "AMT_REQ_CREDIT_BUREAU_MON     13.501631\n",
       "AMT_REQ_CREDIT_BUREAU_QRT     13.501631\n",
       "AMT_REQ_CREDIT_BUREAU_YEAR    13.501631\n",
       "Length: 67, dtype: float64"
      ]
     },
     "execution_count": 15,
     "metadata": {},
     "output_type": "execute_result"
    }
   ],
   "source": [
    "na_perctg = app_df[app_df.columns[app_df.isnull().any()]].isnull().sum() * 100 / app_df.shape[0]\n",
    "na_perctg"
   ]
  },
  {
   "cell_type": "code",
   "execution_count": 16,
   "id": "e97bc7aa",
   "metadata": {},
   "outputs": [
    {
     "data": {
      "text/plain": [
       "<AxesSubplot:>"
      ]
     },
     "execution_count": 16,
     "metadata": {},
     "output_type": "execute_result"
    },
    {
     "data": {
      "image/png": "[encoded data removed]",
      "text/plain": [
       "<Figure size 1400x200 with 1 Axes>"
      ]
     },
     "metadata": {},
     "output_type": "display_data"
    }
   ],
   "source": [
    "plt.figure(figsize=[14, 2])\n",
    "na_perctg.plot(kind=\"bar\")"
   ]
  },
  {
   "cell_type": "code",
   "execution_count": 17,
   "id": "ba42ccaa",
   "metadata": {},
   "outputs": [
    {
     "data": {
      "text/plain": [
       "count    104582.000000\n",
       "mean         12.061091\n",
       "std          11.944812\n",
       "min           0.000000\n",
       "25%           5.000000\n",
       "50%           9.000000\n",
       "75%          15.000000\n",
       "max          91.000000\n",
       "Name: OWN_CAR_AGE, dtype: float64"
      ]
     },
     "execution_count": 17,
     "metadata": {},
     "output_type": "execute_result"
    }
   ],
   "source": [
    "app_df[\"OWN_CAR_AGE\"].describe()"
   ]
  },
  {
   "cell_type": "code",
   "execution_count": 18,
   "id": "e17d59d9",
   "metadata": {},
   "outputs": [
    {
     "data": {
      "text/plain": [
       "(307511,)"
      ]
     },
     "execution_count": 18,
     "metadata": {},
     "output_type": "execute_result"
    }
   ],
   "source": [
    "app_df[\"OWN_CAR_AGE\"].shape"
   ]
  },
  {
   "cell_type": "markdown",
   "id": "c1a12780",
   "metadata": {},
   "source": [
    "<b>Observation:</b>\n",
    "<p>\n",
    "    After checking above values, we can say many of the columns above having more than 40-50% of percentage of empty values, are deried columns etc, not a golden source of information\n",
    "</p>\n",
    "<p>\n",
    "    Except column like <b>OWN_CAR_AGE</b>, but as that column can be made exception because the empty value of that column too high, <b>66%</b>.\n",
    "</p>"
   ]
  },
  {
   "cell_type": "markdown",
   "id": "6cdcabc1",
   "metadata": {},
   "source": [
    "<b>As per above few observations and due dilligence</b>\n",
    "lets drop columns having empty values more than 40% for now, later if needed more insights we will try to change this and increase percentage"
   ]
  },
  {
   "cell_type": "markdown",
   "id": "0f90a08a",
   "metadata": {},
   "source": [
    "<b>Lets drop columns with empty percentage above 40%</b>"
   ]
  },
  {
   "cell_type": "code",
   "execution_count": 19,
   "id": "62db56fc",
   "metadata": {},
   "outputs": [],
   "source": [
    "app_df = app_df[app_df.columns[app_df.isnull().mean() < 0.4]]"
   ]
  },
  {
   "cell_type": "markdown",
   "id": "9ea49d4b",
   "metadata": {},
   "source": [
    "Lets confirm success of our operation"
   ]
  },
  {
   "cell_type": "code",
   "execution_count": 20,
   "id": "ce508f0e",
   "metadata": {},
   "outputs": [
    {
     "data": {
      "text/plain": [
       "(307511, 73)"
      ]
     },
     "execution_count": 20,
     "metadata": {},
     "output_type": "execute_result"
    }
   ],
   "source": [
    "app_df.shape"
   ]
  },
  {
   "cell_type": "code",
   "execution_count": 21,
   "id": "36178d44",
   "metadata": {},
   "outputs": [
    {
     "data": {
      "text/plain": [
       "SK_ID_CURR                        0\n",
       "TARGET                            0\n",
       "NAME_CONTRACT_TYPE                0\n",
       "CODE_GENDER                       0\n",
       "FLAG_OWN_CAR                      0\n",
       "                              ...  \n",
       "AMT_REQ_CREDIT_BUREAU_DAY     41519\n",
       "AMT_REQ_CREDIT_BUREAU_WEEK    41519\n",
       "AMT_REQ_CREDIT_BUREAU_MON     41519\n",
       "AMT_REQ_CREDIT_BUREAU_QRT     41519\n",
       "AMT_REQ_CREDIT_BUREAU_YEAR    41519\n",
       "Length: 73, dtype: int64"
      ]
     },
     "execution_count": 21,
     "metadata": {},
     "output_type": "execute_result"
    }
   ],
   "source": [
    "app_df.isna().sum()"
   ]
  },
  {
   "cell_type": "code",
   "execution_count": 22,
   "id": "b48e3617",
   "metadata": {},
   "outputs": [
    {
     "data": {
      "text/plain": [
       "<AxesSubplot:>"
      ]
     },
     "execution_count": 22,
     "metadata": {},
     "output_type": "execute_result"
    },
    {
     "data": {
      "image/png": "[encoded data removed]",
      "text/plain": [
       "<Figure size 640x480 with 1 Axes>"
      ]
     },
     "metadata": {},
     "output_type": "display_data"
    }
   ],
   "source": [
    "# Now lets see what and how much columns are remained with empty values, in percentage\n",
    "na_perctg = app_df[app_df.columns[app_df.isnull().any()]].isnull().sum() * 100 / app_df.shape[0]\n",
    "na_perctg.plot.bar()"
   ]
  },
  {
   "cell_type": "code",
   "execution_count": 23,
   "id": "e73bf4ec",
   "metadata": {},
   "outputs": [
    {
     "data": {
      "text/plain": [
       "OCCUPATION_TYPE                96391\n",
       "EXT_SOURCE_3                   60965\n",
       "AMT_REQ_CREDIT_BUREAU_YEAR     41519\n",
       "AMT_REQ_CREDIT_BUREAU_QRT      41519\n",
       "AMT_REQ_CREDIT_BUREAU_MON      41519\n",
       "                               ...  \n",
       "REG_REGION_NOT_LIVE_REGION         0\n",
       "REG_REGION_NOT_WORK_REGION         0\n",
       "LIVE_REGION_NOT_WORK_REGION        0\n",
       "TARGET                             0\n",
       "REG_CITY_NOT_LIVE_CITY             0\n",
       "Length: 73, dtype: int64"
      ]
     },
     "execution_count": 23,
     "metadata": {},
     "output_type": "execute_result"
    }
   ],
   "source": [
    "# Lets see what column have most empty values\n",
    "\n",
    "app_df.isna().sum().sort_values(ascending=False)"
   ]
  },
  {
   "cell_type": "markdown",
   "id": "e8d49db1",
   "metadata": {},
   "source": [
    "Now column with most empty values is <b>OCCUPATION_TYPE</b> column, but as we can guess this column shows occupation of user...\n",
    "So this is important data for analysis, And this is something we can not drop or impute from other columns.\n",
    "So lets keep that column as is, we'll try to tackle any situation if arises later as per future scenario."
   ]
  },
  {
   "cell_type": "code",
   "execution_count": 24,
   "id": "fd2b08af",
   "metadata": {},
   "outputs": [
    {
     "data": {
      "text/html": [
       "<div>\n",
       "<style scoped>\n",
       "    .dataframe tbody tr th:only-of-type {\n",
       "        vertical-align: middle;\n",
       "    }\n",
       "\n",
       "    .dataframe tbody tr th {\n",
       "        vertical-align: top;\n",
       "    }\n",
       "\n",
       "    .dataframe thead th {\n",
       "        text-align: right;\n",
       "    }\n",
       "</style>\n",
       "<table border=\"1\" class=\"dataframe\">\n",
       "  <thead>\n",
       "    <tr style=\"text-align: right;\">\n",
       "      <th></th>\n",
       "      <th>SK_ID_CURR</th>\n",
       "      <th>TARGET</th>\n",
       "      <th>NAME_CONTRACT_TYPE</th>\n",
       "      <th>CODE_GENDER</th>\n",
       "      <th>FLAG_OWN_CAR</th>\n",
       "      <th>FLAG_OWN_REALTY</th>\n",
       "      <th>CNT_CHILDREN</th>\n",
       "      <th>AMT_INCOME_TOTAL</th>\n",
       "      <th>AMT_CREDIT</th>\n",
       "      <th>AMT_ANNUITY</th>\n",
       "      <th>...</th>\n",
       "      <th>FLAG_DOCUMENT_18</th>\n",
       "      <th>FLAG_DOCUMENT_19</th>\n",
       "      <th>FLAG_DOCUMENT_20</th>\n",
       "      <th>FLAG_DOCUMENT_21</th>\n",
       "      <th>AMT_REQ_CREDIT_BUREAU_HOUR</th>\n",
       "      <th>AMT_REQ_CREDIT_BUREAU_DAY</th>\n",
       "      <th>AMT_REQ_CREDIT_BUREAU_WEEK</th>\n",
       "      <th>AMT_REQ_CREDIT_BUREAU_MON</th>\n",
       "      <th>AMT_REQ_CREDIT_BUREAU_QRT</th>\n",
       "      <th>AMT_REQ_CREDIT_BUREAU_YEAR</th>\n",
       "    </tr>\n",
       "  </thead>\n",
       "  <tbody>\n",
       "    <tr>\n",
       "      <th>0</th>\n",
       "      <td>100002</td>\n",
       "      <td>1</td>\n",
       "      <td>Cash loans</td>\n",
       "      <td>M</td>\n",
       "      <td>N</td>\n",
       "      <td>Y</td>\n",
       "      <td>0</td>\n",
       "      <td>202500.0</td>\n",
       "      <td>406597.5</td>\n",
       "      <td>24700.5</td>\n",
       "      <td>...</td>\n",
       "      <td>0</td>\n",
       "      <td>0</td>\n",
       "      <td>0</td>\n",
       "      <td>0</td>\n",
       "      <td>0.0</td>\n",
       "      <td>0.0</td>\n",
       "      <td>0.0</td>\n",
       "      <td>0.0</td>\n",
       "      <td>0.0</td>\n",
       "      <td>1.0</td>\n",
       "    </tr>\n",
       "    <tr>\n",
       "      <th>1</th>\n",
       "      <td>100003</td>\n",
       "      <td>0</td>\n",
       "      <td>Cash loans</td>\n",
       "      <td>F</td>\n",
       "      <td>N</td>\n",
       "      <td>N</td>\n",
       "      <td>0</td>\n",
       "      <td>270000.0</td>\n",
       "      <td>1293502.5</td>\n",
       "      <td>35698.5</td>\n",
       "      <td>...</td>\n",
       "      <td>0</td>\n",
       "      <td>0</td>\n",
       "      <td>0</td>\n",
       "      <td>0</td>\n",
       "      <td>0.0</td>\n",
       "      <td>0.0</td>\n",
       "      <td>0.0</td>\n",
       "      <td>0.0</td>\n",
       "      <td>0.0</td>\n",
       "      <td>0.0</td>\n",
       "    </tr>\n",
       "    <tr>\n",
       "      <th>2</th>\n",
       "      <td>100004</td>\n",
       "      <td>0</td>\n",
       "      <td>Revolving loans</td>\n",
       "      <td>M</td>\n",
       "      <td>Y</td>\n",
       "      <td>Y</td>\n",
       "      <td>0</td>\n",
       "      <td>67500.0</td>\n",
       "      <td>135000.0</td>\n",
       "      <td>6750.0</td>\n",
       "      <td>...</td>\n",
       "      <td>0</td>\n",
       "      <td>0</td>\n",
       "      <td>0</td>\n",
       "      <td>0</td>\n",
       "      <td>0.0</td>\n",
       "      <td>0.0</td>\n",
       "      <td>0.0</td>\n",
       "      <td>0.0</td>\n",
       "      <td>0.0</td>\n",
       "      <td>0.0</td>\n",
       "    </tr>\n",
       "    <tr>\n",
       "      <th>3</th>\n",
       "      <td>100006</td>\n",
       "      <td>0</td>\n",
       "      <td>Cash loans</td>\n",
       "      <td>F</td>\n",
       "      <td>N</td>\n",
       "      <td>Y</td>\n",
       "      <td>0</td>\n",
       "      <td>135000.0</td>\n",
       "      <td>312682.5</td>\n",
       "      <td>29686.5</td>\n",
       "      <td>...</td>\n",
       "      <td>0</td>\n",
       "      <td>0</td>\n",
       "      <td>0</td>\n",
       "      <td>0</td>\n",
       "      <td>NaN</td>\n",
       "      <td>NaN</td>\n",
       "      <td>NaN</td>\n",
       "      <td>NaN</td>\n",
       "      <td>NaN</td>\n",
       "      <td>NaN</td>\n",
       "    </tr>\n",
       "    <tr>\n",
       "      <th>4</th>\n",
       "      <td>100007</td>\n",
       "      <td>0</td>\n",
       "      <td>Cash loans</td>\n",
       "      <td>M</td>\n",
       "      <td>N</td>\n",
       "      <td>Y</td>\n",
       "      <td>0</td>\n",
       "      <td>121500.0</td>\n",
       "      <td>513000.0</td>\n",
       "      <td>21865.5</td>\n",
       "      <td>...</td>\n",
       "      <td>0</td>\n",
       "      <td>0</td>\n",
       "      <td>0</td>\n",
       "      <td>0</td>\n",
       "      <td>0.0</td>\n",
       "      <td>0.0</td>\n",
       "      <td>0.0</td>\n",
       "      <td>0.0</td>\n",
       "      <td>0.0</td>\n",
       "      <td>0.0</td>\n",
       "    </tr>\n",
       "  </tbody>\n",
       "</table>\n",
       "<p>5 rows × 73 columns</p>\n",
       "</div>"
      ],
      "text/plain": [
       "   SK_ID_CURR  TARGET NAME_CONTRACT_TYPE CODE_GENDER FLAG_OWN_CAR  \\\n",
       "0      100002       1         Cash loans           M            N   \n",
       "1      100003       0         Cash loans           F            N   \n",
       "2      100004       0    Revolving loans           M            Y   \n",
       "3      100006       0         Cash loans           F            N   \n",
       "4      100007       0         Cash loans           M            N   \n",
       "\n",
       "  FLAG_OWN_REALTY  CNT_CHILDREN  AMT_INCOME_TOTAL  AMT_CREDIT  AMT_ANNUITY  \\\n",
       "0               Y             0          202500.0    406597.5      24700.5   \n",
       "1               N             0          270000.0   1293502.5      35698.5   \n",
       "2               Y             0           67500.0    135000.0       6750.0   \n",
       "3               Y             0          135000.0    312682.5      29686.5   \n",
       "4               Y             0          121500.0    513000.0      21865.5   \n",
       "\n",
       "   ...  FLAG_DOCUMENT_18 FLAG_DOCUMENT_19 FLAG_DOCUMENT_20 FLAG_DOCUMENT_21  \\\n",
       "0  ...                 0                0                0                0   \n",
       "1  ...                 0                0                0                0   \n",
       "2  ...                 0                0                0                0   \n",
       "3  ...                 0                0                0                0   \n",
       "4  ...                 0                0                0                0   \n",
       "\n",
       "  AMT_REQ_CREDIT_BUREAU_HOUR AMT_REQ_CREDIT_BUREAU_DAY  \\\n",
       "0                        0.0                       0.0   \n",
       "1                        0.0                       0.0   \n",
       "2                        0.0                       0.0   \n",
       "3                        NaN                       NaN   \n",
       "4                        0.0                       0.0   \n",
       "\n",
       "   AMT_REQ_CREDIT_BUREAU_WEEK  AMT_REQ_CREDIT_BUREAU_MON  \\\n",
       "0                         0.0                        0.0   \n",
       "1                         0.0                        0.0   \n",
       "2                         0.0                        0.0   \n",
       "3                         NaN                        NaN   \n",
       "4                         0.0                        0.0   \n",
       "\n",
       "   AMT_REQ_CREDIT_BUREAU_QRT  AMT_REQ_CREDIT_BUREAU_YEAR  \n",
       "0                        0.0                         1.0  \n",
       "1                        0.0                         0.0  \n",
       "2                        0.0                         0.0  \n",
       "3                        NaN                         NaN  \n",
       "4                        0.0                         0.0  \n",
       "\n",
       "[5 rows x 73 columns]"
      ]
     },
     "execution_count": 24,
     "metadata": {},
     "output_type": "execute_result"
    }
   ],
   "source": [
    "app_df.head()"
   ]
  },
  {
   "cell_type": "markdown",
   "id": "1d151b77",
   "metadata": {},
   "source": [
    "<b>Observation:</b>\n",
    "<p>Next most empty value's column in the empty value's bar chart is <b>EXT_SOURCE_3</b> </p>\n",
    "<p>But after checking column description and data, we say this column have no use in analysis. Not with current application data and it have no relation with previous application data as well.</p>\n",
    "<br>\n",
    "<p>Above observation takes us to a another step in investigation, we need to find and remove redundant columns</p>"
   ]
  },
  {
   "cell_type": "markdown",
   "id": "1ff7fb00",
   "metadata": {},
   "source": [
    "### Remove redundant columns"
   ]
  },
  {
   "cell_type": "markdown",
   "id": "1fcc331f",
   "metadata": {},
   "source": [
    "<p>After initial observation of column definitions I can see there are <b>3</b> redundant columns with name pattern \"<b>EXT_SOURCE_*</b>\" and <b>20</b> columns with name pattern \"<b>FLAG_DOCUMENT_*</b>\"</p>\n",
    "<p>As these columns have no use in current application as well as in previous application dataset, lets drop them</p>"
   ]
  },
  {
   "cell_type": "code",
   "execution_count": 25,
   "id": "1b0d5782",
   "metadata": {},
   "outputs": [
    {
     "name": "stdout",
     "output_type": "stream",
     "text": [
      "Index(['SK_ID_CURR', 'TARGET', 'NAME_CONTRACT_TYPE', 'CODE_GENDER',\n",
      "       'FLAG_OWN_CAR', 'FLAG_OWN_REALTY', 'CNT_CHILDREN', 'AMT_INCOME_TOTAL',\n",
      "       'AMT_CREDIT', 'AMT_ANNUITY', 'AMT_GOODS_PRICE', 'NAME_TYPE_SUITE',\n",
      "       'NAME_INCOME_TYPE', 'NAME_EDUCATION_TYPE', 'NAME_FAMILY_STATUS',\n",
      "       'NAME_HOUSING_TYPE', 'REGION_POPULATION_RELATIVE', 'DAYS_BIRTH',\n",
      "       'DAYS_EMPLOYED', 'DAYS_REGISTRATION', 'DAYS_ID_PUBLISH', 'FLAG_MOBIL',\n",
      "       'FLAG_EMP_PHONE', 'FLAG_WORK_PHONE', 'FLAG_CONT_MOBILE', 'FLAG_PHONE',\n",
      "       'FLAG_EMAIL', 'OCCUPATION_TYPE', 'CNT_FAM_MEMBERS',\n",
      "       'REGION_RATING_CLIENT', 'REGION_RATING_CLIENT_W_CITY',\n",
      "       'WEEKDAY_APPR_PROCESS_START', 'HOUR_APPR_PROCESS_START',\n",
      "       'REG_REGION_NOT_LIVE_REGION', 'REG_REGION_NOT_WORK_REGION',\n",
      "       'LIVE_REGION_NOT_WORK_REGION', 'REG_CITY_NOT_LIVE_CITY',\n",
      "       'REG_CITY_NOT_WORK_CITY', 'LIVE_CITY_NOT_WORK_CITY',\n",
      "       'ORGANIZATION_TYPE', 'EXT_SOURCE_2', 'EXT_SOURCE_3',\n",
      "       'OBS_30_CNT_SOCIAL_CIRCLE', 'DEF_30_CNT_SOCIAL_CIRCLE',\n",
      "       'OBS_60_CNT_SOCIAL_CIRCLE', 'DEF_60_CNT_SOCIAL_CIRCLE',\n",
      "       'DAYS_LAST_PHONE_CHANGE', 'FLAG_DOCUMENT_2', 'FLAG_DOCUMENT_3',\n",
      "       'FLAG_DOCUMENT_4', 'FLAG_DOCUMENT_5', 'FLAG_DOCUMENT_6',\n",
      "       'FLAG_DOCUMENT_7', 'FLAG_DOCUMENT_8', 'FLAG_DOCUMENT_9',\n",
      "       'FLAG_DOCUMENT_10', 'FLAG_DOCUMENT_11', 'FLAG_DOCUMENT_12',\n",
      "       'FLAG_DOCUMENT_13', 'FLAG_DOCUMENT_14', 'FLAG_DOCUMENT_15',\n",
      "       'FLAG_DOCUMENT_16', 'FLAG_DOCUMENT_17', 'FLAG_DOCUMENT_18',\n",
      "       'FLAG_DOCUMENT_19', 'FLAG_DOCUMENT_20', 'FLAG_DOCUMENT_21',\n",
      "       'AMT_REQ_CREDIT_BUREAU_HOUR', 'AMT_REQ_CREDIT_BUREAU_DAY',\n",
      "       'AMT_REQ_CREDIT_BUREAU_WEEK', 'AMT_REQ_CREDIT_BUREAU_MON',\n",
      "       'AMT_REQ_CREDIT_BUREAU_QRT', 'AMT_REQ_CREDIT_BUREAU_YEAR'],\n",
      "      dtype='object')\n"
     ]
    }
   ],
   "source": [
    "print(app_df.columns)"
   ]
  },
  {
   "cell_type": "code",
   "execution_count": 26,
   "id": "14cb71f7",
   "metadata": {},
   "outputs": [
    {
     "name": "stdout",
     "output_type": "stream",
     "text": [
      "['EXT_SOURCE_2', 'EXT_SOURCE_3']\n"
     ]
    }
   ],
   "source": [
    "# lets first validate our regex, so we do not remove unwanted columns\n",
    "ext_source_cols = list(app_df.filter(regex='EXT_SOURCE_*'))\n",
    "print(ext_source_cols)"
   ]
  },
  {
   "cell_type": "markdown",
   "id": "c8fd3fd3",
   "metadata": {},
   "source": [
    "<p>Above command returned 2 \"EXT_SOURCE_*\" columns, because as we can see in above all column's list, \"EXT_SOURCE_1\" column was already removed in earlier cleanups</p>"
   ]
  },
  {
   "cell_type": "code",
   "execution_count": 27,
   "id": "f285e82c",
   "metadata": {},
   "outputs": [
    {
     "name": "stdout",
     "output_type": "stream",
     "text": [
      "['FLAG_DOCUMENT_2', 'FLAG_DOCUMENT_3', 'FLAG_DOCUMENT_4', 'FLAG_DOCUMENT_5', 'FLAG_DOCUMENT_6', 'FLAG_DOCUMENT_7', 'FLAG_DOCUMENT_8', 'FLAG_DOCUMENT_9', 'FLAG_DOCUMENT_10', 'FLAG_DOCUMENT_11', 'FLAG_DOCUMENT_12', 'FLAG_DOCUMENT_13', 'FLAG_DOCUMENT_14', 'FLAG_DOCUMENT_15', 'FLAG_DOCUMENT_16', 'FLAG_DOCUMENT_17', 'FLAG_DOCUMENT_18', 'FLAG_DOCUMENT_19', 'FLAG_DOCUMENT_20', 'FLAG_DOCUMENT_21']\n",
      "Total flag document columns are:  20\n"
     ]
    }
   ],
   "source": [
    "# lets check \"FLAG_DOCUMENT_*\"\n",
    "flag_doc_cols = list(app_df.filter(regex='FLAG_DOCUMENT_*'))\n",
    "print(flag_doc_cols)\n",
    "print(\"Total flag document columns are: \", len(flag_doc_cols))"
   ]
  },
  {
   "cell_type": "code",
   "execution_count": 28,
   "id": "dca16522",
   "metadata": {},
   "outputs": [],
   "source": [
    "# lets get rid of these ext_source and flag_doc columns\n",
    "\n",
    "app_df.drop(columns=ext_source_cols, inplace=True)\n",
    "app_df.drop(columns=flag_doc_cols, inplace=True)"
   ]
  },
  {
   "cell_type": "code",
   "execution_count": 29,
   "id": "174ff08d",
   "metadata": {},
   "outputs": [
    {
     "name": "stdout",
     "output_type": "stream",
     "text": [
      "Index(['SK_ID_CURR', 'TARGET', 'NAME_CONTRACT_TYPE', 'CODE_GENDER',\n",
      "       'FLAG_OWN_CAR', 'FLAG_OWN_REALTY', 'CNT_CHILDREN', 'AMT_INCOME_TOTAL',\n",
      "       'AMT_CREDIT', 'AMT_ANNUITY', 'AMT_GOODS_PRICE', 'NAME_TYPE_SUITE',\n",
      "       'NAME_INCOME_TYPE', 'NAME_EDUCATION_TYPE', 'NAME_FAMILY_STATUS',\n",
      "       'NAME_HOUSING_TYPE', 'REGION_POPULATION_RELATIVE', 'DAYS_BIRTH',\n",
      "       'DAYS_EMPLOYED', 'DAYS_REGISTRATION', 'DAYS_ID_PUBLISH', 'FLAG_MOBIL',\n",
      "       'FLAG_EMP_PHONE', 'FLAG_WORK_PHONE', 'FLAG_CONT_MOBILE', 'FLAG_PHONE',\n",
      "       'FLAG_EMAIL', 'OCCUPATION_TYPE', 'CNT_FAM_MEMBERS',\n",
      "       'REGION_RATING_CLIENT', 'REGION_RATING_CLIENT_W_CITY',\n",
      "       'WEEKDAY_APPR_PROCESS_START', 'HOUR_APPR_PROCESS_START',\n",
      "       'REG_REGION_NOT_LIVE_REGION', 'REG_REGION_NOT_WORK_REGION',\n",
      "       'LIVE_REGION_NOT_WORK_REGION', 'REG_CITY_NOT_LIVE_CITY',\n",
      "       'REG_CITY_NOT_WORK_CITY', 'LIVE_CITY_NOT_WORK_CITY',\n",
      "       'ORGANIZATION_TYPE', 'OBS_30_CNT_SOCIAL_CIRCLE',\n",
      "       'DEF_30_CNT_SOCIAL_CIRCLE', 'OBS_60_CNT_SOCIAL_CIRCLE',\n",
      "       'DEF_60_CNT_SOCIAL_CIRCLE', 'DAYS_LAST_PHONE_CHANGE',\n",
      "       'AMT_REQ_CREDIT_BUREAU_HOUR', 'AMT_REQ_CREDIT_BUREAU_DAY',\n",
      "       'AMT_REQ_CREDIT_BUREAU_WEEK', 'AMT_REQ_CREDIT_BUREAU_MON',\n",
      "       'AMT_REQ_CREDIT_BUREAU_QRT', 'AMT_REQ_CREDIT_BUREAU_YEAR'],\n",
      "      dtype='object')\n"
     ]
    }
   ],
   "source": [
    "# lets verify\n",
    "print(app_df.columns)"
   ]
  },
  {
   "cell_type": "code",
   "execution_count": 30,
   "id": "659d093a",
   "metadata": {},
   "outputs": [
    {
     "data": {
      "text/html": [
       "<div>\n",
       "<style scoped>\n",
       "    .dataframe tbody tr th:only-of-type {\n",
       "        vertical-align: middle;\n",
       "    }\n",
       "\n",
       "    .dataframe tbody tr th {\n",
       "        vertical-align: top;\n",
       "    }\n",
       "\n",
       "    .dataframe thead th {\n",
       "        text-align: right;\n",
       "    }\n",
       "</style>\n",
       "<table border=\"1\" class=\"dataframe\">\n",
       "  <thead>\n",
       "    <tr style=\"text-align: right;\">\n",
       "      <th></th>\n",
       "      <th>SK_ID_CURR</th>\n",
       "      <th>TARGET</th>\n",
       "      <th>NAME_CONTRACT_TYPE</th>\n",
       "      <th>CODE_GENDER</th>\n",
       "      <th>FLAG_OWN_CAR</th>\n",
       "      <th>FLAG_OWN_REALTY</th>\n",
       "      <th>CNT_CHILDREN</th>\n",
       "      <th>AMT_INCOME_TOTAL</th>\n",
       "      <th>AMT_CREDIT</th>\n",
       "      <th>AMT_ANNUITY</th>\n",
       "      <th>...</th>\n",
       "      <th>DEF_30_CNT_SOCIAL_CIRCLE</th>\n",
       "      <th>OBS_60_CNT_SOCIAL_CIRCLE</th>\n",
       "      <th>DEF_60_CNT_SOCIAL_CIRCLE</th>\n",
       "      <th>DAYS_LAST_PHONE_CHANGE</th>\n",
       "      <th>AMT_REQ_CREDIT_BUREAU_HOUR</th>\n",
       "      <th>AMT_REQ_CREDIT_BUREAU_DAY</th>\n",
       "      <th>AMT_REQ_CREDIT_BUREAU_WEEK</th>\n",
       "      <th>AMT_REQ_CREDIT_BUREAU_MON</th>\n",
       "      <th>AMT_REQ_CREDIT_BUREAU_QRT</th>\n",
       "      <th>AMT_REQ_CREDIT_BUREAU_YEAR</th>\n",
       "    </tr>\n",
       "  </thead>\n",
       "  <tbody>\n",
       "    <tr>\n",
       "      <th>0</th>\n",
       "      <td>100002</td>\n",
       "      <td>1</td>\n",
       "      <td>Cash loans</td>\n",
       "      <td>M</td>\n",
       "      <td>N</td>\n",
       "      <td>Y</td>\n",
       "      <td>0</td>\n",
       "      <td>202500.0</td>\n",
       "      <td>406597.5</td>\n",
       "      <td>24700.5</td>\n",
       "      <td>...</td>\n",
       "      <td>2.0</td>\n",
       "      <td>2.0</td>\n",
       "      <td>2.0</td>\n",
       "      <td>-1134.0</td>\n",
       "      <td>0.0</td>\n",
       "      <td>0.0</td>\n",
       "      <td>0.0</td>\n",
       "      <td>0.0</td>\n",
       "      <td>0.0</td>\n",
       "      <td>1.0</td>\n",
       "    </tr>\n",
       "    <tr>\n",
       "      <th>1</th>\n",
       "      <td>100003</td>\n",
       "      <td>0</td>\n",
       "      <td>Cash loans</td>\n",
       "      <td>F</td>\n",
       "      <td>N</td>\n",
       "      <td>N</td>\n",
       "      <td>0</td>\n",
       "      <td>270000.0</td>\n",
       "      <td>1293502.5</td>\n",
       "      <td>35698.5</td>\n",
       "      <td>...</td>\n",
       "      <td>0.0</td>\n",
       "      <td>1.0</td>\n",
       "      <td>0.0</td>\n",
       "      <td>-828.0</td>\n",
       "      <td>0.0</td>\n",
       "      <td>0.0</td>\n",
       "      <td>0.0</td>\n",
       "      <td>0.0</td>\n",
       "      <td>0.0</td>\n",
       "      <td>0.0</td>\n",
       "    </tr>\n",
       "    <tr>\n",
       "      <th>2</th>\n",
       "      <td>100004</td>\n",
       "      <td>0</td>\n",
       "      <td>Revolving loans</td>\n",
       "      <td>M</td>\n",
       "      <td>Y</td>\n",
       "      <td>Y</td>\n",
       "      <td>0</td>\n",
       "      <td>67500.0</td>\n",
       "      <td>135000.0</td>\n",
       "      <td>6750.0</td>\n",
       "      <td>...</td>\n",
       "      <td>0.0</td>\n",
       "      <td>0.0</td>\n",
       "      <td>0.0</td>\n",
       "      <td>-815.0</td>\n",
       "      <td>0.0</td>\n",
       "      <td>0.0</td>\n",
       "      <td>0.0</td>\n",
       "      <td>0.0</td>\n",
       "      <td>0.0</td>\n",
       "      <td>0.0</td>\n",
       "    </tr>\n",
       "    <tr>\n",
       "      <th>3</th>\n",
       "      <td>100006</td>\n",
       "      <td>0</td>\n",
       "      <td>Cash loans</td>\n",
       "      <td>F</td>\n",
       "      <td>N</td>\n",
       "      <td>Y</td>\n",
       "      <td>0</td>\n",
       "      <td>135000.0</td>\n",
       "      <td>312682.5</td>\n",
       "      <td>29686.5</td>\n",
       "      <td>...</td>\n",
       "      <td>0.0</td>\n",
       "      <td>2.0</td>\n",
       "      <td>0.0</td>\n",
       "      <td>-617.0</td>\n",
       "      <td>NaN</td>\n",
       "      <td>NaN</td>\n",
       "      <td>NaN</td>\n",
       "      <td>NaN</td>\n",
       "      <td>NaN</td>\n",
       "      <td>NaN</td>\n",
       "    </tr>\n",
       "    <tr>\n",
       "      <th>4</th>\n",
       "      <td>100007</td>\n",
       "      <td>0</td>\n",
       "      <td>Cash loans</td>\n",
       "      <td>M</td>\n",
       "      <td>N</td>\n",
       "      <td>Y</td>\n",
       "      <td>0</td>\n",
       "      <td>121500.0</td>\n",
       "      <td>513000.0</td>\n",
       "      <td>21865.5</td>\n",
       "      <td>...</td>\n",
       "      <td>0.0</td>\n",
       "      <td>0.0</td>\n",
       "      <td>0.0</td>\n",
       "      <td>-1106.0</td>\n",
       "      <td>0.0</td>\n",
       "      <td>0.0</td>\n",
       "      <td>0.0</td>\n",
       "      <td>0.0</td>\n",
       "      <td>0.0</td>\n",
       "      <td>0.0</td>\n",
       "    </tr>\n",
       "  </tbody>\n",
       "</table>\n",
       "<p>5 rows × 51 columns</p>\n",
       "</div>"
      ],
      "text/plain": [
       "   SK_ID_CURR  TARGET NAME_CONTRACT_TYPE CODE_GENDER FLAG_OWN_CAR  \\\n",
       "0      100002       1         Cash loans           M            N   \n",
       "1      100003       0         Cash loans           F            N   \n",
       "2      100004       0    Revolving loans           M            Y   \n",
       "3      100006       0         Cash loans           F            N   \n",
       "4      100007       0         Cash loans           M            N   \n",
       "\n",
       "  FLAG_OWN_REALTY  CNT_CHILDREN  AMT_INCOME_TOTAL  AMT_CREDIT  AMT_ANNUITY  \\\n",
       "0               Y             0          202500.0    406597.5      24700.5   \n",
       "1               N             0          270000.0   1293502.5      35698.5   \n",
       "2               Y             0           67500.0    135000.0       6750.0   \n",
       "3               Y             0          135000.0    312682.5      29686.5   \n",
       "4               Y             0          121500.0    513000.0      21865.5   \n",
       "\n",
       "   ...  DEF_30_CNT_SOCIAL_CIRCLE OBS_60_CNT_SOCIAL_CIRCLE  \\\n",
       "0  ...                       2.0                      2.0   \n",
       "1  ...                       0.0                      1.0   \n",
       "2  ...                       0.0                      0.0   \n",
       "3  ...                       0.0                      2.0   \n",
       "4  ...                       0.0                      0.0   \n",
       "\n",
       "  DEF_60_CNT_SOCIAL_CIRCLE DAYS_LAST_PHONE_CHANGE AMT_REQ_CREDIT_BUREAU_HOUR  \\\n",
       "0                      2.0                -1134.0                        0.0   \n",
       "1                      0.0                 -828.0                        0.0   \n",
       "2                      0.0                 -815.0                        0.0   \n",
       "3                      0.0                 -617.0                        NaN   \n",
       "4                      0.0                -1106.0                        0.0   \n",
       "\n",
       "  AMT_REQ_CREDIT_BUREAU_DAY  AMT_REQ_CREDIT_BUREAU_WEEK  \\\n",
       "0                       0.0                         0.0   \n",
       "1                       0.0                         0.0   \n",
       "2                       0.0                         0.0   \n",
       "3                       NaN                         NaN   \n",
       "4                       0.0                         0.0   \n",
       "\n",
       "   AMT_REQ_CREDIT_BUREAU_MON  AMT_REQ_CREDIT_BUREAU_QRT  \\\n",
       "0                        0.0                        0.0   \n",
       "1                        0.0                        0.0   \n",
       "2                        0.0                        0.0   \n",
       "3                        NaN                        NaN   \n",
       "4                        0.0                        0.0   \n",
       "\n",
       "   AMT_REQ_CREDIT_BUREAU_YEAR  \n",
       "0                         1.0  \n",
       "1                         0.0  \n",
       "2                         0.0  \n",
       "3                         NaN  \n",
       "4                         0.0  \n",
       "\n",
       "[5 rows x 51 columns]"
      ]
     },
     "execution_count": 30,
     "metadata": {},
     "output_type": "execute_result"
    }
   ],
   "source": [
    "app_df.head()"
   ]
  },
  {
   "cell_type": "code",
   "execution_count": 31,
   "id": "3f947faa",
   "metadata": {},
   "outputs": [
    {
     "data": {
      "text/plain": [
       "SK_ID_CURR                         0\n",
       "TARGET                             0\n",
       "NAME_CONTRACT_TYPE                 0\n",
       "CODE_GENDER                        0\n",
       "FLAG_OWN_CAR                       0\n",
       "FLAG_OWN_REALTY                    0\n",
       "CNT_CHILDREN                       0\n",
       "AMT_INCOME_TOTAL                   0\n",
       "AMT_CREDIT                         0\n",
       "AMT_ANNUITY                       12\n",
       "AMT_GOODS_PRICE                  278\n",
       "NAME_TYPE_SUITE                 1292\n",
       "NAME_INCOME_TYPE                   0\n",
       "NAME_EDUCATION_TYPE                0\n",
       "NAME_FAMILY_STATUS                 0\n",
       "NAME_HOUSING_TYPE                  0\n",
       "REGION_POPULATION_RELATIVE         0\n",
       "DAYS_BIRTH                         0\n",
       "DAYS_EMPLOYED                      0\n",
       "DAYS_REGISTRATION                  0\n",
       "DAYS_ID_PUBLISH                    0\n",
       "FLAG_MOBIL                         0\n",
       "FLAG_EMP_PHONE                     0\n",
       "FLAG_WORK_PHONE                    0\n",
       "FLAG_CONT_MOBILE                   0\n",
       "FLAG_PHONE                         0\n",
       "FLAG_EMAIL                         0\n",
       "OCCUPATION_TYPE                96391\n",
       "CNT_FAM_MEMBERS                    2\n",
       "REGION_RATING_CLIENT               0\n",
       "REGION_RATING_CLIENT_W_CITY        0\n",
       "WEEKDAY_APPR_PROCESS_START         0\n",
       "HOUR_APPR_PROCESS_START            0\n",
       "REG_REGION_NOT_LIVE_REGION         0\n",
       "REG_REGION_NOT_WORK_REGION         0\n",
       "LIVE_REGION_NOT_WORK_REGION        0\n",
       "REG_CITY_NOT_LIVE_CITY             0\n",
       "REG_CITY_NOT_WORK_CITY             0\n",
       "LIVE_CITY_NOT_WORK_CITY            0\n",
       "ORGANIZATION_TYPE                  0\n",
       "OBS_30_CNT_SOCIAL_CIRCLE        1021\n",
       "DEF_30_CNT_SOCIAL_CIRCLE        1021\n",
       "OBS_60_CNT_SOCIAL_CIRCLE        1021\n",
       "DEF_60_CNT_SOCIAL_CIRCLE        1021\n",
       "DAYS_LAST_PHONE_CHANGE             1\n",
       "AMT_REQ_CREDIT_BUREAU_HOUR     41519\n",
       "AMT_REQ_CREDIT_BUREAU_DAY      41519\n",
       "AMT_REQ_CREDIT_BUREAU_WEEK     41519\n",
       "AMT_REQ_CREDIT_BUREAU_MON      41519\n",
       "AMT_REQ_CREDIT_BUREAU_QRT      41519\n",
       "AMT_REQ_CREDIT_BUREAU_YEAR     41519\n",
       "dtype: int64"
      ]
     },
     "execution_count": 31,
     "metadata": {},
     "output_type": "execute_result"
    }
   ],
   "source": [
    "# lets see how many missing value columns remained to be treated\n",
    "app_df.isna().sum()"
   ]
  },
  {
   "cell_type": "markdown",
   "id": "21a80956",
   "metadata": {},
   "source": [
    "Lets check \"AMT_ANNUITY\""
   ]
  },
  {
   "cell_type": "code",
   "execution_count": 32,
   "id": "45544182",
   "metadata": {},
   "outputs": [
    {
     "data": {
      "text/plain": [
       "0    24700.5\n",
       "1    35698.5\n",
       "2     6750.0\n",
       "3    29686.5\n",
       "4    21865.5\n",
       "Name: AMT_ANNUITY, dtype: float64"
      ]
     },
     "execution_count": 32,
     "metadata": {},
     "output_type": "execute_result"
    }
   ],
   "source": [
    "app_df.AMT_ANNUITY.head()"
   ]
  },
  {
   "cell_type": "code",
   "execution_count": 33,
   "id": "5237689b",
   "metadata": {},
   "outputs": [
    {
     "data": {
      "text/html": [
       "<div>\n",
       "<style scoped>\n",
       "    .dataframe tbody tr th:only-of-type {\n",
       "        vertical-align: middle;\n",
       "    }\n",
       "\n",
       "    .dataframe tbody tr th {\n",
       "        vertical-align: top;\n",
       "    }\n",
       "\n",
       "    .dataframe thead th {\n",
       "        text-align: right;\n",
       "    }\n",
       "</style>\n",
       "<table border=\"1\" class=\"dataframe\">\n",
       "  <thead>\n",
       "    <tr style=\"text-align: right;\">\n",
       "      <th></th>\n",
       "      <th>SK_ID_CURR</th>\n",
       "      <th>TARGET</th>\n",
       "      <th>NAME_CONTRACT_TYPE</th>\n",
       "      <th>CODE_GENDER</th>\n",
       "      <th>FLAG_OWN_CAR</th>\n",
       "      <th>FLAG_OWN_REALTY</th>\n",
       "      <th>CNT_CHILDREN</th>\n",
       "      <th>AMT_INCOME_TOTAL</th>\n",
       "      <th>AMT_CREDIT</th>\n",
       "      <th>AMT_ANNUITY</th>\n",
       "      <th>...</th>\n",
       "      <th>DEF_30_CNT_SOCIAL_CIRCLE</th>\n",
       "      <th>OBS_60_CNT_SOCIAL_CIRCLE</th>\n",
       "      <th>DEF_60_CNT_SOCIAL_CIRCLE</th>\n",
       "      <th>DAYS_LAST_PHONE_CHANGE</th>\n",
       "      <th>AMT_REQ_CREDIT_BUREAU_HOUR</th>\n",
       "      <th>AMT_REQ_CREDIT_BUREAU_DAY</th>\n",
       "      <th>AMT_REQ_CREDIT_BUREAU_WEEK</th>\n",
       "      <th>AMT_REQ_CREDIT_BUREAU_MON</th>\n",
       "      <th>AMT_REQ_CREDIT_BUREAU_QRT</th>\n",
       "      <th>AMT_REQ_CREDIT_BUREAU_YEAR</th>\n",
       "    </tr>\n",
       "  </thead>\n",
       "  <tbody>\n",
       "    <tr>\n",
       "      <th>47531</th>\n",
       "      <td>155054</td>\n",
       "      <td>0</td>\n",
       "      <td>Cash loans</td>\n",
       "      <td>M</td>\n",
       "      <td>N</td>\n",
       "      <td>N</td>\n",
       "      <td>0</td>\n",
       "      <td>180000.0</td>\n",
       "      <td>450000.0</td>\n",
       "      <td>NaN</td>\n",
       "      <td>...</td>\n",
       "      <td>0.0</td>\n",
       "      <td>1.0</td>\n",
       "      <td>0.0</td>\n",
       "      <td>-2.0</td>\n",
       "      <td>0.0</td>\n",
       "      <td>0.0</td>\n",
       "      <td>0.0</td>\n",
       "      <td>0.0</td>\n",
       "      <td>1.0</td>\n",
       "      <td>1.0</td>\n",
       "    </tr>\n",
       "    <tr>\n",
       "      <th>50035</th>\n",
       "      <td>157917</td>\n",
       "      <td>0</td>\n",
       "      <td>Cash loans</td>\n",
       "      <td>F</td>\n",
       "      <td>N</td>\n",
       "      <td>N</td>\n",
       "      <td>0</td>\n",
       "      <td>94500.0</td>\n",
       "      <td>450000.0</td>\n",
       "      <td>NaN</td>\n",
       "      <td>...</td>\n",
       "      <td>0.0</td>\n",
       "      <td>0.0</td>\n",
       "      <td>0.0</td>\n",
       "      <td>-706.0</td>\n",
       "      <td>0.0</td>\n",
       "      <td>0.0</td>\n",
       "      <td>0.0</td>\n",
       "      <td>1.0</td>\n",
       "      <td>0.0</td>\n",
       "      <td>1.0</td>\n",
       "    </tr>\n",
       "    <tr>\n",
       "      <th>51594</th>\n",
       "      <td>159744</td>\n",
       "      <td>0</td>\n",
       "      <td>Cash loans</td>\n",
       "      <td>F</td>\n",
       "      <td>N</td>\n",
       "      <td>N</td>\n",
       "      <td>0</td>\n",
       "      <td>202500.0</td>\n",
       "      <td>539100.0</td>\n",
       "      <td>NaN</td>\n",
       "      <td>...</td>\n",
       "      <td>0.0</td>\n",
       "      <td>1.0</td>\n",
       "      <td>0.0</td>\n",
       "      <td>-199.0</td>\n",
       "      <td>0.0</td>\n",
       "      <td>0.0</td>\n",
       "      <td>0.0</td>\n",
       "      <td>1.0</td>\n",
       "      <td>0.0</td>\n",
       "      <td>1.0</td>\n",
       "    </tr>\n",
       "    <tr>\n",
       "      <th>55025</th>\n",
       "      <td>163757</td>\n",
       "      <td>0</td>\n",
       "      <td>Cash loans</td>\n",
       "      <td>F</td>\n",
       "      <td>N</td>\n",
       "      <td>N</td>\n",
       "      <td>0</td>\n",
       "      <td>162000.0</td>\n",
       "      <td>296280.0</td>\n",
       "      <td>NaN</td>\n",
       "      <td>...</td>\n",
       "      <td>0.0</td>\n",
       "      <td>0.0</td>\n",
       "      <td>0.0</td>\n",
       "      <td>-2841.0</td>\n",
       "      <td>0.0</td>\n",
       "      <td>0.0</td>\n",
       "      <td>0.0</td>\n",
       "      <td>1.0</td>\n",
       "      <td>0.0</td>\n",
       "      <td>4.0</td>\n",
       "    </tr>\n",
       "    <tr>\n",
       "      <th>59934</th>\n",
       "      <td>169487</td>\n",
       "      <td>0</td>\n",
       "      <td>Cash loans</td>\n",
       "      <td>M</td>\n",
       "      <td>Y</td>\n",
       "      <td>N</td>\n",
       "      <td>0</td>\n",
       "      <td>202500.0</td>\n",
       "      <td>360000.0</td>\n",
       "      <td>NaN</td>\n",
       "      <td>...</td>\n",
       "      <td>0.0</td>\n",
       "      <td>0.0</td>\n",
       "      <td>0.0</td>\n",
       "      <td>-743.0</td>\n",
       "      <td>0.0</td>\n",
       "      <td>0.0</td>\n",
       "      <td>1.0</td>\n",
       "      <td>0.0</td>\n",
       "      <td>0.0</td>\n",
       "      <td>6.0</td>\n",
       "    </tr>\n",
       "    <tr>\n",
       "      <th>75873</th>\n",
       "      <td>187985</td>\n",
       "      <td>0</td>\n",
       "      <td>Cash loans</td>\n",
       "      <td>M</td>\n",
       "      <td>Y</td>\n",
       "      <td>N</td>\n",
       "      <td>0</td>\n",
       "      <td>144000.0</td>\n",
       "      <td>219249.0</td>\n",
       "      <td>NaN</td>\n",
       "      <td>...</td>\n",
       "      <td>0.0</td>\n",
       "      <td>0.0</td>\n",
       "      <td>0.0</td>\n",
       "      <td>-1986.0</td>\n",
       "      <td>0.0</td>\n",
       "      <td>0.0</td>\n",
       "      <td>0.0</td>\n",
       "      <td>0.0</td>\n",
       "      <td>0.0</td>\n",
       "      <td>11.0</td>\n",
       "    </tr>\n",
       "    <tr>\n",
       "      <th>89343</th>\n",
       "      <td>203726</td>\n",
       "      <td>0</td>\n",
       "      <td>Cash loans</td>\n",
       "      <td>F</td>\n",
       "      <td>Y</td>\n",
       "      <td>N</td>\n",
       "      <td>0</td>\n",
       "      <td>90000.0</td>\n",
       "      <td>157500.0</td>\n",
       "      <td>NaN</td>\n",
       "      <td>...</td>\n",
       "      <td>0.0</td>\n",
       "      <td>0.0</td>\n",
       "      <td>0.0</td>\n",
       "      <td>-348.0</td>\n",
       "      <td>0.0</td>\n",
       "      <td>0.0</td>\n",
       "      <td>0.0</td>\n",
       "      <td>2.0</td>\n",
       "      <td>0.0</td>\n",
       "      <td>0.0</td>\n",
       "    </tr>\n",
       "    <tr>\n",
       "      <th>123872</th>\n",
       "      <td>243648</td>\n",
       "      <td>0</td>\n",
       "      <td>Cash loans</td>\n",
       "      <td>F</td>\n",
       "      <td>N</td>\n",
       "      <td>Y</td>\n",
       "      <td>0</td>\n",
       "      <td>202500.0</td>\n",
       "      <td>929088.0</td>\n",
       "      <td>NaN</td>\n",
       "      <td>...</td>\n",
       "      <td>0.0</td>\n",
       "      <td>0.0</td>\n",
       "      <td>0.0</td>\n",
       "      <td>-1331.0</td>\n",
       "      <td>0.0</td>\n",
       "      <td>0.0</td>\n",
       "      <td>0.0</td>\n",
       "      <td>0.0</td>\n",
       "      <td>1.0</td>\n",
       "      <td>5.0</td>\n",
       "    </tr>\n",
       "    <tr>\n",
       "      <th>207186</th>\n",
       "      <td>340147</td>\n",
       "      <td>0</td>\n",
       "      <td>Cash loans</td>\n",
       "      <td>M</td>\n",
       "      <td>N</td>\n",
       "      <td>N</td>\n",
       "      <td>0</td>\n",
       "      <td>171000.0</td>\n",
       "      <td>486000.0</td>\n",
       "      <td>NaN</td>\n",
       "      <td>...</td>\n",
       "      <td>0.0</td>\n",
       "      <td>0.0</td>\n",
       "      <td>0.0</td>\n",
       "      <td>-295.0</td>\n",
       "      <td>0.0</td>\n",
       "      <td>0.0</td>\n",
       "      <td>1.0</td>\n",
       "      <td>1.0</td>\n",
       "      <td>0.0</td>\n",
       "      <td>2.0</td>\n",
       "    </tr>\n",
       "    <tr>\n",
       "      <th>227939</th>\n",
       "      <td>364022</td>\n",
       "      <td>0</td>\n",
       "      <td>Cash loans</td>\n",
       "      <td>F</td>\n",
       "      <td>N</td>\n",
       "      <td>Y</td>\n",
       "      <td>0</td>\n",
       "      <td>315000.0</td>\n",
       "      <td>628069.5</td>\n",
       "      <td>NaN</td>\n",
       "      <td>...</td>\n",
       "      <td>0.0</td>\n",
       "      <td>1.0</td>\n",
       "      <td>0.0</td>\n",
       "      <td>-1255.0</td>\n",
       "      <td>0.0</td>\n",
       "      <td>0.0</td>\n",
       "      <td>1.0</td>\n",
       "      <td>0.0</td>\n",
       "      <td>0.0</td>\n",
       "      <td>2.0</td>\n",
       "    </tr>\n",
       "    <tr>\n",
       "      <th>239329</th>\n",
       "      <td>377174</td>\n",
       "      <td>0</td>\n",
       "      <td>Cash loans</td>\n",
       "      <td>F</td>\n",
       "      <td>N</td>\n",
       "      <td>Y</td>\n",
       "      <td>0</td>\n",
       "      <td>157500.0</td>\n",
       "      <td>792000.0</td>\n",
       "      <td>NaN</td>\n",
       "      <td>...</td>\n",
       "      <td>0.0</td>\n",
       "      <td>0.0</td>\n",
       "      <td>0.0</td>\n",
       "      <td>-322.0</td>\n",
       "      <td>0.0</td>\n",
       "      <td>0.0</td>\n",
       "      <td>0.0</td>\n",
       "      <td>0.0</td>\n",
       "      <td>1.0</td>\n",
       "      <td>1.0</td>\n",
       "    </tr>\n",
       "    <tr>\n",
       "      <th>241835</th>\n",
       "      <td>379997</td>\n",
       "      <td>0</td>\n",
       "      <td>Cash loans</td>\n",
       "      <td>F</td>\n",
       "      <td>N</td>\n",
       "      <td>N</td>\n",
       "      <td>0</td>\n",
       "      <td>315000.0</td>\n",
       "      <td>1483231.5</td>\n",
       "      <td>NaN</td>\n",
       "      <td>...</td>\n",
       "      <td>0.0</td>\n",
       "      <td>0.0</td>\n",
       "      <td>0.0</td>\n",
       "      <td>-504.0</td>\n",
       "      <td>NaN</td>\n",
       "      <td>NaN</td>\n",
       "      <td>NaN</td>\n",
       "      <td>NaN</td>\n",
       "      <td>NaN</td>\n",
       "      <td>NaN</td>\n",
       "    </tr>\n",
       "  </tbody>\n",
       "</table>\n",
       "<p>12 rows × 51 columns</p>\n",
       "</div>"
      ],
      "text/plain": [
       "        SK_ID_CURR  TARGET NAME_CONTRACT_TYPE CODE_GENDER FLAG_OWN_CAR  \\\n",
       "47531       155054       0         Cash loans           M            N   \n",
       "50035       157917       0         Cash loans           F            N   \n",
       "51594       159744       0         Cash loans           F            N   \n",
       "55025       163757       0         Cash loans           F            N   \n",
       "59934       169487       0         Cash loans           M            Y   \n",
       "75873       187985       0         Cash loans           M            Y   \n",
       "89343       203726       0         Cash loans           F            Y   \n",
       "123872      243648       0         Cash loans           F            N   \n",
       "207186      340147       0         Cash loans           M            N   \n",
       "227939      364022       0         Cash loans           F            N   \n",
       "239329      377174       0         Cash loans           F            N   \n",
       "241835      379997       0         Cash loans           F            N   \n",
       "\n",
       "       FLAG_OWN_REALTY  CNT_CHILDREN  AMT_INCOME_TOTAL  AMT_CREDIT  \\\n",
       "47531                N             0          180000.0    450000.0   \n",
       "50035                N             0           94500.0    450000.0   \n",
       "51594                N             0          202500.0    539100.0   \n",
       "55025                N             0          162000.0    296280.0   \n",
       "59934                N             0          202500.0    360000.0   \n",
       "75873                N             0          144000.0    219249.0   \n",
       "89343                N             0           90000.0    157500.0   \n",
       "123872               Y             0          202500.0    929088.0   \n",
       "207186               N             0          171000.0    486000.0   \n",
       "227939               Y             0          315000.0    628069.5   \n",
       "239329               Y             0          157500.0    792000.0   \n",
       "241835               N             0          315000.0   1483231.5   \n",
       "\n",
       "        AMT_ANNUITY  ...  DEF_30_CNT_SOCIAL_CIRCLE OBS_60_CNT_SOCIAL_CIRCLE  \\\n",
       "47531           NaN  ...                       0.0                      1.0   \n",
       "50035           NaN  ...                       0.0                      0.0   \n",
       "51594           NaN  ...                       0.0                      1.0   \n",
       "55025           NaN  ...                       0.0                      0.0   \n",
       "59934           NaN  ...                       0.0                      0.0   \n",
       "75873           NaN  ...                       0.0                      0.0   \n",
       "89343           NaN  ...                       0.0                      0.0   \n",
       "123872          NaN  ...                       0.0                      0.0   \n",
       "207186          NaN  ...                       0.0                      0.0   \n",
       "227939          NaN  ...                       0.0                      1.0   \n",
       "239329          NaN  ...                       0.0                      0.0   \n",
       "241835          NaN  ...                       0.0                      0.0   \n",
       "\n",
       "       DEF_60_CNT_SOCIAL_CIRCLE DAYS_LAST_PHONE_CHANGE  \\\n",
       "47531                       0.0                   -2.0   \n",
       "50035                       0.0                 -706.0   \n",
       "51594                       0.0                 -199.0   \n",
       "55025                       0.0                -2841.0   \n",
       "59934                       0.0                 -743.0   \n",
       "75873                       0.0                -1986.0   \n",
       "89343                       0.0                 -348.0   \n",
       "123872                      0.0                -1331.0   \n",
       "207186                      0.0                 -295.0   \n",
       "227939                      0.0                -1255.0   \n",
       "239329                      0.0                 -322.0   \n",
       "241835                      0.0                 -504.0   \n",
       "\n",
       "       AMT_REQ_CREDIT_BUREAU_HOUR AMT_REQ_CREDIT_BUREAU_DAY  \\\n",
       "47531                         0.0                       0.0   \n",
       "50035                         0.0                       0.0   \n",
       "51594                         0.0                       0.0   \n",
       "55025                         0.0                       0.0   \n",
       "59934                         0.0                       0.0   \n",
       "75873                         0.0                       0.0   \n",
       "89343                         0.0                       0.0   \n",
       "123872                        0.0                       0.0   \n",
       "207186                        0.0                       0.0   \n",
       "227939                        0.0                       0.0   \n",
       "239329                        0.0                       0.0   \n",
       "241835                        NaN                       NaN   \n",
       "\n",
       "        AMT_REQ_CREDIT_BUREAU_WEEK  AMT_REQ_CREDIT_BUREAU_MON  \\\n",
       "47531                          0.0                        0.0   \n",
       "50035                          0.0                        1.0   \n",
       "51594                          0.0                        1.0   \n",
       "55025                          0.0                        1.0   \n",
       "59934                          1.0                        0.0   \n",
       "75873                          0.0                        0.0   \n",
       "89343                          0.0                        2.0   \n",
       "123872                         0.0                        0.0   \n",
       "207186                         1.0                        1.0   \n",
       "227939                         1.0                        0.0   \n",
       "239329                         0.0                        0.0   \n",
       "241835                         NaN                        NaN   \n",
       "\n",
       "        AMT_REQ_CREDIT_BUREAU_QRT  AMT_REQ_CREDIT_BUREAU_YEAR  \n",
       "47531                         1.0                         1.0  \n",
       "50035                         0.0                         1.0  \n",
       "51594                         0.0                         1.0  \n",
       "55025                         0.0                         4.0  \n",
       "59934                         0.0                         6.0  \n",
       "75873                         0.0                        11.0  \n",
       "89343                         0.0                         0.0  \n",
       "123872                        1.0                         5.0  \n",
       "207186                        0.0                         2.0  \n",
       "227939                        0.0                         2.0  \n",
       "239329                        1.0                         1.0  \n",
       "241835                        NaN                         NaN  \n",
       "\n",
       "[12 rows x 51 columns]"
      ]
     },
     "execution_count": 33,
     "metadata": {},
     "output_type": "execute_result"
    }
   ],
   "source": [
    "app_df[app_df.AMT_ANNUITY.isna()]"
   ]
  },
  {
   "cell_type": "code",
   "execution_count": 34,
   "id": "0f0bb68d",
   "metadata": {},
   "outputs": [
    {
     "data": {
      "text/plain": [
       "count    307499.000000\n",
       "mean      27108.573909\n",
       "std       14493.737315\n",
       "min        1615.500000\n",
       "25%       16524.000000\n",
       "50%       24903.000000\n",
       "75%       34596.000000\n",
       "max      258025.500000\n",
       "Name: AMT_ANNUITY, dtype: float64"
      ]
     },
     "execution_count": 34,
     "metadata": {},
     "output_type": "execute_result"
    }
   ],
   "source": [
    "app_df.AMT_ANNUITY.describe()"
   ]
  },
  {
   "cell_type": "code",
   "execution_count": 35,
   "id": "878c98e2",
   "metadata": {},
   "outputs": [
    {
     "data": {
      "text/plain": [
       "<AxesSubplot:>"
      ]
     },
     "execution_count": 35,
     "metadata": {},
     "output_type": "execute_result"
    },
    {
     "data": {
      "image/png": "[encoded data removed]",
      "text/plain": [
       "<Figure size 640x480 with 1 Axes>"
      ]
     },
     "metadata": {},
     "output_type": "display_data"
    }
   ],
   "source": [
    "app_df.AMT_ANNUITY.plot.box()"
   ]
  },
  {
   "cell_type": "markdown",
   "id": "d5e0b760",
   "metadata": {},
   "source": [
    "<p>As we can see above from box plot and describe statement, the IQR is very around bottom and outliers are very much spead longer values. So we should fill empty values with median instead of mean. Because mean value is skewed.</p>\n",
    "<b>Imputing missing value with median</b>"
   ]
  },
  {
   "cell_type": "code",
   "execution_count": 36,
   "id": "42ecc287",
   "metadata": {},
   "outputs": [],
   "source": [
    "app_df.AMT_ANNUITY = app_df.AMT_ANNUITY.fillna(app_df.AMT_ANNUITY.median())"
   ]
  },
  {
   "cell_type": "code",
   "execution_count": 37,
   "id": "d51bb524",
   "metadata": {},
   "outputs": [
    {
     "data": {
      "text/plain": [
       "SK_ID_CURR                         0\n",
       "TARGET                             0\n",
       "NAME_CONTRACT_TYPE                 0\n",
       "CODE_GENDER                        0\n",
       "FLAG_OWN_CAR                       0\n",
       "FLAG_OWN_REALTY                    0\n",
       "CNT_CHILDREN                       0\n",
       "AMT_INCOME_TOTAL                   0\n",
       "AMT_CREDIT                         0\n",
       "AMT_ANNUITY                        0\n",
       "AMT_GOODS_PRICE                  278\n",
       "NAME_TYPE_SUITE                 1292\n",
       "NAME_INCOME_TYPE                   0\n",
       "NAME_EDUCATION_TYPE                0\n",
       "NAME_FAMILY_STATUS                 0\n",
       "NAME_HOUSING_TYPE                  0\n",
       "REGION_POPULATION_RELATIVE         0\n",
       "DAYS_BIRTH                         0\n",
       "DAYS_EMPLOYED                      0\n",
       "DAYS_REGISTRATION                  0\n",
       "DAYS_ID_PUBLISH                    0\n",
       "FLAG_MOBIL                         0\n",
       "FLAG_EMP_PHONE                     0\n",
       "FLAG_WORK_PHONE                    0\n",
       "FLAG_CONT_MOBILE                   0\n",
       "FLAG_PHONE                         0\n",
       "FLAG_EMAIL                         0\n",
       "OCCUPATION_TYPE                96391\n",
       "CNT_FAM_MEMBERS                    2\n",
       "REGION_RATING_CLIENT               0\n",
       "REGION_RATING_CLIENT_W_CITY        0\n",
       "WEEKDAY_APPR_PROCESS_START         0\n",
       "HOUR_APPR_PROCESS_START            0\n",
       "REG_REGION_NOT_LIVE_REGION         0\n",
       "REG_REGION_NOT_WORK_REGION         0\n",
       "LIVE_REGION_NOT_WORK_REGION        0\n",
       "REG_CITY_NOT_LIVE_CITY             0\n",
       "REG_CITY_NOT_WORK_CITY             0\n",
       "LIVE_CITY_NOT_WORK_CITY            0\n",
       "ORGANIZATION_TYPE                  0\n",
       "OBS_30_CNT_SOCIAL_CIRCLE        1021\n",
       "DEF_30_CNT_SOCIAL_CIRCLE        1021\n",
       "OBS_60_CNT_SOCIAL_CIRCLE        1021\n",
       "DEF_60_CNT_SOCIAL_CIRCLE        1021\n",
       "DAYS_LAST_PHONE_CHANGE             1\n",
       "AMT_REQ_CREDIT_BUREAU_HOUR     41519\n",
       "AMT_REQ_CREDIT_BUREAU_DAY      41519\n",
       "AMT_REQ_CREDIT_BUREAU_WEEK     41519\n",
       "AMT_REQ_CREDIT_BUREAU_MON      41519\n",
       "AMT_REQ_CREDIT_BUREAU_QRT      41519\n",
       "AMT_REQ_CREDIT_BUREAU_YEAR     41519\n",
       "dtype: int64"
      ]
     },
     "execution_count": 37,
     "metadata": {},
     "output_type": "execute_result"
    }
   ],
   "source": [
    "# lets check empty values again\n",
    "app_df.isna().sum()"
   ]
  },
  {
   "cell_type": "code",
   "execution_count": 38,
   "id": "6303d1ff",
   "metadata": {},
   "outputs": [
    {
     "data": {
      "text/plain": [
       "count    3.072330e+05\n",
       "mean     5.383962e+05\n",
       "std      3.694465e+05\n",
       "min      4.050000e+04\n",
       "25%      2.385000e+05\n",
       "50%      4.500000e+05\n",
       "75%      6.795000e+05\n",
       "max      4.050000e+06\n",
       "Name: AMT_GOODS_PRICE, dtype: float64"
      ]
     },
     "execution_count": 38,
     "metadata": {},
     "output_type": "execute_result"
    }
   ],
   "source": [
    "app_df.AMT_GOODS_PRICE.describe()"
   ]
  },
  {
   "cell_type": "code",
   "execution_count": 39,
   "id": "ace019cb",
   "metadata": {},
   "outputs": [
    {
     "data": {
      "text/plain": [
       "<AxesSubplot:>"
      ]
     },
     "execution_count": 39,
     "metadata": {},
     "output_type": "execute_result"
    },
    {
     "data": {
      "image/png": "[encoded data removed]",
      "text/plain": [
       "<Figure size 640x480 with 1 Axes>"
      ]
     },
     "metadata": {},
     "output_type": "display_data"
    }
   ],
   "source": [
    "app_df.AMT_GOODS_PRICE.plot.box()"
   ]
  },
  {
   "cell_type": "code",
   "execution_count": 40,
   "id": "e4739eb1",
   "metadata": {},
   "outputs": [],
   "source": [
    "# same as above, replace with median\n",
    "app_df.AMT_GOODS_PRICE = app_df.AMT_GOODS_PRICE.fillna(app_df.AMT_GOODS_PRICE.median())"
   ]
  },
  {
   "cell_type": "code",
   "execution_count": 41,
   "id": "828a48c7",
   "metadata": {},
   "outputs": [
    {
     "data": {
      "text/plain": [
       "SK_ID_CURR                         0\n",
       "TARGET                             0\n",
       "NAME_CONTRACT_TYPE                 0\n",
       "CODE_GENDER                        0\n",
       "FLAG_OWN_CAR                       0\n",
       "FLAG_OWN_REALTY                    0\n",
       "CNT_CHILDREN                       0\n",
       "AMT_INCOME_TOTAL                   0\n",
       "AMT_CREDIT                         0\n",
       "AMT_ANNUITY                        0\n",
       "AMT_GOODS_PRICE                    0\n",
       "NAME_TYPE_SUITE                 1292\n",
       "NAME_INCOME_TYPE                   0\n",
       "NAME_EDUCATION_TYPE                0\n",
       "NAME_FAMILY_STATUS                 0\n",
       "NAME_HOUSING_TYPE                  0\n",
       "REGION_POPULATION_RELATIVE         0\n",
       "DAYS_BIRTH                         0\n",
       "DAYS_EMPLOYED                      0\n",
       "DAYS_REGISTRATION                  0\n",
       "DAYS_ID_PUBLISH                    0\n",
       "FLAG_MOBIL                         0\n",
       "FLAG_EMP_PHONE                     0\n",
       "FLAG_WORK_PHONE                    0\n",
       "FLAG_CONT_MOBILE                   0\n",
       "FLAG_PHONE                         0\n",
       "FLAG_EMAIL                         0\n",
       "OCCUPATION_TYPE                96391\n",
       "CNT_FAM_MEMBERS                    2\n",
       "REGION_RATING_CLIENT               0\n",
       "REGION_RATING_CLIENT_W_CITY        0\n",
       "WEEKDAY_APPR_PROCESS_START         0\n",
       "HOUR_APPR_PROCESS_START            0\n",
       "REG_REGION_NOT_LIVE_REGION         0\n",
       "REG_REGION_NOT_WORK_REGION         0\n",
       "LIVE_REGION_NOT_WORK_REGION        0\n",
       "REG_CITY_NOT_LIVE_CITY             0\n",
       "REG_CITY_NOT_WORK_CITY             0\n",
       "LIVE_CITY_NOT_WORK_CITY            0\n",
       "ORGANIZATION_TYPE                  0\n",
       "OBS_30_CNT_SOCIAL_CIRCLE        1021\n",
       "DEF_30_CNT_SOCIAL_CIRCLE        1021\n",
       "OBS_60_CNT_SOCIAL_CIRCLE        1021\n",
       "DEF_60_CNT_SOCIAL_CIRCLE        1021\n",
       "DAYS_LAST_PHONE_CHANGE             1\n",
       "AMT_REQ_CREDIT_BUREAU_HOUR     41519\n",
       "AMT_REQ_CREDIT_BUREAU_DAY      41519\n",
       "AMT_REQ_CREDIT_BUREAU_WEEK     41519\n",
       "AMT_REQ_CREDIT_BUREAU_MON      41519\n",
       "AMT_REQ_CREDIT_BUREAU_QRT      41519\n",
       "AMT_REQ_CREDIT_BUREAU_YEAR     41519\n",
       "dtype: int64"
      ]
     },
     "execution_count": 41,
     "metadata": {},
     "output_type": "execute_result"
    }
   ],
   "source": [
    "# lets check empty values again\n",
    "app_df.isna().sum()"
   ]
  },
  {
   "cell_type": "markdown",
   "id": "48bfda24",
   "metadata": {},
   "source": [
    "<p>Lets handle \"NAME_TYPE_SUITE\" column for empty values. This column shows who were accompanying the client when he was applying for loan<p>"
   ]
  },
  {
   "cell_type": "code",
   "execution_count": 42,
   "id": "408e19be",
   "metadata": {},
   "outputs": [
    {
     "data": {
      "text/plain": [
       "Unaccompanied      248526\n",
       "Family              40149\n",
       "Spouse, partner     11370\n",
       "Children             3267\n",
       "Other_B              1770\n",
       "Other_A               866\n",
       "Group of people       271\n",
       "Name: NAME_TYPE_SUITE, dtype: int64"
      ]
     },
     "execution_count": 42,
     "metadata": {},
     "output_type": "execute_result"
    }
   ],
   "source": [
    "# lets see what values are present in NAME_TYPE_SUITE\n",
    "app_df.NAME_TYPE_SUITE.value_counts()"
   ]
  },
  {
   "cell_type": "code",
   "execution_count": 43,
   "id": "d56945f8",
   "metadata": {},
   "outputs": [
    {
     "data": {
      "text/plain": [
       "Unaccompanied      0.811596\n",
       "Family             0.131112\n",
       "Spouse, partner    0.037130\n",
       "Children           0.010669\n",
       "Other_B            0.005780\n",
       "Other_A            0.002828\n",
       "Group of people    0.000885\n",
       "Name: NAME_TYPE_SUITE, dtype: float64"
      ]
     },
     "execution_count": 43,
     "metadata": {},
     "output_type": "execute_result"
    }
   ],
   "source": [
    "# lets check these values in normalized form to check relative percentages\n",
    "app_df.NAME_TYPE_SUITE.value_counts(normalize=True)"
   ]
  },
  {
   "cell_type": "markdown",
   "id": "5b4fad7a",
   "metadata": {},
   "source": [
    "<p>As we can see almost 81% people were Unaccompanied while applying for loan.</p>\n",
    "<p>So my guess for this field's being empty is that, many time people go to apply the loan, and the cleark etc. maybe did not fill this field as there was no one accompanying the client. And as this is the most commonly occuring value lets fill it with that</p>\n",
    "<p>So here, We are <b>imputing empty value with mode</b></p>"
   ]
  },
  {
   "cell_type": "code",
   "execution_count": 44,
   "id": "72308c22",
   "metadata": {},
   "outputs": [],
   "source": [
    "app_df.NAME_TYPE_SUITE = app_df.NAME_TYPE_SUITE.fillna(app_df.NAME_TYPE_SUITE.mode()[0])"
   ]
  },
  {
   "cell_type": "code",
   "execution_count": 45,
   "id": "b5c71a16",
   "metadata": {},
   "outputs": [
    {
     "data": {
      "text/plain": [
       "SK_ID_CURR                         0\n",
       "TARGET                             0\n",
       "NAME_CONTRACT_TYPE                 0\n",
       "CODE_GENDER                        0\n",
       "FLAG_OWN_CAR                       0\n",
       "FLAG_OWN_REALTY                    0\n",
       "CNT_CHILDREN                       0\n",
       "AMT_INCOME_TOTAL                   0\n",
       "AMT_CREDIT                         0\n",
       "AMT_ANNUITY                        0\n",
       "AMT_GOODS_PRICE                    0\n",
       "NAME_TYPE_SUITE                    0\n",
       "NAME_INCOME_TYPE                   0\n",
       "NAME_EDUCATION_TYPE                0\n",
       "NAME_FAMILY_STATUS                 0\n",
       "NAME_HOUSING_TYPE                  0\n",
       "REGION_POPULATION_RELATIVE         0\n",
       "DAYS_BIRTH                         0\n",
       "DAYS_EMPLOYED                      0\n",
       "DAYS_REGISTRATION                  0\n",
       "DAYS_ID_PUBLISH                    0\n",
       "FLAG_MOBIL                         0\n",
       "FLAG_EMP_PHONE                     0\n",
       "FLAG_WORK_PHONE                    0\n",
       "FLAG_CONT_MOBILE                   0\n",
       "FLAG_PHONE                         0\n",
       "FLAG_EMAIL                         0\n",
       "OCCUPATION_TYPE                96391\n",
       "CNT_FAM_MEMBERS                    2\n",
       "REGION_RATING_CLIENT               0\n",
       "REGION_RATING_CLIENT_W_CITY        0\n",
       "WEEKDAY_APPR_PROCESS_START         0\n",
       "HOUR_APPR_PROCESS_START            0\n",
       "REG_REGION_NOT_LIVE_REGION         0\n",
       "REG_REGION_NOT_WORK_REGION         0\n",
       "LIVE_REGION_NOT_WORK_REGION        0\n",
       "REG_CITY_NOT_LIVE_CITY             0\n",
       "REG_CITY_NOT_WORK_CITY             0\n",
       "LIVE_CITY_NOT_WORK_CITY            0\n",
       "ORGANIZATION_TYPE                  0\n",
       "OBS_30_CNT_SOCIAL_CIRCLE        1021\n",
       "DEF_30_CNT_SOCIAL_CIRCLE        1021\n",
       "OBS_60_CNT_SOCIAL_CIRCLE        1021\n",
       "DEF_60_CNT_SOCIAL_CIRCLE        1021\n",
       "DAYS_LAST_PHONE_CHANGE             1\n",
       "AMT_REQ_CREDIT_BUREAU_HOUR     41519\n",
       "AMT_REQ_CREDIT_BUREAU_DAY      41519\n",
       "AMT_REQ_CREDIT_BUREAU_WEEK     41519\n",
       "AMT_REQ_CREDIT_BUREAU_MON      41519\n",
       "AMT_REQ_CREDIT_BUREAU_QRT      41519\n",
       "AMT_REQ_CREDIT_BUREAU_YEAR     41519\n",
       "dtype: int64"
      ]
     },
     "execution_count": 45,
     "metadata": {},
     "output_type": "execute_result"
    }
   ],
   "source": [
    "app_df.isna().sum()"
   ]
  },
  {
   "cell_type": "markdown",
   "id": "e3779e83",
   "metadata": {},
   "source": [
    "Lets see what \"OCCUPATION_TYPE\" have"
   ]
  },
  {
   "cell_type": "code",
   "execution_count": 46,
   "id": "76d748af",
   "metadata": {},
   "outputs": [
    {
     "data": {
      "text/plain": [
       "Laborers                 55186\n",
       "Sales staff              32102\n",
       "Core staff               27570\n",
       "Managers                 21371\n",
       "Drivers                  18603\n",
       "High skill tech staff    11380\n",
       "Accountants               9813\n",
       "Medicine staff            8537\n",
       "Security staff            6721\n",
       "Cooking staff             5946\n",
       "Cleaning staff            4653\n",
       "Private service staff     2652\n",
       "Low-skill Laborers        2093\n",
       "Waiters/barmen staff      1348\n",
       "Secretaries               1305\n",
       "Realty agents              751\n",
       "HR staff                   563\n",
       "IT staff                   526\n",
       "Name: OCCUPATION_TYPE, dtype: int64"
      ]
     },
     "execution_count": 46,
     "metadata": {},
     "output_type": "execute_result"
    }
   ],
   "source": [
    "app_df.OCCUPATION_TYPE.value_counts()"
   ]
  },
  {
   "cell_type": "markdown",
   "id": "c9f4a62d",
   "metadata": {},
   "source": [
    "<p>\"OCCUPATION_TYPE\" is something we can not fill with any value on our own from existing values.\n",
    "But lets replace empty values with some placeholder \"UNKNOWN\", so that we will get those value in analysis instead of getting NA or skipping row.</p>\n",
    "<b>Replace missing value with placeholder</b>"
   ]
  },
  {
   "cell_type": "code",
   "execution_count": 47,
   "id": "d6ee52b2",
   "metadata": {},
   "outputs": [],
   "source": [
    "app_df.OCCUPATION_TYPE = app_df.OCCUPATION_TYPE.fillna(\"UNKNOWN\")"
   ]
  },
  {
   "cell_type": "code",
   "execution_count": 48,
   "id": "b7b8fd4a",
   "metadata": {},
   "outputs": [
    {
     "data": {
      "text/plain": [
       "SK_ID_CURR                      0.000000\n",
       "TARGET                          0.000000\n",
       "NAME_CONTRACT_TYPE              0.000000\n",
       "CODE_GENDER                     0.000000\n",
       "FLAG_OWN_CAR                    0.000000\n",
       "FLAG_OWN_REALTY                 0.000000\n",
       "CNT_CHILDREN                    0.000000\n",
       "AMT_INCOME_TOTAL                0.000000\n",
       "AMT_CREDIT                      0.000000\n",
       "AMT_ANNUITY                     0.000000\n",
       "AMT_GOODS_PRICE                 0.000000\n",
       "NAME_TYPE_SUITE                 0.000000\n",
       "NAME_INCOME_TYPE                0.000000\n",
       "NAME_EDUCATION_TYPE             0.000000\n",
       "NAME_FAMILY_STATUS              0.000000\n",
       "NAME_HOUSING_TYPE               0.000000\n",
       "REGION_POPULATION_RELATIVE      0.000000\n",
       "DAYS_BIRTH                      0.000000\n",
       "DAYS_EMPLOYED                   0.000000\n",
       "DAYS_REGISTRATION               0.000000\n",
       "DAYS_ID_PUBLISH                 0.000000\n",
       "FLAG_MOBIL                      0.000000\n",
       "FLAG_EMP_PHONE                  0.000000\n",
       "FLAG_WORK_PHONE                 0.000000\n",
       "FLAG_CONT_MOBILE                0.000000\n",
       "FLAG_PHONE                      0.000000\n",
       "FLAG_EMAIL                      0.000000\n",
       "OCCUPATION_TYPE                 0.000000\n",
       "CNT_FAM_MEMBERS                 0.000650\n",
       "REGION_RATING_CLIENT            0.000000\n",
       "REGION_RATING_CLIENT_W_CITY     0.000000\n",
       "WEEKDAY_APPR_PROCESS_START      0.000000\n",
       "HOUR_APPR_PROCESS_START         0.000000\n",
       "REG_REGION_NOT_LIVE_REGION      0.000000\n",
       "REG_REGION_NOT_WORK_REGION      0.000000\n",
       "LIVE_REGION_NOT_WORK_REGION     0.000000\n",
       "REG_CITY_NOT_LIVE_CITY          0.000000\n",
       "REG_CITY_NOT_WORK_CITY          0.000000\n",
       "LIVE_CITY_NOT_WORK_CITY         0.000000\n",
       "ORGANIZATION_TYPE               0.000000\n",
       "OBS_30_CNT_SOCIAL_CIRCLE        0.332021\n",
       "DEF_30_CNT_SOCIAL_CIRCLE        0.332021\n",
       "OBS_60_CNT_SOCIAL_CIRCLE        0.332021\n",
       "DEF_60_CNT_SOCIAL_CIRCLE        0.332021\n",
       "DAYS_LAST_PHONE_CHANGE          0.000325\n",
       "AMT_REQ_CREDIT_BUREAU_HOUR     13.501631\n",
       "AMT_REQ_CREDIT_BUREAU_DAY      13.501631\n",
       "AMT_REQ_CREDIT_BUREAU_WEEK     13.501631\n",
       "AMT_REQ_CREDIT_BUREAU_MON      13.501631\n",
       "AMT_REQ_CREDIT_BUREAU_QRT      13.501631\n",
       "AMT_REQ_CREDIT_BUREAU_YEAR     13.501631\n",
       "dtype: float64"
      ]
     },
     "execution_count": 48,
     "metadata": {},
     "output_type": "execute_result"
    }
   ],
   "source": [
    "# lets check null values in percentages\n",
    "app_df.isnull().sum() * 100 / app_df.shape[0]"
   ]
  },
  {
   "cell_type": "markdown",
   "id": "18a162c8",
   "metadata": {},
   "source": [
    "<p>Now all columns have very negligible empty values which we can ignore except enquiry columns AMT_REQ_CREDIT_BUREAU_HOUR to AMT_REQ_CREDIT_BUREAU_YEAR</p>\n",
    "Lets see what we are in for before we make assumptions"
   ]
  },
  {
   "cell_type": "code",
   "execution_count": 49,
   "id": "03dccd53",
   "metadata": {},
   "outputs": [
    {
     "data": {
      "text/plain": [
       "count    265992.000000\n",
       "mean          0.006402\n",
       "std           0.083849\n",
       "min           0.000000\n",
       "25%           0.000000\n",
       "50%           0.000000\n",
       "75%           0.000000\n",
       "max           4.000000\n",
       "Name: AMT_REQ_CREDIT_BUREAU_HOUR, dtype: float64"
      ]
     },
     "execution_count": 49,
     "metadata": {},
     "output_type": "execute_result"
    }
   ],
   "source": [
    "app_df.AMT_REQ_CREDIT_BUREAU_HOUR.describe()"
   ]
  },
  {
   "cell_type": "code",
   "execution_count": 50,
   "id": "fa59128f",
   "metadata": {},
   "outputs": [
    {
     "data": {
      "text/plain": [
       "count    265992.000000\n",
       "mean          1.899974\n",
       "std           1.869295\n",
       "min           0.000000\n",
       "25%           0.000000\n",
       "50%           1.000000\n",
       "75%           3.000000\n",
       "max          25.000000\n",
       "Name: AMT_REQ_CREDIT_BUREAU_YEAR, dtype: float64"
      ]
     },
     "execution_count": 50,
     "metadata": {},
     "output_type": "execute_result"
    }
   ],
   "source": [
    "app_df.AMT_REQ_CREDIT_BUREAU_YEAR.describe()"
   ]
  },
  {
   "cell_type": "markdown",
   "id": "056ab08d",
   "metadata": {},
   "source": [
    "Difference between 75% and max seems high, lets try to see box plot to explore"
   ]
  },
  {
   "cell_type": "code",
   "execution_count": 51,
   "id": "6d91d343",
   "metadata": {},
   "outputs": [
    {
     "data": {
      "text/plain": [
       "<AxesSubplot:>"
      ]
     },
     "execution_count": 51,
     "metadata": {},
     "output_type": "execute_result"
    },
    {
     "data": {
      "image/png": "[encoded data removed]",
      "text/plain": [
       "<Figure size 640x480 with 1 Axes>"
      ]
     },
     "metadata": {},
     "output_type": "display_data"
    }
   ],
   "source": [
    "app_df.AMT_REQ_CREDIT_BUREAU_YEAR.plot.box()"
   ]
  },
  {
   "cell_type": "markdown",
   "id": "8a5f6613",
   "metadata": {},
   "source": [
    "<b>observation</b>\n",
    "<p>As we can see above, few outliers are outside of the IQR, but not at alarming distance. Also, We can assume maybe few clients needed more enquiries, and 25 in a whole year does not seem that much extra.</p>\n",
    "<p>From above observation, Its safe to say that we can replace empty values with median value</p>"
   ]
  },
  {
   "cell_type": "code",
   "execution_count": 52,
   "id": "732eb873",
   "metadata": {},
   "outputs": [
    {
     "data": {
      "text/plain": [
       "[None, None, None, None, None, None]"
      ]
     },
     "execution_count": 52,
     "metadata": {},
     "output_type": "execute_result"
    }
   ],
   "source": [
    "enquiry_cols = [\"AMT_REQ_CREDIT_BUREAU_HOUR\", \"AMT_REQ_CREDIT_BUREAU_DAY\", \"AMT_REQ_CREDIT_BUREAU_WEEK\", \"AMT_REQ_CREDIT_BUREAU_MON\", \"AMT_REQ_CREDIT_BUREAU_QRT\", \"AMT_REQ_CREDIT_BUREAU_YEAR\"]\n",
    "\n",
    "def fill_with_median(col_name):\n",
    "    app_df[col_name] = app_df[col_name].fillna(app_df[col_name].median())\n",
    "\n",
    "list(map(fill_with_median, enquiry_cols))"
   ]
  },
  {
   "cell_type": "markdown",
   "id": "b2e43cbb",
   "metadata": {},
   "source": [
    "Lets see remaining columns with null values"
   ]
  },
  {
   "cell_type": "code",
   "execution_count": 53,
   "id": "dfa37521",
   "metadata": {},
   "outputs": [
    {
     "data": {
      "text/plain": [
       "CNT_FAM_MEMBERS             0.000650\n",
       "OBS_30_CNT_SOCIAL_CIRCLE    0.332021\n",
       "DEF_30_CNT_SOCIAL_CIRCLE    0.332021\n",
       "OBS_60_CNT_SOCIAL_CIRCLE    0.332021\n",
       "DEF_60_CNT_SOCIAL_CIRCLE    0.332021\n",
       "DAYS_LAST_PHONE_CHANGE      0.000325\n",
       "dtype: float64"
      ]
     },
     "execution_count": 53,
     "metadata": {},
     "output_type": "execute_result"
    }
   ],
   "source": [
    "app_df[app_df.columns[app_df.isnull().any()]].isnull().sum() * 100 / app_df.shape[0]"
   ]
  },
  {
   "cell_type": "markdown",
   "id": "d7dd0ccf",
   "metadata": {},
   "source": [
    "<p>As we can see now, We have taken care of all the empty value columns with sizable null values and now remaining are the ones with negligible nulls.</p>\n",
    "<p>The ones with relative big size are \"OBS_*\" and \"DEF_*\", but lets ignore those for now and circle back to them if we require those in upcoming steps</p>"
   ]
  },
  {
   "cell_type": "markdown",
   "id": "4964db46",
   "metadata": {},
   "source": [
    "lets see now the state of data set we have"
   ]
  },
  {
   "cell_type": "code",
   "execution_count": 54,
   "id": "f0fdf116",
   "metadata": {},
   "outputs": [
    {
     "data": {
      "text/html": [
       "<div>\n",
       "<style scoped>\n",
       "    .dataframe tbody tr th:only-of-type {\n",
       "        vertical-align: middle;\n",
       "    }\n",
       "\n",
       "    .dataframe tbody tr th {\n",
       "        vertical-align: top;\n",
       "    }\n",
       "\n",
       "    .dataframe thead th {\n",
       "        text-align: right;\n",
       "    }\n",
       "</style>\n",
       "<table border=\"1\" class=\"dataframe\">\n",
       "  <thead>\n",
       "    <tr style=\"text-align: right;\">\n",
       "      <th></th>\n",
       "      <th>SK_ID_CURR</th>\n",
       "      <th>TARGET</th>\n",
       "      <th>NAME_CONTRACT_TYPE</th>\n",
       "      <th>CODE_GENDER</th>\n",
       "      <th>FLAG_OWN_CAR</th>\n",
       "      <th>FLAG_OWN_REALTY</th>\n",
       "      <th>CNT_CHILDREN</th>\n",
       "      <th>AMT_INCOME_TOTAL</th>\n",
       "      <th>AMT_CREDIT</th>\n",
       "      <th>AMT_ANNUITY</th>\n",
       "      <th>...</th>\n",
       "      <th>DEF_30_CNT_SOCIAL_CIRCLE</th>\n",
       "      <th>OBS_60_CNT_SOCIAL_CIRCLE</th>\n",
       "      <th>DEF_60_CNT_SOCIAL_CIRCLE</th>\n",
       "      <th>DAYS_LAST_PHONE_CHANGE</th>\n",
       "      <th>AMT_REQ_CREDIT_BUREAU_HOUR</th>\n",
       "      <th>AMT_REQ_CREDIT_BUREAU_DAY</th>\n",
       "      <th>AMT_REQ_CREDIT_BUREAU_WEEK</th>\n",
       "      <th>AMT_REQ_CREDIT_BUREAU_MON</th>\n",
       "      <th>AMT_REQ_CREDIT_BUREAU_QRT</th>\n",
       "      <th>AMT_REQ_CREDIT_BUREAU_YEAR</th>\n",
       "    </tr>\n",
       "  </thead>\n",
       "  <tbody>\n",
       "    <tr>\n",
       "      <th>0</th>\n",
       "      <td>100002</td>\n",
       "      <td>1</td>\n",
       "      <td>Cash loans</td>\n",
       "      <td>M</td>\n",
       "      <td>N</td>\n",
       "      <td>Y</td>\n",
       "      <td>0</td>\n",
       "      <td>202500.0</td>\n",
       "      <td>406597.5</td>\n",
       "      <td>24700.5</td>\n",
       "      <td>...</td>\n",
       "      <td>2.0</td>\n",
       "      <td>2.0</td>\n",
       "      <td>2.0</td>\n",
       "      <td>-1134.0</td>\n",
       "      <td>0.0</td>\n",
       "      <td>0.0</td>\n",
       "      <td>0.0</td>\n",
       "      <td>0.0</td>\n",
       "      <td>0.0</td>\n",
       "      <td>1.0</td>\n",
       "    </tr>\n",
       "    <tr>\n",
       "      <th>1</th>\n",
       "      <td>100003</td>\n",
       "      <td>0</td>\n",
       "      <td>Cash loans</td>\n",
       "      <td>F</td>\n",
       "      <td>N</td>\n",
       "      <td>N</td>\n",
       "      <td>0</td>\n",
       "      <td>270000.0</td>\n",
       "      <td>1293502.5</td>\n",
       "      <td>35698.5</td>\n",
       "      <td>...</td>\n",
       "      <td>0.0</td>\n",
       "      <td>1.0</td>\n",
       "      <td>0.0</td>\n",
       "      <td>-828.0</td>\n",
       "      <td>0.0</td>\n",
       "      <td>0.0</td>\n",
       "      <td>0.0</td>\n",
       "      <td>0.0</td>\n",
       "      <td>0.0</td>\n",
       "      <td>0.0</td>\n",
       "    </tr>\n",
       "    <tr>\n",
       "      <th>2</th>\n",
       "      <td>100004</td>\n",
       "      <td>0</td>\n",
       "      <td>Revolving loans</td>\n",
       "      <td>M</td>\n",
       "      <td>Y</td>\n",
       "      <td>Y</td>\n",
       "      <td>0</td>\n",
       "      <td>67500.0</td>\n",
       "      <td>135000.0</td>\n",
       "      <td>6750.0</td>\n",
       "      <td>...</td>\n",
       "      <td>0.0</td>\n",
       "      <td>0.0</td>\n",
       "      <td>0.0</td>\n",
       "      <td>-815.0</td>\n",
       "      <td>0.0</td>\n",
       "      <td>0.0</td>\n",
       "      <td>0.0</td>\n",
       "      <td>0.0</td>\n",
       "      <td>0.0</td>\n",
       "      <td>0.0</td>\n",
       "    </tr>\n",
       "    <tr>\n",
       "      <th>3</th>\n",
       "      <td>100006</td>\n",
       "      <td>0</td>\n",
       "      <td>Cash loans</td>\n",
       "      <td>F</td>\n",
       "      <td>N</td>\n",
       "      <td>Y</td>\n",
       "      <td>0</td>\n",
       "      <td>135000.0</td>\n",
       "      <td>312682.5</td>\n",
       "      <td>29686.5</td>\n",
       "      <td>...</td>\n",
       "      <td>0.0</td>\n",
       "      <td>2.0</td>\n",
       "      <td>0.0</td>\n",
       "      <td>-617.0</td>\n",
       "      <td>0.0</td>\n",
       "      <td>0.0</td>\n",
       "      <td>0.0</td>\n",
       "      <td>0.0</td>\n",
       "      <td>0.0</td>\n",
       "      <td>1.0</td>\n",
       "    </tr>\n",
       "    <tr>\n",
       "      <th>4</th>\n",
       "      <td>100007</td>\n",
       "      <td>0</td>\n",
       "      <td>Cash loans</td>\n",
       "      <td>M</td>\n",
       "      <td>N</td>\n",
       "      <td>Y</td>\n",
       "      <td>0</td>\n",
       "      <td>121500.0</td>\n",
       "      <td>513000.0</td>\n",
       "      <td>21865.5</td>\n",
       "      <td>...</td>\n",
       "      <td>0.0</td>\n",
       "      <td>0.0</td>\n",
       "      <td>0.0</td>\n",
       "      <td>-1106.0</td>\n",
       "      <td>0.0</td>\n",
       "      <td>0.0</td>\n",
       "      <td>0.0</td>\n",
       "      <td>0.0</td>\n",
       "      <td>0.0</td>\n",
       "      <td>0.0</td>\n",
       "    </tr>\n",
       "  </tbody>\n",
       "</table>\n",
       "<p>5 rows × 51 columns</p>\n",
       "</div>"
      ],
      "text/plain": [
       "   SK_ID_CURR  TARGET NAME_CONTRACT_TYPE CODE_GENDER FLAG_OWN_CAR  \\\n",
       "0      100002       1         Cash loans           M            N   \n",
       "1      100003       0         Cash loans           F            N   \n",
       "2      100004       0    Revolving loans           M            Y   \n",
       "3      100006       0         Cash loans           F            N   \n",
       "4      100007       0         Cash loans           M            N   \n",
       "\n",
       "  FLAG_OWN_REALTY  CNT_CHILDREN  AMT_INCOME_TOTAL  AMT_CREDIT  AMT_ANNUITY  \\\n",
       "0               Y             0          202500.0    406597.5      24700.5   \n",
       "1               N             0          270000.0   1293502.5      35698.5   \n",
       "2               Y             0           67500.0    135000.0       6750.0   \n",
       "3               Y             0          135000.0    312682.5      29686.5   \n",
       "4               Y             0          121500.0    513000.0      21865.5   \n",
       "\n",
       "   ...  DEF_30_CNT_SOCIAL_CIRCLE OBS_60_CNT_SOCIAL_CIRCLE  \\\n",
       "0  ...                       2.0                      2.0   \n",
       "1  ...                       0.0                      1.0   \n",
       "2  ...                       0.0                      0.0   \n",
       "3  ...                       0.0                      2.0   \n",
       "4  ...                       0.0                      0.0   \n",
       "\n",
       "  DEF_60_CNT_SOCIAL_CIRCLE DAYS_LAST_PHONE_CHANGE AMT_REQ_CREDIT_BUREAU_HOUR  \\\n",
       "0                      2.0                -1134.0                        0.0   \n",
       "1                      0.0                 -828.0                        0.0   \n",
       "2                      0.0                 -815.0                        0.0   \n",
       "3                      0.0                 -617.0                        0.0   \n",
       "4                      0.0                -1106.0                        0.0   \n",
       "\n",
       "  AMT_REQ_CREDIT_BUREAU_DAY  AMT_REQ_CREDIT_BUREAU_WEEK  \\\n",
       "0                       0.0                         0.0   \n",
       "1                       0.0                         0.0   \n",
       "2                       0.0                         0.0   \n",
       "3                       0.0                         0.0   \n",
       "4                       0.0                         0.0   \n",
       "\n",
       "   AMT_REQ_CREDIT_BUREAU_MON  AMT_REQ_CREDIT_BUREAU_QRT  \\\n",
       "0                        0.0                        0.0   \n",
       "1                        0.0                        0.0   \n",
       "2                        0.0                        0.0   \n",
       "3                        0.0                        0.0   \n",
       "4                        0.0                        0.0   \n",
       "\n",
       "   AMT_REQ_CREDIT_BUREAU_YEAR  \n",
       "0                         1.0  \n",
       "1                         0.0  \n",
       "2                         0.0  \n",
       "3                         1.0  \n",
       "4                         0.0  \n",
       "\n",
       "[5 rows x 51 columns]"
      ]
     },
     "execution_count": 54,
     "metadata": {},
     "output_type": "execute_result"
    }
   ],
   "source": [
    "app_df.head()"
   ]
  },
  {
   "cell_type": "code",
   "execution_count": 55,
   "id": "525a944e",
   "metadata": {},
   "outputs": [
    {
     "name": "stdout",
     "output_type": "stream",
     "text": [
      "<class 'pandas.core.frame.DataFrame'>\n",
      "RangeIndex: 307511 entries, 0 to 307510\n",
      "Data columns (total 51 columns):\n",
      " #   Column                       Non-Null Count   Dtype  \n",
      "---  ------                       --------------   -----  \n",
      " 0   SK_ID_CURR                   307511 non-null  int64  \n",
      " 1   TARGET                       307511 non-null  int64  \n",
      " 2   NAME_CONTRACT_TYPE           307511 non-null  object \n",
      " 3   CODE_GENDER                  307511 non-null  object \n",
      " 4   FLAG_OWN_CAR                 307511 non-null  object \n",
      " 5   FLAG_OWN_REALTY              307511 non-null  object \n",
      " 6   CNT_CHILDREN                 307511 non-null  int64  \n",
      " 7   AMT_INCOME_TOTAL             307511 non-null  float64\n",
      " 8   AMT_CREDIT                   307511 non-null  float64\n",
      " 9   AMT_ANNUITY                  307511 non-null  float64\n",
      " 10  AMT_GOODS_PRICE              307511 non-null  float64\n",
      " 11  NAME_TYPE_SUITE              307511 non-null  object \n",
      " 12  NAME_INCOME_TYPE             307511 non-null  object \n",
      " 13  NAME_EDUCATION_TYPE          307511 non-null  object \n",
      " 14  NAME_FAMILY_STATUS           307511 non-null  object \n",
      " 15  NAME_HOUSING_TYPE            307511 non-null  object \n",
      " 16  REGION_POPULATION_RELATIVE   307511 non-null  float64\n",
      " 17  DAYS_BIRTH                   307511 non-null  int64  \n",
      " 18  DAYS_EMPLOYED                307511 non-null  int64  \n",
      " 19  DAYS_REGISTRATION            307511 non-null  float64\n",
      " 20  DAYS_ID_PUBLISH              307511 non-null  int64  \n",
      " 21  FLAG_MOBIL                   307511 non-null  int64  \n",
      " 22  FLAG_EMP_PHONE               307511 non-null  int64  \n",
      " 23  FLAG_WORK_PHONE              307511 non-null  int64  \n",
      " 24  FLAG_CONT_MOBILE             307511 non-null  int64  \n",
      " 25  FLAG_PHONE                   307511 non-null  int64  \n",
      " 26  FLAG_EMAIL                   307511 non-null  int64  \n",
      " 27  OCCUPATION_TYPE              307511 non-null  object \n",
      " 28  CNT_FAM_MEMBERS              307509 non-null  float64\n",
      " 29  REGION_RATING_CLIENT         307511 non-null  int64  \n",
      " 30  REGION_RATING_CLIENT_W_CITY  307511 non-null  int64  \n",
      " 31  WEEKDAY_APPR_PROCESS_START   307511 non-null  object \n",
      " 32  HOUR_APPR_PROCESS_START      307511 non-null  int64  \n",
      " 33  REG_REGION_NOT_LIVE_REGION   307511 non-null  int64  \n",
      " 34  REG_REGION_NOT_WORK_REGION   307511 non-null  int64  \n",
      " 35  LIVE_REGION_NOT_WORK_REGION  307511 non-null  int64  \n",
      " 36  REG_CITY_NOT_LIVE_CITY       307511 non-null  int64  \n",
      " 37  REG_CITY_NOT_WORK_CITY       307511 non-null  int64  \n",
      " 38  LIVE_CITY_NOT_WORK_CITY      307511 non-null  int64  \n",
      " 39  ORGANIZATION_TYPE            307511 non-null  object \n",
      " 40  OBS_30_CNT_SOCIAL_CIRCLE     306490 non-null  float64\n",
      " 41  DEF_30_CNT_SOCIAL_CIRCLE     306490 non-null  float64\n",
      " 42  OBS_60_CNT_SOCIAL_CIRCLE     306490 non-null  float64\n",
      " 43  DEF_60_CNT_SOCIAL_CIRCLE     306490 non-null  float64\n",
      " 44  DAYS_LAST_PHONE_CHANGE       307510 non-null  float64\n",
      " 45  AMT_REQ_CREDIT_BUREAU_HOUR   307511 non-null  float64\n",
      " 46  AMT_REQ_CREDIT_BUREAU_DAY    307511 non-null  float64\n",
      " 47  AMT_REQ_CREDIT_BUREAU_WEEK   307511 non-null  float64\n",
      " 48  AMT_REQ_CREDIT_BUREAU_MON    307511 non-null  float64\n",
      " 49  AMT_REQ_CREDIT_BUREAU_QRT    307511 non-null  float64\n",
      " 50  AMT_REQ_CREDIT_BUREAU_YEAR   307511 non-null  float64\n",
      "dtypes: float64(18), int64(21), object(12)\n",
      "memory usage: 119.7+ MB\n"
     ]
    }
   ],
   "source": [
    "app_df.info()"
   ]
  },
  {
   "cell_type": "code",
   "execution_count": 56,
   "id": "203a3fb5",
   "metadata": {},
   "outputs": [
    {
     "data": {
      "text/plain": [
       "(307511, 51)"
      ]
     },
     "execution_count": 56,
     "metadata": {},
     "output_type": "execute_result"
    }
   ],
   "source": [
    "app_df.shape"
   ]
  },
  {
   "cell_type": "markdown",
   "id": "678f4208",
   "metadata": {},
   "source": [
    "## Analysis of Application data (Uni and Multi variate)"
   ]
  },
  {
   "cell_type": "markdown",
   "id": "35bdfa54",
   "metadata": {},
   "source": [
    "As we have handled data for null values, now lets try to go through various columns to explore and analyize them."
   ]
  },
  {
   "cell_type": "markdown",
   "id": "3fa7d4bf",
   "metadata": {},
   "source": [
    "lets start with TARGET column"
   ]
  },
  {
   "cell_type": "code",
   "execution_count": 57,
   "id": "cb5e69b5",
   "metadata": {},
   "outputs": [
    {
     "data": {
      "text/plain": [
       "0    282686\n",
       "1     24825\n",
       "Name: TARGET, dtype: int64"
      ]
     },
     "execution_count": 57,
     "metadata": {},
     "output_type": "execute_result"
    }
   ],
   "source": [
    "app_df.TARGET.value_counts()"
   ]
  },
  {
   "cell_type": "markdown",
   "id": "f3ec75a7",
   "metadata": {},
   "source": [
    "<p>As the TARGET column is of type <b>categorical unordered</b>, so there is nothing map here But like state at start of this report, this column is important as we would be exploring other columns against this afterwards</p>"
   ]
  },
  {
   "cell_type": "markdown",
   "id": "35ba1dee",
   "metadata": {},
   "source": [
    "Now, lets try to go one by one in columns, to see if there are any columns catch out attention"
   ]
  },
  {
   "cell_type": "code",
   "execution_count": 58,
   "id": "31ebddcd",
   "metadata": {},
   "outputs": [
    {
     "data": {
      "text/plain": [
       "Cash loans         278232\n",
       "Revolving loans     29279\n",
       "Name: NAME_CONTRACT_TYPE, dtype: int64"
      ]
     },
     "execution_count": 58,
     "metadata": {},
     "output_type": "execute_result"
    }
   ],
   "source": [
    "app_df.NAME_CONTRACT_TYPE.value_counts()"
   ]
  },
  {
   "cell_type": "markdown",
   "id": "049c8778",
   "metadata": {},
   "source": [
    "Lets analyse <b>gender</b> wise data"
   ]
  },
  {
   "cell_type": "code",
   "execution_count": 59,
   "id": "dc5663f9",
   "metadata": {},
   "outputs": [
    {
     "data": {
      "text/plain": [
       "F      202448\n",
       "M      105059\n",
       "XNA         4\n",
       "Name: CODE_GENDER, dtype: int64"
      ]
     },
     "execution_count": 59,
     "metadata": {},
     "output_type": "execute_result"
    }
   ],
   "source": [
    "app_df.CODE_GENDER.value_counts()"
   ]
  },
  {
   "cell_type": "markdown",
   "id": "27dcf74f",
   "metadata": {},
   "source": [
    "<b>Observation</b>: There are more females than males who applied for loan"
   ]
  },
  {
   "cell_type": "markdown",
   "id": "a1e9756f",
   "metadata": {},
   "source": [
    "<p><b>Observation</b>: CODE_GENDER column seems to have 4 values with value as \"XNA\". If we try to guess, maybe someone added that to denote as field not filled, or client did not want to disclose his gender or client does not fall in other two genders.</p>\n",
    "<p>Replacing \"XNA\" with null values would be a crime against humanity, So lets consider XNA as a placeholder for now. This is best route for all the standard scenarios like <b>incorrect inputed value, missing value and gender equality</b></p>"
   ]
  },
  {
   "cell_type": "markdown",
   "id": "ec8c5ddb",
   "metadata": {},
   "source": [
    "Lets analise gender wise defaulters"
   ]
  },
  {
   "cell_type": "code",
   "execution_count": 66,
   "id": "174c84e8",
   "metadata": {
    "scrolled": false
   },
   "outputs": [
    {
     "data": {
      "text/plain": [
       "<AxesSubplot:xlabel='CODE_GENDER', ylabel='count'>"
      ]
     },
     "execution_count": 66,
     "metadata": {},
     "output_type": "execute_result"
    },
    {
     "data": {
      "image/png": "[encoded data removed]",
      "text/plain": [
       "<Figure size 640x480 with 1 Axes>"
      ]
     },
     "metadata": {},
     "output_type": "display_data"
    }
   ],
   "source": [
    "sns.countplot(data = app_df, x = \"CODE_GENDER\", hue = \"TARGET\")"
   ]
  },
  {
   "cell_type": "markdown",
   "id": "bde4d94f",
   "metadata": {},
   "source": [
    "<div style=\"background-color: #dcf5de; padding: 10px\"><b style=\"color: green\">Observation Insight</b>: In above chart we can clearly see percentage of Males are more likely to be defaulter than females. In other words females would be better candidate to give loan to.</div>"
   ]
  },
  {
   "cell_type": "markdown",
   "id": "2cb426c1",
   "metadata": {},
   "source": [
    "Lets see what happens with people who <b>own a car</b>"
   ]
  },
  {
   "cell_type": "code",
   "execution_count": 69,
   "id": "ae203a4f",
   "metadata": {},
   "outputs": [
    {
     "data": {
      "text/plain": [
       "N    202924\n",
       "Y    104587\n",
       "Name: FLAG_OWN_CAR, dtype: int64"
      ]
     },
     "execution_count": 69,
     "metadata": {},
     "output_type": "execute_result"
    }
   ],
   "source": [
    "app_df.FLAG_OWN_CAR.value_counts()"
   ]
  },
  {
   "cell_type": "code",
   "execution_count": 70,
   "id": "bf4e6d11",
   "metadata": {},
   "outputs": [
    {
     "data": {
      "text/plain": [
       "<AxesSubplot:xlabel='FLAG_OWN_CAR', ylabel='count'>"
      ]
     },
     "execution_count": 70,
     "metadata": {},
     "output_type": "execute_result"
    },
    {
     "data": {
      "image/png": "[encoded data removed]",
      "text/plain": [
       "<Figure size 640x480 with 1 Axes>"
      ]
     },
     "metadata": {},
     "output_type": "display_data"
    }
   ],
   "source": [
    "sns.countplot(data = app_df, x = \"FLAG_OWN_CAR\", hue = \"TARGET\")"
   ]
  },
  {
   "cell_type": "markdown",
   "id": "522c85ac",
   "metadata": {},
   "source": [
    "<div style=\"background-color: #dcf5de; padding: 10px\"><b style=\"color: green\">Observation Insight</b>: People who own a car are more in percentage to become defaulter. Not sure why... Do they have too many expenses? Do they show-off things and things which are hidden like credit score they dont care ?</div>"
   ]
  },
  {
   "cell_type": "markdown",
   "id": "e9336ab9",
   "metadata": {},
   "source": [
    "Lets see what happens with people who <b>own a house or flat</b>"
   ]
  },
  {
   "cell_type": "code",
   "execution_count": 71,
   "id": "71d4513d",
   "metadata": {},
   "outputs": [
    {
     "data": {
      "text/plain": [
       "<AxesSubplot:xlabel='FLAG_OWN_REALTY', ylabel='count'>"
      ]
     },
     "execution_count": 71,
     "metadata": {},
     "output_type": "execute_result"
    },
    {
     "data": {
      "image/png": "[encoded data removed]",
      "text/plain": [
       "<Figure size 640x480 with 1 Axes>"
      ]
     },
     "metadata": {},
     "output_type": "display_data"
    }
   ],
   "source": [
    "sns.countplot(data = app_df, x = \"FLAG_OWN_REALTY\", hue = \"TARGET\")"
   ]
  },
  {
   "cell_type": "markdown",
   "id": "1145da58",
   "metadata": {},
   "source": [
    "<div style=\"background-color: #dcf5de; padding: 10px\"><b style=\"color: green\">Observation Insight</b>:\n",
    "    <p>People who own a house or flat which is immovable property are likely to pay off their debt than those who do not own house/flat.</p>\n",
    "    <p>It is one of good insight we found, maybe who do not have house/flat think even if they become defaulter bank can not do much damage to them and they simply can move away anytime they want, Or another assumption we can make is who do not own a house have to pay rent and have more expences</p>\n",
    "</div>"
   ]
  },
  {
   "cell_type": "markdown",
   "id": "b3432b39",
   "metadata": {},
   "source": [
    "Now lets see how <b>count of children</b> affects defaulters (Personally I'm just curious to see the result of clients who have around 10 or more children... lol)"
   ]
  },
  {
   "cell_type": "code",
   "execution_count": 75,
   "id": "d6febc99",
   "metadata": {},
   "outputs": [
    {
     "data": {
      "text/plain": [
       "0     215371\n",
       "1      61119\n",
       "2      26749\n",
       "3       3717\n",
       "4        429\n",
       "5         84\n",
       "6         21\n",
       "7          7\n",
       "14         3\n",
       "8          2\n",
       "9          2\n",
       "12         2\n",
       "10         2\n",
       "19         2\n",
       "11         1\n",
       "Name: CNT_CHILDREN, dtype: int64"
      ]
     },
     "execution_count": 75,
     "metadata": {},
     "output_type": "execute_result"
    }
   ],
   "source": [
    "app_df.CNT_CHILDREN.value_counts()"
   ]
  },
  {
   "cell_type": "code",
   "execution_count": 74,
   "id": "fc28b915",
   "metadata": {},
   "outputs": [
    {
     "data": {
      "text/plain": [
       "<AxesSubplot:xlabel='CNT_CHILDREN', ylabel='count'>"
      ]
     },
     "execution_count": 74,
     "metadata": {},
     "output_type": "execute_result"
    },
    {
     "data": {
      "image/png": "[encoded data removed]",
      "text/plain": [
       "<Figure size 1400x400 with 1 Axes>"
      ]
     },
     "metadata": {},
     "output_type": "display_data"
    }
   ],
   "source": [
    "plt.figure(figsize=[14,4])\n",
    "sns.countplot(data = app_df, x = \"CNT_CHILDREN\", hue = \"TARGET\")"
   ]
  },
  {
   "cell_type": "markdown",
   "id": "ff16ec09",
   "metadata": {},
   "source": [
    "Seems have 19 children is outlier value, but anyway we dont judge. Lets ignore those and look at bigger stats"
   ]
  },
  {
   "cell_type": "markdown",
   "id": "27367002",
   "metadata": {},
   "source": [
    "<div style=\"background-color: #dcf5de; padding: 10px\"><b style=\"color: green\">Observation Insight</b>: Client who have less children are more likely to payoff their debts. Lower the number of children, higher is the probability of client being ideal candidate</div>"
   ]
  },
  {
   "cell_type": "markdown",
   "id": "539d3cb3",
   "metadata": {},
   "source": [
    "Lets analyse <b>client's incomes</b>"
   ]
  },
  {
   "cell_type": "code",
   "execution_count": 78,
   "id": "b8a13d0f",
   "metadata": {},
   "outputs": [
    {
     "data": {
      "image/png": "[encoded data removed]",
      "text/plain": [
       "<Figure size 640x480 with 1 Axes>"
      ]
     },
     "metadata": {},
     "output_type": "display_data"
    }
   ],
   "source": [
    "plt.hist(app_df.AMT_INCOME_TOTAL, bins=10)\n",
    "plt.show()"
   ]
  },
  {
   "cell_type": "markdown",
   "id": "24cce43d",
   "metadata": {},
   "source": [
    "Above graph is all messed up, lets check why"
   ]
  },
  {
   "cell_type": "code",
   "execution_count": 81,
   "id": "44d18418",
   "metadata": {},
   "outputs": [
    {
     "data": {
      "text/plain": [
       "count    3.075110e+05\n",
       "mean     1.687979e+05\n",
       "std      2.371231e+05\n",
       "min      2.565000e+04\n",
       "25%      1.125000e+05\n",
       "50%      1.471500e+05\n",
       "75%      2.025000e+05\n",
       "max      1.170000e+08\n",
       "Name: AMT_INCOME_TOTAL, dtype: float64"
      ]
     },
     "execution_count": 81,
     "metadata": {},
     "output_type": "execute_result"
    }
   ],
   "source": [
    "app_df.AMT_INCOME_TOTAL.describe()"
   ]
  },
  {
   "cell_type": "code",
   "execution_count": 83,
   "id": "f4b4c85d",
   "metadata": {},
   "outputs": [
    {
     "data": {
      "text/plain": [
       "25650.0"
      ]
     },
     "execution_count": 83,
     "metadata": {},
     "output_type": "execute_result"
    }
   ],
   "source": [
    "app_df.AMT_INCOME_TOTAL.min()"
   ]
  },
  {
   "cell_type": "code",
   "execution_count": 84,
   "id": "3c95eafe",
   "metadata": {},
   "outputs": [
    {
     "data": {
      "text/plain": [
       "117000000.0"
      ]
     },
     "execution_count": 84,
     "metadata": {},
     "output_type": "execute_result"
    }
   ],
   "source": [
    "app_df.AMT_INCOME_TOTAL.max()"
   ]
  },
  {
   "cell_type": "markdown",
   "id": "022e4457",
   "metadata": {},
   "source": [
    "it seems there are clients with high income group. We can not remove those entries as banks have high profile candidates also.\n",
    "So it would be better if we bin values. Which should given more insight about different income groups too"
   ]
  },
  {
   "cell_type": "code",
   "execution_count": 86,
   "id": "1a0c882c",
   "metadata": {
    "scrolled": true
   },
   "outputs": [
    {
     "name": "stdout",
     "output_type": "stream",
     "text": [
      "Help on method quantile in module pandas.core.series:\n",
      "\n",
      "quantile(q=0.5, interpolation='linear') method of pandas.core.series.Series instance\n",
      "    Return value at the given quantile.\n",
      "    \n",
      "    Parameters\n",
      "    ----------\n",
      "    q : float or array-like, default 0.5 (50% quantile)\n",
      "        The quantile(s) to compute, which can lie in range: 0 <= q <= 1.\n",
      "    interpolation : {'linear', 'lower', 'higher', 'midpoint', 'nearest'}\n",
      "        This optional parameter specifies the interpolation method to use,\n",
      "        when the desired quantile lies between two data points `i` and `j`:\n",
      "    \n",
      "            * linear: `i + (j - i) * fraction`, where `fraction` is the\n",
      "              fractional part of the index surrounded by `i` and `j`.\n",
      "            * lower: `i`.\n",
      "            * higher: `j`.\n",
      "            * nearest: `i` or `j` whichever is nearest.\n",
      "            * midpoint: (`i` + `j`) / 2.\n",
      "    \n",
      "    Returns\n",
      "    -------\n",
      "    float or Series\n",
      "        If ``q`` is an array, a Series will be returned where the\n",
      "        index is ``q`` and the values are the quantiles, otherwise\n",
      "        a float will be returned.\n",
      "    \n",
      "    See Also\n",
      "    --------\n",
      "    core.window.Rolling.quantile : Calculate the rolling quantile.\n",
      "    numpy.percentile : Returns the q-th percentile(s) of the array elements.\n",
      "    \n",
      "    Examples\n",
      "    --------\n",
      "    >>> s = pd.Series([1, 2, 3, 4])\n",
      "    >>> s.quantile(.5)\n",
      "    2.5\n",
      "    >>> s.quantile([.25, .5, .75])\n",
      "    0.25    1.75\n",
      "    0.50    2.50\n",
      "    0.75    3.25\n",
      "    dtype: float64\n",
      "\n"
     ]
    }
   ],
   "source": [
    "help(app_df.AMT_INCOME_TOTAL.quantile)"
   ]
  },
  {
   "cell_type": "code",
   "execution_count": 87,
   "id": "1a7dd2ca",
   "metadata": {
    "scrolled": true
   },
   "outputs": [
    {
     "name": "stdout",
     "output_type": "stream",
     "text": [
      "Help on function cut in module pandas.core.reshape.tile:\n",
      "\n",
      "cut(x, bins, right: 'bool' = True, labels=None, retbins: 'bool' = False, precision: 'int' = 3, include_lowest: 'bool' = False, duplicates: 'str' = 'raise', ordered: 'bool' = True)\n",
      "    Bin values into discrete intervals.\n",
      "    \n",
      "    Use `cut` when you need to segment and sort data values into bins. This\n",
      "    function is also useful for going from a continuous variable to a\n",
      "    categorical variable. For example, `cut` could convert ages to groups of\n",
      "    age ranges. Supports binning into an equal number of bins, or a\n",
      "    pre-specified array of bins.\n",
      "    \n",
      "    Parameters\n",
      "    ----------\n",
      "    x : array-like\n",
      "        The input array to be binned. Must be 1-dimensional.\n",
      "    bins : int, sequence of scalars, or IntervalIndex\n",
      "        The criteria to bin by.\n",
      "    \n",
      "        * int : Defines the number of equal-width bins in the range of `x`. The\n",
      "          range of `x` is extended by .1% on each side to include the minimum\n",
      "          and maximum values of `x`.\n",
      "        * sequence of scalars : Defines the bin edges allowing for non-uniform\n",
      "          width. No extension of the range of `x` is done.\n",
      "        * IntervalIndex : Defines the exact bins to be used. Note that\n",
      "          IntervalIndex for `bins` must be non-overlapping.\n",
      "    \n",
      "    right : bool, default True\n",
      "        Indicates whether `bins` includes the rightmost edge or not. If\n",
      "        ``right == True`` (the default), then the `bins` ``[1, 2, 3, 4]``\n",
      "        indicate (1,2], (2,3], (3,4]. This argument is ignored when\n",
      "        `bins` is an IntervalIndex.\n",
      "    labels : array or False, default None\n",
      "        Specifies the labels for the returned bins. Must be the same length as\n",
      "        the resulting bins. If False, returns only integer indicators of the\n",
      "        bins. This affects the type of the output container (see below).\n",
      "        This argument is ignored when `bins` is an IntervalIndex. If True,\n",
      "        raises an error. When `ordered=False`, labels must be provided.\n",
      "    retbins : bool, default False\n",
      "        Whether to return the bins or not. Useful when bins is provided\n",
      "        as a scalar.\n",
      "    precision : int, default 3\n",
      "        The precision at which to store and display the bins labels.\n",
      "    include_lowest : bool, default False\n",
      "        Whether the first interval should be left-inclusive or not.\n",
      "    duplicates : {default 'raise', 'drop'}, optional\n",
      "        If bin edges are not unique, raise ValueError or drop non-uniques.\n",
      "    ordered : bool, default True\n",
      "        Whether the labels are ordered or not. Applies to returned types\n",
      "        Categorical and Series (with Categorical dtype). If True,\n",
      "        the resulting categorical will be ordered. If False, the resulting\n",
      "        categorical will be unordered (labels must be provided).\n",
      "    \n",
      "        .. versionadded:: 1.1.0\n",
      "    \n",
      "    Returns\n",
      "    -------\n",
      "    out : Categorical, Series, or ndarray\n",
      "        An array-like object representing the respective bin for each value\n",
      "        of `x`. The type depends on the value of `labels`.\n",
      "    \n",
      "        * None (default) : returns a Series for Series `x` or a\n",
      "          Categorical for all other inputs. The values stored within\n",
      "          are Interval dtype.\n",
      "    \n",
      "        * sequence of scalars : returns a Series for Series `x` or a\n",
      "          Categorical for all other inputs. The values stored within\n",
      "          are whatever the type in the sequence is.\n",
      "    \n",
      "        * False : returns an ndarray of integers.\n",
      "    \n",
      "    bins : numpy.ndarray or IntervalIndex.\n",
      "        The computed or specified bins. Only returned when `retbins=True`.\n",
      "        For scalar or sequence `bins`, this is an ndarray with the computed\n",
      "        bins. If set `duplicates=drop`, `bins` will drop non-unique bin. For\n",
      "        an IntervalIndex `bins`, this is equal to `bins`.\n",
      "    \n",
      "    See Also\n",
      "    --------\n",
      "    qcut : Discretize variable into equal-sized buckets based on rank\n",
      "        or based on sample quantiles.\n",
      "    Categorical : Array type for storing data that come from a\n",
      "        fixed set of values.\n",
      "    Series : One-dimensional array with axis labels (including time series).\n",
      "    IntervalIndex : Immutable Index implementing an ordered, sliceable set.\n",
      "    \n",
      "    Notes\n",
      "    -----\n",
      "    Any NA values will be NA in the result. Out of bounds values will be NA in\n",
      "    the resulting Series or Categorical object.\n",
      "    \n",
      "    Reference :ref:`the user guide <reshaping.tile.cut>` for more examples.\n",
      "    \n",
      "    Examples\n",
      "    --------\n",
      "    Discretize into three equal-sized bins.\n",
      "    \n",
      "    >>> pd.cut(np.array([1, 7, 5, 4, 6, 3]), 3)\n",
      "    ... # doctest: +ELLIPSIS\n",
      "    [(0.994, 3.0], (5.0, 7.0], (3.0, 5.0], (3.0, 5.0], (5.0, 7.0], ...\n",
      "    Categories (3, interval[float64, right]): [(0.994, 3.0] < (3.0, 5.0] ...\n",
      "    \n",
      "    >>> pd.cut(np.array([1, 7, 5, 4, 6, 3]), 3, retbins=True)\n",
      "    ... # doctest: +ELLIPSIS\n",
      "    ([(0.994, 3.0], (5.0, 7.0], (3.0, 5.0], (3.0, 5.0], (5.0, 7.0], ...\n",
      "    Categories (3, interval[float64, right]): [(0.994, 3.0] < (3.0, 5.0] ...\n",
      "    array([0.994, 3.   , 5.   , 7.   ]))\n",
      "    \n",
      "    Discovers the same bins, but assign them specific labels. Notice that\n",
      "    the returned Categorical's categories are `labels` and is ordered.\n",
      "    \n",
      "    >>> pd.cut(np.array([1, 7, 5, 4, 6, 3]),\n",
      "    ...        3, labels=[\"bad\", \"medium\", \"good\"])\n",
      "    ['bad', 'good', 'medium', 'medium', 'good', 'bad']\n",
      "    Categories (3, object): ['bad' < 'medium' < 'good']\n",
      "    \n",
      "    ``ordered=False`` will result in unordered categories when labels are passed.\n",
      "    This parameter can be used to allow non-unique labels:\n",
      "    \n",
      "    >>> pd.cut(np.array([1, 7, 5, 4, 6, 3]), 3,\n",
      "    ...        labels=[\"B\", \"A\", \"B\"], ordered=False)\n",
      "    ['B', 'B', 'A', 'A', 'B', 'B']\n",
      "    Categories (2, object): ['A', 'B']\n",
      "    \n",
      "    ``labels=False`` implies you just want the bins back.\n",
      "    \n",
      "    >>> pd.cut([0, 1, 1, 2], bins=4, labels=False)\n",
      "    array([0, 1, 1, 3])\n",
      "    \n",
      "    Passing a Series as an input returns a Series with categorical dtype:\n",
      "    \n",
      "    >>> s = pd.Series(np.array([2, 4, 6, 8, 10]),\n",
      "    ...               index=['a', 'b', 'c', 'd', 'e'])\n",
      "    >>> pd.cut(s, 3)\n",
      "    ... # doctest: +ELLIPSIS\n",
      "    a    (1.992, 4.667]\n",
      "    b    (1.992, 4.667]\n",
      "    c    (4.667, 7.333]\n",
      "    d     (7.333, 10.0]\n",
      "    e     (7.333, 10.0]\n",
      "    dtype: category\n",
      "    Categories (3, interval[float64, right]): [(1.992, 4.667] < (4.667, ...\n",
      "    \n",
      "    Passing a Series as an input returns a Series with mapping value.\n",
      "    It is used to map numerically to intervals based on bins.\n",
      "    \n",
      "    >>> s = pd.Series(np.array([2, 4, 6, 8, 10]),\n",
      "    ...               index=['a', 'b', 'c', 'd', 'e'])\n",
      "    >>> pd.cut(s, [0, 2, 4, 6, 8, 10], labels=False, retbins=True, right=False)\n",
      "    ... # doctest: +ELLIPSIS\n",
      "    (a    1.0\n",
      "     b    2.0\n",
      "     c    3.0\n",
      "     d    4.0\n",
      "     e    NaN\n",
      "     dtype: float64,\n",
      "     array([ 0,  2,  4,  6,  8, 10]))\n",
      "    \n",
      "    Use `drop` optional when bins is not unique\n",
      "    \n",
      "    >>> pd.cut(s, [0, 2, 4, 6, 10, 10], labels=False, retbins=True,\n",
      "    ...        right=False, duplicates='drop')\n",
      "    ... # doctest: +ELLIPSIS\n",
      "    (a    1.0\n",
      "     b    2.0\n",
      "     c    3.0\n",
      "     d    3.0\n",
      "     e    NaN\n",
      "     dtype: float64,\n",
      "     array([ 0,  2,  4,  6, 10]))\n",
      "    \n",
      "    Passing an IntervalIndex for `bins` results in those categories exactly.\n",
      "    Notice that values not covered by the IntervalIndex are set to NaN. 0\n",
      "    is to the left of the first bin (which is closed on the right), and 1.5\n",
      "    falls between two bins.\n",
      "    \n",
      "    >>> bins = pd.IntervalIndex.from_tuples([(0, 1), (2, 3), (4, 5)])\n",
      "    >>> pd.cut([0, 0.5, 1.5, 2.5, 4.5], bins)\n",
      "    [NaN, (0.0, 1.0], NaN, (2.0, 3.0], (4.0, 5.0]]\n",
      "    Categories (3, interval[int64, right]): [(0, 1] < (2, 3] < (4, 5]]\n",
      "\n"
     ]
    }
   ],
   "source": [
    "help(pd.cut)"
   ]
  },
  {
   "cell_type": "code",
   "execution_count": 90,
   "id": "9d22508b",
   "metadata": {},
   "outputs": [],
   "source": [
    "app_df[\"income_group\"]= pd.cut(app_df.AMT_INCOME_TOTAL,[0, 50000, 100000, 150000, 200000, 250000, 500000, 750000, 100000000], labels= [\"<50k\",\"50k-1L\",\"1-1.5L\",\"1.5-2L\", \"2-2.5L\", \"2.5-5L\", \"5-7.5L\", \"7.5L+\"])"
   ]
  },
  {
   "cell_type": "code",
   "execution_count": 92,
   "id": "52a7b508",
   "metadata": {},
   "outputs": [
    {
     "data": {
      "text/plain": [
       "1-1.5L    91591\n",
       "1.5-2L    64307\n",
       "50k-1L    59181\n",
       "2-2.5L    48137\n",
       "2.5-5L    37076\n",
       "<50k       4517\n",
       "5-7.5L     2058\n",
       "7.5L+       643\n",
       "Name: income_group, dtype: int64"
      ]
     },
     "execution_count": 92,
     "metadata": {},
     "output_type": "execute_result"
    }
   ],
   "source": [
    "app_df.income_group.value_counts()"
   ]
  },
  {
   "cell_type": "code",
   "execution_count": 93,
   "id": "bac41e2a",
   "metadata": {},
   "outputs": [
    {
     "data": {
      "text/plain": [
       "<AxesSubplot:>"
      ]
     },
     "execution_count": 93,
     "metadata": {},
     "output_type": "execute_result"
    },
    {
     "data": {
      "image/png": "[encoded data removed]",
      "text/plain": [
       "<Figure size 640x480 with 1 Axes>"
      ]
     },
     "metadata": {},
     "output_type": "display_data"
    }
   ],
   "source": [
    "app_df.income_group.value_counts().plot.bar()"
   ]
  },
  {
   "cell_type": "markdown",
   "id": "a8bdbac9",
   "metadata": {},
   "source": [
    "<b>Observation</b>: It seems we have more application from clients who have income in range 1 lakh to 1.5 lakh"
   ]
  },
  {
   "cell_type": "markdown",
   "id": "cf237d5c",
   "metadata": {},
   "source": [
    "lets see defaulters in those income groups"
   ]
  },
  {
   "cell_type": "code",
   "execution_count": 136,
   "id": "bbbb5a1e",
   "metadata": {},
   "outputs": [
    {
     "data": {
      "text/plain": [
       "<AxesSubplot:xlabel='TARGET', ylabel='AMT_CREDIT'>"
      ]
     },
     "execution_count": 136,
     "metadata": {},
     "output_type": "execute_result"
    },
    {
     "data": {
      "image/png": "[encoded data removed]",
      "text/plain": [
       "<Figure size 640x480 with 1 Axes>"
      ]
     },
     "metadata": {},
     "output_type": "display_data"
    }
   ],
   "source": [
    "sns.boxplot(data=app_df,x=\"TARGET\", y=\"AMT_CREDIT\")"
   ]
  },
  {
   "cell_type": "markdown",
   "id": "d2865349",
   "metadata": {},
   "source": [
    "Lets try plotting different type of chart"
   ]
  },
  {
   "cell_type": "code",
   "execution_count": 124,
   "id": "fad7b12c",
   "metadata": {},
   "outputs": [
    {
     "data": {
      "text/plain": [
       "<AxesSubplot:xlabel='income_group', ylabel='count'>"
      ]
     },
     "execution_count": 124,
     "metadata": {},
     "output_type": "execute_result"
    },
    {
     "data": {
      "image/png": "[encoded data removed]",
      "text/plain": [
       "<Figure size 1200x500 with 1 Axes>"
      ]
     },
     "metadata": {},
     "output_type": "display_data"
    }
   ],
   "source": [
    "plt.figure(figsize=[12, 5])\n",
    "sns.countplot(data = app_df, x = \"income_group\", hue = \"TARGET\")"
   ]
  },
  {
   "cell_type": "markdown",
   "id": "017da76f",
   "metadata": {},
   "source": [
    "<div style=\"background-color: #dcf5de; padding: 10px\"><b style=\"color: green\">Observation Insight</b>: Most efficient income group is with income in range of 1 to 1.5 lakh</div>"
   ]
  },
  {
   "cell_type": "markdown",
   "id": "8594597e",
   "metadata": {},
   "source": [
    "Next column is <b>AMT_CREDIT</b> i.e. credit amount of the loan, lets see what effect it have"
   ]
  },
  {
   "cell_type": "code",
   "execution_count": 114,
   "id": "28fc15e3",
   "metadata": {},
   "outputs": [],
   "source": [
    "# first lets bin the credit amount\n",
    "\n",
    "bins = [0,100000,200000,300000,400000,500000,600000,700000,800000,900000,1000000,10000000]\n",
    "labels = ['0-1L','1-2L', '2-3L','3-4L','4-5L','5-6L','6-7L','7-8L', '8-9L','9-10L', '10L Above']\n",
    "app_df['loan_amt_range']=pd.cut(app_df['AMT_CREDIT'],bins=bins,labels=labels)"
   ]
  },
  {
   "cell_type": "code",
   "execution_count": 115,
   "id": "84a2898b",
   "metadata": {},
   "outputs": [
    {
     "data": {
      "text/plain": [
       "2-3L         54813\n",
       "10L Above    49985\n",
       "5-6L         34232\n",
       "4-5L         32038\n",
       "1-2L         30140\n",
       "3-4L         26338\n",
       "6-7L         24049\n",
       "8-9L         21792\n",
       "7-8L         19193\n",
       "9-10L         8927\n",
       "0-1L          6004\n",
       "Name: loan_amt_range, dtype: int64"
      ]
     },
     "execution_count": 115,
     "metadata": {},
     "output_type": "execute_result"
    }
   ],
   "source": [
    "app_df['loan_amt_range'].value_counts()"
   ]
  },
  {
   "cell_type": "code",
   "execution_count": 116,
   "id": "ae5ab8ea",
   "metadata": {},
   "outputs": [
    {
     "data": {
      "text/plain": [
       "2-3L         0.178247\n",
       "10L Above    0.162547\n",
       "5-6L         0.111320\n",
       "4-5L         0.104185\n",
       "1-2L         0.098013\n",
       "3-4L         0.085649\n",
       "6-7L         0.078205\n",
       "8-9L         0.070866\n",
       "7-8L         0.062414\n",
       "9-10L        0.029030\n",
       "0-1L         0.019525\n",
       "Name: loan_amt_range, dtype: float64"
      ]
     },
     "execution_count": 116,
     "metadata": {},
     "output_type": "execute_result"
    }
   ],
   "source": [
    "# instead of number, lets see percentage wise for more better clarity\n",
    "app_df['loan_amt_range'].value_counts(normalize=True)"
   ]
  },
  {
   "cell_type": "code",
   "execution_count": 118,
   "id": "5e11781f",
   "metadata": {},
   "outputs": [
    {
     "data": {
      "text/plain": [
       "<AxesSubplot:ylabel='loan_amt_range'>"
      ]
     },
     "execution_count": 118,
     "metadata": {},
     "output_type": "execute_result"
    },
    {
     "data": {
      "image/png": "[encoded data removed]",
      "text/plain": [
       "<Figure size 640x480 with 1 Axes>"
      ]
     },
     "metadata": {},
     "output_type": "display_data"
    }
   ],
   "source": [
    "# we havent plotted any pie charts yet.. lets have some pie\n",
    "app_df['loan_amt_range'].value_counts(normalize=True).plot.pie()"
   ]
  },
  {
   "cell_type": "markdown",
   "id": "f40443ae",
   "metadata": {},
   "source": [
    "<b>observation</b>: Compared to other loan amounts, most people have taken loan in group 2-3L and 10 lakh above."
   ]
  },
  {
   "cell_type": "markdown",
   "id": "4b705672",
   "metadata": {},
   "source": [
    "lets analyse what different client income types are doing"
   ]
  },
  {
   "cell_type": "code",
   "execution_count": 119,
   "id": "7d61812d",
   "metadata": {},
   "outputs": [
    {
     "data": {
      "text/plain": [
       "Working                 158774\n",
       "Commercial associate     71617\n",
       "Pensioner                55362\n",
       "State servant            21703\n",
       "Unemployed                  22\n",
       "Student                     18\n",
       "Businessman                 10\n",
       "Maternity leave              5\n",
       "Name: NAME_INCOME_TYPE, dtype: int64"
      ]
     },
     "execution_count": 119,
     "metadata": {},
     "output_type": "execute_result"
    }
   ],
   "source": [
    "app_df.NAME_INCOME_TYPE.value_counts()"
   ]
  },
  {
   "cell_type": "code",
   "execution_count": 126,
   "id": "72c423c3",
   "metadata": {},
   "outputs": [
    {
     "data": {
      "text/plain": [
       "(array([0, 1, 2, 3, 4, 5, 6, 7]),\n",
       " [Text(0, 0, 'Working'),\n",
       "  Text(1, 0, 'State servant'),\n",
       "  Text(2, 0, 'Commercial associate'),\n",
       "  Text(3, 0, 'Pensioner'),\n",
       "  Text(4, 0, 'Unemployed'),\n",
       "  Text(5, 0, 'Student'),\n",
       "  Text(6, 0, 'Businessman'),\n",
       "  Text(7, 0, 'Maternity leave')])"
      ]
     },
     "execution_count": 126,
     "metadata": {},
     "output_type": "execute_result"
    },
    {
     "data": {
      "image/png": "[encoded data removed]",
      "text/plain": [
       "<Figure size 640x480 with 1 Axes>"
      ]
     },
     "metadata": {},
     "output_type": "display_data"
    }
   ],
   "source": [
    "sns.countplot(data = app_df, x = \"NAME_INCOME_TYPE\", hue = \"TARGET\")\n",
    "plt.xticks(rotation=90)"
   ]
  },
  {
   "cell_type": "markdown",
   "id": "f3d38546",
   "metadata": {},
   "source": [
    "<div style=\"background-color: #dcf5de; padding: 10px\"><b style=\"color: green\">Observation Insight</b>: As always, working people are being good citizen and paying off their debts.</div>"
   ]
  },
  {
   "cell_type": "markdown",
   "id": "f94b72db",
   "metadata": {},
   "source": [
    "Lets see how <b>education</b> plays its part"
   ]
  },
  {
   "cell_type": "code",
   "execution_count": 130,
   "id": "8892bb34",
   "metadata": {},
   "outputs": [
    {
     "data": {
      "text/plain": [
       "<AxesSubplot:ylabel='NAME_EDUCATION_TYPE'>"
      ]
     },
     "execution_count": 130,
     "metadata": {},
     "output_type": "execute_result"
    },
    {
     "data": {
      "image/png": "[encoded data removed]",
      "text/plain": [
       "<Figure size 640x480 with 1 Axes>"
      ]
     },
     "metadata": {},
     "output_type": "display_data"
    }
   ],
   "source": [
    "app_df.NAME_EDUCATION_TYPE.value_counts(normalize=True).plot.pie()"
   ]
  },
  {
   "cell_type": "markdown",
   "id": "0b9390a9",
   "metadata": {},
   "source": [
    "<b>observation</b>: Can see most of the people who applied for loan are of having education secondary/secondary special"
   ]
  },
  {
   "cell_type": "markdown",
   "id": "1578c515",
   "metadata": {},
   "source": [
    "lets see which education group have most defaulters"
   ]
  },
  {
   "cell_type": "code",
   "execution_count": 132,
   "id": "1ad5325b",
   "metadata": {},
   "outputs": [
    {
     "data": {
      "text/plain": [
       "(array([0, 1, 2, 3, 4]),\n",
       " [Text(0, 0, 'Secondary / secondary special'),\n",
       "  Text(1, 0, 'Higher education'),\n",
       "  Text(2, 0, 'Incomplete higher'),\n",
       "  Text(3, 0, 'Lower secondary'),\n",
       "  Text(4, 0, 'Academic degree')])"
      ]
     },
     "execution_count": 132,
     "metadata": {},
     "output_type": "execute_result"
    },
    {
     "data": {
      "image/png": "[encoded data removed]",
      "text/plain": [
       "<Figure size 640x480 with 1 Axes>"
      ]
     },
     "metadata": {},
     "output_type": "display_data"
    }
   ],
   "source": [
    "sns.countplot(data = app_df, x = \"NAME_EDUCATION_TYPE\", hue = \"TARGET\")\n",
    "plt.xticks(rotation=45)"
   ]
  },
  {
   "cell_type": "markdown",
   "id": "cb5379a6",
   "metadata": {},
   "source": [
    "<b>Observation</b>: most efficient group to not become defaulters are Secondary / secondary special"
   ]
  },
  {
   "cell_type": "markdown",
   "id": "16141b3e",
   "metadata": {},
   "source": [
    "Lets check correlation between credit and income"
   ]
  },
  {
   "cell_type": "code",
   "execution_count": 137,
   "id": "9b75e3f4",
   "metadata": {},
   "outputs": [
    {
     "data": {
      "image/png": "[encoded data removed]",
      "text/plain": [
       "<Figure size 640x480 with 2 Axes>"
      ]
     },
     "metadata": {},
     "output_type": "display_data"
    }
   ],
   "source": [
    "sns.heatmap( app_df[['AMT_INCOME_TOTAL', 'AMT_CREDIT', 'TARGET']].corr(), annot= True, cmap= \"Reds\")\n",
    "plt.show()"
   ]
  },
  {
   "cell_type": "code",
   "execution_count": null,
   "id": "1cbc7da3",
   "metadata": {},
   "outputs": [],
   "source": []
  },
  {
   "cell_type": "code",
   "execution_count": null,
   "id": "69223849",
   "metadata": {},
   "outputs": [],
   "source": []
  },
  {
   "cell_type": "markdown",
   "id": "bed8419d",
   "metadata": {},
   "source": [
    "## Import previous application data"
   ]
  },
  {
   "cell_type": "markdown",
   "id": "1fa29792",
   "metadata": {},
   "source": [
    "Lets now import and inspect previous application data"
   ]
  },
  {
   "cell_type": "code",
   "execution_count": 139,
   "id": "937b6196",
   "metadata": {},
   "outputs": [],
   "source": [
    "prev_df = pd.read_csv('previous_application.csv')"
   ]
  },
  {
   "cell_type": "code",
   "execution_count": 140,
   "id": "cb37fc8d",
   "metadata": {},
   "outputs": [
    {
     "data": {
      "text/html": [
       "<div>\n",
       "<style scoped>\n",
       "    .dataframe tbody tr th:only-of-type {\n",
       "        vertical-align: middle;\n",
       "    }\n",
       "\n",
       "    .dataframe tbody tr th {\n",
       "        vertical-align: top;\n",
       "    }\n",
       "\n",
       "    .dataframe thead th {\n",
       "        text-align: right;\n",
       "    }\n",
       "</style>\n",
       "<table border=\"1\" class=\"dataframe\">\n",
       "  <thead>\n",
       "    <tr style=\"text-align: right;\">\n",
       "      <th></th>\n",
       "      <th>SK_ID_PREV</th>\n",
       "      <th>SK_ID_CURR</th>\n",
       "      <th>NAME_CONTRACT_TYPE</th>\n",
       "      <th>AMT_ANNUITY</th>\n",
       "      <th>AMT_APPLICATION</th>\n",
       "      <th>AMT_CREDIT</th>\n",
       "      <th>AMT_DOWN_PAYMENT</th>\n",
       "      <th>AMT_GOODS_PRICE</th>\n",
       "      <th>WEEKDAY_APPR_PROCESS_START</th>\n",
       "      <th>HOUR_APPR_PROCESS_START</th>\n",
       "      <th>...</th>\n",
       "      <th>NAME_SELLER_INDUSTRY</th>\n",
       "      <th>CNT_PAYMENT</th>\n",
       "      <th>NAME_YIELD_GROUP</th>\n",
       "      <th>PRODUCT_COMBINATION</th>\n",
       "      <th>DAYS_FIRST_DRAWING</th>\n",
       "      <th>DAYS_FIRST_DUE</th>\n",
       "      <th>DAYS_LAST_DUE_1ST_VERSION</th>\n",
       "      <th>DAYS_LAST_DUE</th>\n",
       "      <th>DAYS_TERMINATION</th>\n",
       "      <th>NFLAG_INSURED_ON_APPROVAL</th>\n",
       "    </tr>\n",
       "  </thead>\n",
       "  <tbody>\n",
       "    <tr>\n",
       "      <th>0</th>\n",
       "      <td>2030495</td>\n",
       "      <td>271877</td>\n",
       "      <td>Consumer loans</td>\n",
       "      <td>1730.430</td>\n",
       "      <td>17145.0</td>\n",
       "      <td>17145.0</td>\n",
       "      <td>0.0</td>\n",
       "      <td>17145.0</td>\n",
       "      <td>SATURDAY</td>\n",
       "      <td>15</td>\n",
       "      <td>...</td>\n",
       "      <td>Connectivity</td>\n",
       "      <td>12.0</td>\n",
       "      <td>middle</td>\n",
       "      <td>POS mobile with interest</td>\n",
       "      <td>365243.0</td>\n",
       "      <td>-42.0</td>\n",
       "      <td>300.0</td>\n",
       "      <td>-42.0</td>\n",
       "      <td>-37.0</td>\n",
       "      <td>0.0</td>\n",
       "    </tr>\n",
       "    <tr>\n",
       "      <th>1</th>\n",
       "      <td>2802425</td>\n",
       "      <td>108129</td>\n",
       "      <td>Cash loans</td>\n",
       "      <td>25188.615</td>\n",
       "      <td>607500.0</td>\n",
       "      <td>679671.0</td>\n",
       "      <td>NaN</td>\n",
       "      <td>607500.0</td>\n",
       "      <td>THURSDAY</td>\n",
       "      <td>11</td>\n",
       "      <td>...</td>\n",
       "      <td>XNA</td>\n",
       "      <td>36.0</td>\n",
       "      <td>low_action</td>\n",
       "      <td>Cash X-Sell: low</td>\n",
       "      <td>365243.0</td>\n",
       "      <td>-134.0</td>\n",
       "      <td>916.0</td>\n",
       "      <td>365243.0</td>\n",
       "      <td>365243.0</td>\n",
       "      <td>1.0</td>\n",
       "    </tr>\n",
       "    <tr>\n",
       "      <th>2</th>\n",
       "      <td>2523466</td>\n",
       "      <td>122040</td>\n",
       "      <td>Cash loans</td>\n",
       "      <td>15060.735</td>\n",
       "      <td>112500.0</td>\n",
       "      <td>136444.5</td>\n",
       "      <td>NaN</td>\n",
       "      <td>112500.0</td>\n",
       "      <td>TUESDAY</td>\n",
       "      <td>11</td>\n",
       "      <td>...</td>\n",
       "      <td>XNA</td>\n",
       "      <td>12.0</td>\n",
       "      <td>high</td>\n",
       "      <td>Cash X-Sell: high</td>\n",
       "      <td>365243.0</td>\n",
       "      <td>-271.0</td>\n",
       "      <td>59.0</td>\n",
       "      <td>365243.0</td>\n",
       "      <td>365243.0</td>\n",
       "      <td>1.0</td>\n",
       "    </tr>\n",
       "    <tr>\n",
       "      <th>3</th>\n",
       "      <td>2819243</td>\n",
       "      <td>176158</td>\n",
       "      <td>Cash loans</td>\n",
       "      <td>47041.335</td>\n",
       "      <td>450000.0</td>\n",
       "      <td>470790.0</td>\n",
       "      <td>NaN</td>\n",
       "      <td>450000.0</td>\n",
       "      <td>MONDAY</td>\n",
       "      <td>7</td>\n",
       "      <td>...</td>\n",
       "      <td>XNA</td>\n",
       "      <td>12.0</td>\n",
       "      <td>middle</td>\n",
       "      <td>Cash X-Sell: middle</td>\n",
       "      <td>365243.0</td>\n",
       "      <td>-482.0</td>\n",
       "      <td>-152.0</td>\n",
       "      <td>-182.0</td>\n",
       "      <td>-177.0</td>\n",
       "      <td>1.0</td>\n",
       "    </tr>\n",
       "    <tr>\n",
       "      <th>4</th>\n",
       "      <td>1784265</td>\n",
       "      <td>202054</td>\n",
       "      <td>Cash loans</td>\n",
       "      <td>31924.395</td>\n",
       "      <td>337500.0</td>\n",
       "      <td>404055.0</td>\n",
       "      <td>NaN</td>\n",
       "      <td>337500.0</td>\n",
       "      <td>THURSDAY</td>\n",
       "      <td>9</td>\n",
       "      <td>...</td>\n",
       "      <td>XNA</td>\n",
       "      <td>24.0</td>\n",
       "      <td>high</td>\n",
       "      <td>Cash Street: high</td>\n",
       "      <td>NaN</td>\n",
       "      <td>NaN</td>\n",
       "      <td>NaN</td>\n",
       "      <td>NaN</td>\n",
       "      <td>NaN</td>\n",
       "      <td>NaN</td>\n",
       "    </tr>\n",
       "  </tbody>\n",
       "</table>\n",
       "<p>5 rows × 37 columns</p>\n",
       "</div>"
      ],
      "text/plain": [
       "   SK_ID_PREV  SK_ID_CURR NAME_CONTRACT_TYPE  AMT_ANNUITY  AMT_APPLICATION  \\\n",
       "0     2030495      271877     Consumer loans     1730.430          17145.0   \n",
       "1     2802425      108129         Cash loans    25188.615         607500.0   \n",
       "2     2523466      122040         Cash loans    15060.735         112500.0   \n",
       "3     2819243      176158         Cash loans    47041.335         450000.0   \n",
       "4     1784265      202054         Cash loans    31924.395         337500.0   \n",
       "\n",
       "   AMT_CREDIT  AMT_DOWN_PAYMENT  AMT_GOODS_PRICE WEEKDAY_APPR_PROCESS_START  \\\n",
       "0     17145.0               0.0          17145.0                   SATURDAY   \n",
       "1    679671.0               NaN         607500.0                   THURSDAY   \n",
       "2    136444.5               NaN         112500.0                    TUESDAY   \n",
       "3    470790.0               NaN         450000.0                     MONDAY   \n",
       "4    404055.0               NaN         337500.0                   THURSDAY   \n",
       "\n",
       "   HOUR_APPR_PROCESS_START  ... NAME_SELLER_INDUSTRY  CNT_PAYMENT  \\\n",
       "0                       15  ...         Connectivity         12.0   \n",
       "1                       11  ...                  XNA         36.0   \n",
       "2                       11  ...                  XNA         12.0   \n",
       "3                        7  ...                  XNA         12.0   \n",
       "4                        9  ...                  XNA         24.0   \n",
       "\n",
       "   NAME_YIELD_GROUP       PRODUCT_COMBINATION  DAYS_FIRST_DRAWING  \\\n",
       "0            middle  POS mobile with interest            365243.0   \n",
       "1        low_action          Cash X-Sell: low            365243.0   \n",
       "2              high         Cash X-Sell: high            365243.0   \n",
       "3            middle       Cash X-Sell: middle            365243.0   \n",
       "4              high         Cash Street: high                 NaN   \n",
       "\n",
       "  DAYS_FIRST_DUE DAYS_LAST_DUE_1ST_VERSION  DAYS_LAST_DUE DAYS_TERMINATION  \\\n",
       "0          -42.0                     300.0          -42.0            -37.0   \n",
       "1         -134.0                     916.0       365243.0         365243.0   \n",
       "2         -271.0                      59.0       365243.0         365243.0   \n",
       "3         -482.0                    -152.0         -182.0           -177.0   \n",
       "4            NaN                       NaN            NaN              NaN   \n",
       "\n",
       "  NFLAG_INSURED_ON_APPROVAL  \n",
       "0                       0.0  \n",
       "1                       1.0  \n",
       "2                       1.0  \n",
       "3                       1.0  \n",
       "4                       NaN  \n",
       "\n",
       "[5 rows x 37 columns]"
      ]
     },
     "execution_count": 140,
     "metadata": {},
     "output_type": "execute_result"
    }
   ],
   "source": [
    "prev_df.head()"
   ]
  },
  {
   "cell_type": "markdown",
   "id": "4df548de",
   "metadata": {},
   "source": [
    "As we can assume from column description, NAME_CONTRACT_STATUS is something we will be more interested in. As it shows what happened with previous application. Lets see later if we find more interesting things."
   ]
  },
  {
   "cell_type": "code",
   "execution_count": 142,
   "id": "66bea38f",
   "metadata": {},
   "outputs": [
    {
     "data": {
      "text/plain": [
       "(1670214, 37)"
      ]
     },
     "execution_count": 142,
     "metadata": {},
     "output_type": "execute_result"
    }
   ],
   "source": [
    "prev_df.shape"
   ]
  },
  {
   "cell_type": "code",
   "execution_count": 141,
   "id": "b2150450",
   "metadata": {},
   "outputs": [
    {
     "name": "stdout",
     "output_type": "stream",
     "text": [
      "<class 'pandas.core.frame.DataFrame'>\n",
      "RangeIndex: 1670214 entries, 0 to 1670213\n",
      "Data columns (total 37 columns):\n",
      " #   Column                       Non-Null Count    Dtype  \n",
      "---  ------                       --------------    -----  \n",
      " 0   SK_ID_PREV                   1670214 non-null  int64  \n",
      " 1   SK_ID_CURR                   1670214 non-null  int64  \n",
      " 2   NAME_CONTRACT_TYPE           1670214 non-null  object \n",
      " 3   AMT_ANNUITY                  1297979 non-null  float64\n",
      " 4   AMT_APPLICATION              1670214 non-null  float64\n",
      " 5   AMT_CREDIT                   1670213 non-null  float64\n",
      " 6   AMT_DOWN_PAYMENT             774370 non-null   float64\n",
      " 7   AMT_GOODS_PRICE              1284699 non-null  float64\n",
      " 8   WEEKDAY_APPR_PROCESS_START   1670214 non-null  object \n",
      " 9   HOUR_APPR_PROCESS_START      1670214 non-null  int64  \n",
      " 10  FLAG_LAST_APPL_PER_CONTRACT  1670214 non-null  object \n",
      " 11  NFLAG_LAST_APPL_IN_DAY       1670214 non-null  int64  \n",
      " 12  RATE_DOWN_PAYMENT            774370 non-null   float64\n",
      " 13  RATE_INTEREST_PRIMARY        5951 non-null     float64\n",
      " 14  RATE_INTEREST_PRIVILEGED     5951 non-null     float64\n",
      " 15  NAME_CASH_LOAN_PURPOSE       1670214 non-null  object \n",
      " 16  NAME_CONTRACT_STATUS         1670214 non-null  object \n",
      " 17  DAYS_DECISION                1670214 non-null  int64  \n",
      " 18  NAME_PAYMENT_TYPE            1670214 non-null  object \n",
      " 19  CODE_REJECT_REASON           1670214 non-null  object \n",
      " 20  NAME_TYPE_SUITE              849809 non-null   object \n",
      " 21  NAME_CLIENT_TYPE             1670214 non-null  object \n",
      " 22  NAME_GOODS_CATEGORY          1670214 non-null  object \n",
      " 23  NAME_PORTFOLIO               1670214 non-null  object \n",
      " 24  NAME_PRODUCT_TYPE            1670214 non-null  object \n",
      " 25  CHANNEL_TYPE                 1670214 non-null  object \n",
      " 26  SELLERPLACE_AREA             1670214 non-null  int64  \n",
      " 27  NAME_SELLER_INDUSTRY         1670214 non-null  object \n",
      " 28  CNT_PAYMENT                  1297984 non-null  float64\n",
      " 29  NAME_YIELD_GROUP             1670214 non-null  object \n",
      " 30  PRODUCT_COMBINATION          1669868 non-null  object \n",
      " 31  DAYS_FIRST_DRAWING           997149 non-null   float64\n",
      " 32  DAYS_FIRST_DUE               997149 non-null   float64\n",
      " 33  DAYS_LAST_DUE_1ST_VERSION    997149 non-null   float64\n",
      " 34  DAYS_LAST_DUE                997149 non-null   float64\n",
      " 35  DAYS_TERMINATION             997149 non-null   float64\n",
      " 36  NFLAG_INSURED_ON_APPROVAL    997149 non-null   float64\n",
      "dtypes: float64(15), int64(6), object(16)\n",
      "memory usage: 471.5+ MB\n"
     ]
    }
   ],
   "source": [
    "prev_df.info()"
   ]
  },
  {
   "cell_type": "markdown",
   "id": "f08b7439",
   "metadata": {},
   "source": [
    "Data types of columns seems okay when compared with provided column description file. Lets tackle any situation later if we need it. Lets proceed with Data cleanup"
   ]
  },
  {
   "cell_type": "markdown",
   "id": "70e49909",
   "metadata": {},
   "source": [
    "## Data Cleanup of Previous application"
   ]
  },
  {
   "cell_type": "markdown",
   "id": "86e4545d",
   "metadata": {},
   "source": [
    "lets find null values in prev app data"
   ]
  },
  {
   "cell_type": "code",
   "execution_count": 144,
   "id": "5064368e",
   "metadata": {},
   "outputs": [
    {
     "data": {
      "text/plain": [
       "SK_ID_PREV                           0\n",
       "SK_ID_CURR                           0\n",
       "NAME_CONTRACT_TYPE                   0\n",
       "AMT_ANNUITY                     372235\n",
       "AMT_APPLICATION                      0\n",
       "AMT_CREDIT                           1\n",
       "AMT_DOWN_PAYMENT                895844\n",
       "AMT_GOODS_PRICE                 385515\n",
       "WEEKDAY_APPR_PROCESS_START           0\n",
       "HOUR_APPR_PROCESS_START              0\n",
       "FLAG_LAST_APPL_PER_CONTRACT          0\n",
       "NFLAG_LAST_APPL_IN_DAY               0\n",
       "RATE_DOWN_PAYMENT               895844\n",
       "RATE_INTEREST_PRIMARY          1664263\n",
       "RATE_INTEREST_PRIVILEGED       1664263\n",
       "NAME_CASH_LOAN_PURPOSE               0\n",
       "NAME_CONTRACT_STATUS                 0\n",
       "DAYS_DECISION                        0\n",
       "NAME_PAYMENT_TYPE                    0\n",
       "CODE_REJECT_REASON                   0\n",
       "NAME_TYPE_SUITE                 820405\n",
       "NAME_CLIENT_TYPE                     0\n",
       "NAME_GOODS_CATEGORY                  0\n",
       "NAME_PORTFOLIO                       0\n",
       "NAME_PRODUCT_TYPE                    0\n",
       "CHANNEL_TYPE                         0\n",
       "SELLERPLACE_AREA                     0\n",
       "NAME_SELLER_INDUSTRY                 0\n",
       "CNT_PAYMENT                     372230\n",
       "NAME_YIELD_GROUP                     0\n",
       "PRODUCT_COMBINATION                346\n",
       "DAYS_FIRST_DRAWING              673065\n",
       "DAYS_FIRST_DUE                  673065\n",
       "DAYS_LAST_DUE_1ST_VERSION       673065\n",
       "DAYS_LAST_DUE                   673065\n",
       "DAYS_TERMINATION                673065\n",
       "NFLAG_INSURED_ON_APPROVAL       673065\n",
       "dtype: int64"
      ]
     },
     "execution_count": 144,
     "metadata": {},
     "output_type": "execute_result"
    }
   ],
   "source": [
    "prev_df.isna().sum()"
   ]
  },
  {
   "cell_type": "markdown",
   "id": "2f47a985",
   "metadata": {},
   "source": [
    "lets see null values in percentages"
   ]
  },
  {
   "cell_type": "code",
   "execution_count": 146,
   "id": "dc2cf7c2",
   "metadata": {},
   "outputs": [
    {
     "data": {
      "text/plain": [
       "SK_ID_PREV                      0.000000\n",
       "SK_ID_CURR                      0.000000\n",
       "NAME_CONTRACT_TYPE              0.000000\n",
       "AMT_ANNUITY                    22.286665\n",
       "AMT_APPLICATION                 0.000000\n",
       "AMT_CREDIT                      0.000060\n",
       "AMT_DOWN_PAYMENT               53.636480\n",
       "AMT_GOODS_PRICE                23.081773\n",
       "WEEKDAY_APPR_PROCESS_START      0.000000\n",
       "HOUR_APPR_PROCESS_START         0.000000\n",
       "FLAG_LAST_APPL_PER_CONTRACT     0.000000\n",
       "NFLAG_LAST_APPL_IN_DAY          0.000000\n",
       "RATE_DOWN_PAYMENT              53.636480\n",
       "RATE_INTEREST_PRIMARY          99.643698\n",
       "RATE_INTEREST_PRIVILEGED       99.643698\n",
       "NAME_CASH_LOAN_PURPOSE          0.000000\n",
       "NAME_CONTRACT_STATUS            0.000000\n",
       "DAYS_DECISION                   0.000000\n",
       "NAME_PAYMENT_TYPE               0.000000\n",
       "CODE_REJECT_REASON              0.000000\n",
       "NAME_TYPE_SUITE                49.119754\n",
       "NAME_CLIENT_TYPE                0.000000\n",
       "NAME_GOODS_CATEGORY             0.000000\n",
       "NAME_PORTFOLIO                  0.000000\n",
       "NAME_PRODUCT_TYPE               0.000000\n",
       "CHANNEL_TYPE                    0.000000\n",
       "SELLERPLACE_AREA                0.000000\n",
       "NAME_SELLER_INDUSTRY            0.000000\n",
       "CNT_PAYMENT                    22.286366\n",
       "NAME_YIELD_GROUP                0.000000\n",
       "PRODUCT_COMBINATION             0.020716\n",
       "DAYS_FIRST_DRAWING             40.298129\n",
       "DAYS_FIRST_DUE                 40.298129\n",
       "DAYS_LAST_DUE_1ST_VERSION      40.298129\n",
       "DAYS_LAST_DUE                  40.298129\n",
       "DAYS_TERMINATION               40.298129\n",
       "NFLAG_INSURED_ON_APPROVAL      40.298129\n",
       "dtype: float64"
      ]
     },
     "execution_count": 146,
     "metadata": {},
     "output_type": "execute_result"
    }
   ],
   "source": [
    "prev_df.isnull().sum() * 100 / prev_df.shape[0]"
   ]
  },
  {
   "cell_type": "markdown",
   "id": "d2306a26",
   "metadata": {},
   "source": [
    "As per checking above columns with provided column descriptions, all of the columns having > 40% null values seems to be of no use to us in analysis. So instead of imputing those values lets get rid of them"
   ]
  },
  {
   "cell_type": "code",
   "execution_count": 147,
   "id": "659f9322",
   "metadata": {},
   "outputs": [],
   "source": [
    "prev_df = prev_df[prev_df.columns[prev_df.isnull().mean() < 0.4]]"
   ]
  },
  {
   "cell_type": "code",
   "execution_count": 148,
   "id": "925d26cb",
   "metadata": {},
   "outputs": [
    {
     "data": {
      "text/plain": [
       "SK_ID_PREV                      0.000000\n",
       "SK_ID_CURR                      0.000000\n",
       "NAME_CONTRACT_TYPE              0.000000\n",
       "AMT_ANNUITY                    22.286665\n",
       "AMT_APPLICATION                 0.000000\n",
       "AMT_CREDIT                      0.000060\n",
       "AMT_GOODS_PRICE                23.081773\n",
       "WEEKDAY_APPR_PROCESS_START      0.000000\n",
       "HOUR_APPR_PROCESS_START         0.000000\n",
       "FLAG_LAST_APPL_PER_CONTRACT     0.000000\n",
       "NFLAG_LAST_APPL_IN_DAY          0.000000\n",
       "NAME_CASH_LOAN_PURPOSE          0.000000\n",
       "NAME_CONTRACT_STATUS            0.000000\n",
       "DAYS_DECISION                   0.000000\n",
       "NAME_PAYMENT_TYPE               0.000000\n",
       "CODE_REJECT_REASON              0.000000\n",
       "NAME_CLIENT_TYPE                0.000000\n",
       "NAME_GOODS_CATEGORY             0.000000\n",
       "NAME_PORTFOLIO                  0.000000\n",
       "NAME_PRODUCT_TYPE               0.000000\n",
       "CHANNEL_TYPE                    0.000000\n",
       "SELLERPLACE_AREA                0.000000\n",
       "NAME_SELLER_INDUSTRY            0.000000\n",
       "CNT_PAYMENT                    22.286366\n",
       "NAME_YIELD_GROUP                0.000000\n",
       "PRODUCT_COMBINATION             0.020716\n",
       "dtype: float64"
      ]
     },
     "execution_count": 148,
     "metadata": {},
     "output_type": "execute_result"
    }
   ],
   "source": [
    "# lets verify columns percentage wise, and see what are remained\n",
    "\n",
    "prev_df.isnull().sum() * 100 / prev_df.shape[0]"
   ]
  },
  {
   "cell_type": "markdown",
   "id": "ee01aebb",
   "metadata": {},
   "source": [
    "Lets check empty value column AMT_ANNUITY"
   ]
  },
  {
   "cell_type": "code",
   "execution_count": 149,
   "id": "66048fe2",
   "metadata": {},
   "outputs": [
    {
     "data": {
      "text/plain": [
       "count    1.297979e+06\n",
       "mean     1.595512e+04\n",
       "std      1.478214e+04\n",
       "min      0.000000e+00\n",
       "25%      6.321780e+03\n",
       "50%      1.125000e+04\n",
       "75%      2.065842e+04\n",
       "max      4.180581e+05\n",
       "Name: AMT_ANNUITY, dtype: float64"
      ]
     },
     "execution_count": 149,
     "metadata": {},
     "output_type": "execute_result"
    }
   ],
   "source": [
    "prev_df.AMT_ANNUITY.describe()"
   ]
  },
  {
   "cell_type": "code",
   "execution_count": 150,
   "id": "32951bc3",
   "metadata": {},
   "outputs": [
    {
     "data": {
      "text/plain": [
       "<AxesSubplot:>"
      ]
     },
     "execution_count": 150,
     "metadata": {},
     "output_type": "execute_result"
    },
    {
     "data": {
      "image/png": "[encoded data removed]",
      "text/plain": [
       "<Figure size 640x480 with 1 Axes>"
      ]
     },
     "metadata": {},
     "output_type": "display_data"
    }
   ],
   "source": [
    "prev_df.AMT_ANNUITY.plot.box()"
   ]
  },
  {
   "cell_type": "markdown",
   "id": "7a0636e5",
   "metadata": {},
   "source": [
    "same as application data, most of the values are around bottom of box plot, so it makes sense to fill na values with median instead of mean."
   ]
  },
  {
   "cell_type": "code",
   "execution_count": 151,
   "id": "3fab7a51",
   "metadata": {},
   "outputs": [],
   "source": [
    "prev_df.AMT_ANNUITY = prev_df.AMT_ANNUITY.fillna(prev_df.AMT_ANNUITY.median())"
   ]
  },
  {
   "cell_type": "markdown",
   "id": "0252a39a",
   "metadata": {},
   "source": [
    "Next column \"AMT_GOODS_PRICE\""
   ]
  },
  {
   "cell_type": "code",
   "execution_count": 152,
   "id": "6d080f50",
   "metadata": {},
   "outputs": [
    {
     "data": {
      "text/plain": [
       "count    1.284699e+06\n",
       "mean     2.278473e+05\n",
       "std      3.153966e+05\n",
       "min      0.000000e+00\n",
       "25%      5.084100e+04\n",
       "50%      1.123200e+05\n",
       "75%      2.340000e+05\n",
       "max      6.905160e+06\n",
       "Name: AMT_GOODS_PRICE, dtype: float64"
      ]
     },
     "execution_count": 152,
     "metadata": {},
     "output_type": "execute_result"
    }
   ],
   "source": [
    "prev_df.AMT_GOODS_PRICE.describe()"
   ]
  },
  {
   "cell_type": "code",
   "execution_count": 153,
   "id": "2f5c1fda",
   "metadata": {},
   "outputs": [
    {
     "data": {
      "text/plain": [
       "<AxesSubplot:>"
      ]
     },
     "execution_count": 153,
     "metadata": {},
     "output_type": "execute_result"
    },
    {
     "data": {
      "image/png": "[encoded data removed]",
      "text/plain": [
       "<Figure size 640x480 with 1 Axes>"
      ]
     },
     "metadata": {},
     "output_type": "display_data"
    }
   ],
   "source": [
    "prev_df.AMT_GOODS_PRICE.plot.box()"
   ]
  },
  {
   "cell_type": "markdown",
   "id": "24a9abb4",
   "metadata": {},
   "source": [
    "same as above, lets fill NAs with median"
   ]
  },
  {
   "cell_type": "code",
   "execution_count": 155,
   "id": "f5a2b034",
   "metadata": {},
   "outputs": [],
   "source": [
    "prev_df.AMT_GOODS_PRICE = prev_df.AMT_GOODS_PRICE.fillna(prev_df.AMT_GOODS_PRICE.median())"
   ]
  },
  {
   "cell_type": "markdown",
   "id": "82536c5c",
   "metadata": {},
   "source": [
    "Lets see what columns remained for NAs"
   ]
  },
  {
   "cell_type": "code",
   "execution_count": 156,
   "id": "7fb825dd",
   "metadata": {},
   "outputs": [
    {
     "data": {
      "text/plain": [
       "SK_ID_PREV                      0.000000\n",
       "SK_ID_CURR                      0.000000\n",
       "NAME_CONTRACT_TYPE              0.000000\n",
       "AMT_ANNUITY                     0.000000\n",
       "AMT_APPLICATION                 0.000000\n",
       "AMT_CREDIT                      0.000060\n",
       "AMT_GOODS_PRICE                 0.000000\n",
       "WEEKDAY_APPR_PROCESS_START      0.000000\n",
       "HOUR_APPR_PROCESS_START         0.000000\n",
       "FLAG_LAST_APPL_PER_CONTRACT     0.000000\n",
       "NFLAG_LAST_APPL_IN_DAY          0.000000\n",
       "NAME_CASH_LOAN_PURPOSE          0.000000\n",
       "NAME_CONTRACT_STATUS            0.000000\n",
       "DAYS_DECISION                   0.000000\n",
       "NAME_PAYMENT_TYPE               0.000000\n",
       "CODE_REJECT_REASON              0.000000\n",
       "NAME_CLIENT_TYPE                0.000000\n",
       "NAME_GOODS_CATEGORY             0.000000\n",
       "NAME_PORTFOLIO                  0.000000\n",
       "NAME_PRODUCT_TYPE               0.000000\n",
       "CHANNEL_TYPE                    0.000000\n",
       "SELLERPLACE_AREA                0.000000\n",
       "NAME_SELLER_INDUSTRY            0.000000\n",
       "CNT_PAYMENT                    22.286366\n",
       "NAME_YIELD_GROUP                0.000000\n",
       "PRODUCT_COMBINATION             0.020716\n",
       "dtype: float64"
      ]
     },
     "execution_count": 156,
     "metadata": {},
     "output_type": "execute_result"
    }
   ],
   "source": [
    "prev_df.isnull().sum() * 100 / prev_df.shape[0]"
   ]
  },
  {
   "cell_type": "markdown",
   "id": "8e459769",
   "metadata": {},
   "source": [
    "Now sizable empty value column is \"CNT_PAYMENT\""
   ]
  },
  {
   "cell_type": "code",
   "execution_count": 157,
   "id": "06f234b5",
   "metadata": {},
   "outputs": [
    {
     "data": {
      "text/plain": [
       "count    1.297984e+06\n",
       "mean     1.605408e+01\n",
       "std      1.456729e+01\n",
       "min      0.000000e+00\n",
       "25%      6.000000e+00\n",
       "50%      1.200000e+01\n",
       "75%      2.400000e+01\n",
       "max      8.400000e+01\n",
       "Name: CNT_PAYMENT, dtype: float64"
      ]
     },
     "execution_count": 157,
     "metadata": {},
     "output_type": "execute_result"
    }
   ],
   "source": [
    "prev_df.CNT_PAYMENT.describe()"
   ]
  },
  {
   "cell_type": "markdown",
   "id": "dea6c188",
   "metadata": {},
   "source": [
    "From checking column description, this column shows what was terms of credit in previous application. As stated at start, we would need to explore things with outcome status of application too. So lets see what happned with those applications."
   ]
  },
  {
   "cell_type": "code",
   "execution_count": 163,
   "id": "20c1581b",
   "metadata": {},
   "outputs": [
    {
     "data": {
      "text/plain": [
       "<AxesSubplot:ylabel='NAME_CONTRACT_STATUS'>"
      ]
     },
     "execution_count": 163,
     "metadata": {},
     "output_type": "execute_result"
    },
    {
     "data": {
      "image/png": "[encoded data removed]",
      "text/plain": [
       "<Figure size 640x480 with 1 Axes>"
      ]
     },
     "metadata": {},
     "output_type": "display_data"
    }
   ],
   "source": [
    "prev_df.loc[prev_df['CNT_PAYMENT'].isnull(),'NAME_CONTRACT_STATUS'].value_counts().plot.pie()"
   ]
  },
  {
   "cell_type": "markdown",
   "id": "23f5b6cc",
   "metadata": {},
   "source": [
    "<b>Observation</b>: As we can clearly see here, almost all applications were not started. So there is no chance that user made payments. So lets impute those empty values with 0."
   ]
  },
  {
   "cell_type": "code",
   "execution_count": 164,
   "id": "7394e654",
   "metadata": {},
   "outputs": [],
   "source": [
    "prev_df['CNT_PAYMENT'].fillna(0,inplace = True)"
   ]
  },
  {
   "cell_type": "markdown",
   "id": "548b22ad",
   "metadata": {},
   "source": [
    "Lets see whats the status of nulls"
   ]
  },
  {
   "cell_type": "code",
   "execution_count": 165,
   "id": "239c0e18",
   "metadata": {},
   "outputs": [
    {
     "data": {
      "text/plain": [
       "SK_ID_PREV                       0\n",
       "SK_ID_CURR                       0\n",
       "NAME_CONTRACT_TYPE               0\n",
       "AMT_ANNUITY                      0\n",
       "AMT_APPLICATION                  0\n",
       "AMT_CREDIT                       1\n",
       "AMT_GOODS_PRICE                  0\n",
       "WEEKDAY_APPR_PROCESS_START       0\n",
       "HOUR_APPR_PROCESS_START          0\n",
       "FLAG_LAST_APPL_PER_CONTRACT      0\n",
       "NFLAG_LAST_APPL_IN_DAY           0\n",
       "NAME_CASH_LOAN_PURPOSE           0\n",
       "NAME_CONTRACT_STATUS             0\n",
       "DAYS_DECISION                    0\n",
       "NAME_PAYMENT_TYPE                0\n",
       "CODE_REJECT_REASON               0\n",
       "NAME_CLIENT_TYPE                 0\n",
       "NAME_GOODS_CATEGORY              0\n",
       "NAME_PORTFOLIO                   0\n",
       "NAME_PRODUCT_TYPE                0\n",
       "CHANNEL_TYPE                     0\n",
       "SELLERPLACE_AREA                 0\n",
       "NAME_SELLER_INDUSTRY             0\n",
       "CNT_PAYMENT                      0\n",
       "NAME_YIELD_GROUP                 0\n",
       "PRODUCT_COMBINATION            346\n",
       "dtype: int64"
      ]
     },
     "execution_count": 165,
     "metadata": {},
     "output_type": "execute_result"
    }
   ],
   "source": [
    "prev_df.isnull().sum()"
   ]
  },
  {
   "cell_type": "code",
   "execution_count": 169,
   "id": "d4eb960d",
   "metadata": {},
   "outputs": [
    {
     "data": {
      "text/html": [
       "<div>\n",
       "<style scoped>\n",
       "    .dataframe tbody tr th:only-of-type {\n",
       "        vertical-align: middle;\n",
       "    }\n",
       "\n",
       "    .dataframe tbody tr th {\n",
       "        vertical-align: top;\n",
       "    }\n",
       "\n",
       "    .dataframe thead th {\n",
       "        text-align: right;\n",
       "    }\n",
       "</style>\n",
       "<table border=\"1\" class=\"dataframe\">\n",
       "  <thead>\n",
       "    <tr style=\"text-align: right;\">\n",
       "      <th></th>\n",
       "      <th>SK_ID_PREV</th>\n",
       "      <th>SK_ID_CURR</th>\n",
       "      <th>NAME_CONTRACT_TYPE</th>\n",
       "      <th>AMT_ANNUITY</th>\n",
       "      <th>AMT_APPLICATION</th>\n",
       "      <th>AMT_CREDIT</th>\n",
       "      <th>AMT_GOODS_PRICE</th>\n",
       "      <th>WEEKDAY_APPR_PROCESS_START</th>\n",
       "      <th>HOUR_APPR_PROCESS_START</th>\n",
       "      <th>FLAG_LAST_APPL_PER_CONTRACT</th>\n",
       "      <th>...</th>\n",
       "      <th>NAME_CLIENT_TYPE</th>\n",
       "      <th>NAME_GOODS_CATEGORY</th>\n",
       "      <th>NAME_PORTFOLIO</th>\n",
       "      <th>NAME_PRODUCT_TYPE</th>\n",
       "      <th>CHANNEL_TYPE</th>\n",
       "      <th>SELLERPLACE_AREA</th>\n",
       "      <th>NAME_SELLER_INDUSTRY</th>\n",
       "      <th>CNT_PAYMENT</th>\n",
       "      <th>NAME_YIELD_GROUP</th>\n",
       "      <th>PRODUCT_COMBINATION</th>\n",
       "    </tr>\n",
       "  </thead>\n",
       "  <tbody>\n",
       "    <tr>\n",
       "      <th>1127152</th>\n",
       "      <td>2204450</td>\n",
       "      <td>438387</td>\n",
       "      <td>Revolving loans</td>\n",
       "      <td>0.0</td>\n",
       "      <td>0.0</td>\n",
       "      <td>NaN</td>\n",
       "      <td>112320.0</td>\n",
       "      <td>FRIDAY</td>\n",
       "      <td>10</td>\n",
       "      <td>Y</td>\n",
       "      <td>...</td>\n",
       "      <td>Repeater</td>\n",
       "      <td>XNA</td>\n",
       "      <td>Cards</td>\n",
       "      <td>walk-in</td>\n",
       "      <td>Country-wide</td>\n",
       "      <td>20</td>\n",
       "      <td>Connectivity</td>\n",
       "      <td>0.0</td>\n",
       "      <td>XNA</td>\n",
       "      <td>Card Street</td>\n",
       "    </tr>\n",
       "  </tbody>\n",
       "</table>\n",
       "<p>1 rows × 26 columns</p>\n",
       "</div>"
      ],
      "text/plain": [
       "         SK_ID_PREV  SK_ID_CURR NAME_CONTRACT_TYPE  AMT_ANNUITY  \\\n",
       "1127152     2204450      438387    Revolving loans          0.0   \n",
       "\n",
       "         AMT_APPLICATION  AMT_CREDIT  AMT_GOODS_PRICE  \\\n",
       "1127152              0.0         NaN         112320.0   \n",
       "\n",
       "        WEEKDAY_APPR_PROCESS_START  HOUR_APPR_PROCESS_START  \\\n",
       "1127152                     FRIDAY                       10   \n",
       "\n",
       "        FLAG_LAST_APPL_PER_CONTRACT  ...  NAME_CLIENT_TYPE  \\\n",
       "1127152                           Y  ...          Repeater   \n",
       "\n",
       "        NAME_GOODS_CATEGORY NAME_PORTFOLIO  NAME_PRODUCT_TYPE  CHANNEL_TYPE  \\\n",
       "1127152                 XNA          Cards            walk-in  Country-wide   \n",
       "\n",
       "        SELLERPLACE_AREA NAME_SELLER_INDUSTRY CNT_PAYMENT NAME_YIELD_GROUP  \\\n",
       "1127152               20         Connectivity         0.0              XNA   \n",
       "\n",
       "        PRODUCT_COMBINATION  \n",
       "1127152         Card Street  \n",
       "\n",
       "[1 rows x 26 columns]"
      ]
     },
     "execution_count": 169,
     "metadata": {},
     "output_type": "execute_result"
    }
   ],
   "source": [
    "prev_df[prev_df.AMT_CREDIT.isna()]"
   ]
  },
  {
   "cell_type": "code",
   "execution_count": 170,
   "id": "81993c56",
   "metadata": {},
   "outputs": [
    {
     "data": {
      "text/plain": [
       "1127152    Approved\n",
       "Name: NAME_CONTRACT_STATUS, dtype: object"
      ]
     },
     "execution_count": 170,
     "metadata": {},
     "output_type": "execute_result"
    }
   ],
   "source": [
    "prev_df[prev_df.AMT_CREDIT.isna()][\"NAME_CONTRACT_STATUS\"]"
   ]
  },
  {
   "cell_type": "code",
   "execution_count": 168,
   "id": "bffa3604",
   "metadata": {},
   "outputs": [
    {
     "data": {
      "text/plain": [
       "1127152    0.0\n",
       "Name: AMT_APPLICATION, dtype: float64"
      ]
     },
     "execution_count": 168,
     "metadata": {},
     "output_type": "execute_result"
    }
   ],
   "source": [
    "prev_df[prev_df.AMT_CREDIT.isna()][\"AMT_APPLICATION\"]"
   ]
  },
  {
   "cell_type": "markdown",
   "id": "7fffc407",
   "metadata": {},
   "source": [
    "<b>observation</b>:\n",
    "<p>As we can clearly see, The row with AMT_CREDIT seems to have corrupted as it does not make any sense. Why would someone make application for zero (0) amount and then get loan \"approved\" with null value.</p>\n",
    "<p>Lets remove that row</p>"
   ]
  },
  {
   "cell_type": "code",
   "execution_count": 171,
   "id": "ea7654fd",
   "metadata": {},
   "outputs": [
    {
     "data": {
      "text/plain": [
       "(1670214, 26)"
      ]
     },
     "execution_count": 171,
     "metadata": {},
     "output_type": "execute_result"
    }
   ],
   "source": [
    "prev_df.shape"
   ]
  },
  {
   "cell_type": "code",
   "execution_count": 174,
   "id": "bf923447",
   "metadata": {},
   "outputs": [],
   "source": [
    "prev_df = prev_df[~prev_df.AMT_CREDIT.isna()]"
   ]
  },
  {
   "cell_type": "code",
   "execution_count": 176,
   "id": "4fb23c9c",
   "metadata": {},
   "outputs": [
    {
     "data": {
      "text/plain": [
       "(1670213, 26)"
      ]
     },
     "execution_count": 176,
     "metadata": {},
     "output_type": "execute_result"
    }
   ],
   "source": [
    "# lets verify if size became less than only single entry\n",
    "prev_df.shape"
   ]
  },
  {
   "cell_type": "markdown",
   "id": "b98e4239",
   "metadata": {},
   "source": [
    "good, now lets check other nulls"
   ]
  },
  {
   "cell_type": "code",
   "execution_count": 177,
   "id": "e460e2eb",
   "metadata": {},
   "outputs": [
    {
     "data": {
      "text/plain": [
       "SK_ID_PREV                       0\n",
       "SK_ID_CURR                       0\n",
       "NAME_CONTRACT_TYPE               0\n",
       "AMT_ANNUITY                      0\n",
       "AMT_APPLICATION                  0\n",
       "AMT_CREDIT                       0\n",
       "AMT_GOODS_PRICE                  0\n",
       "WEEKDAY_APPR_PROCESS_START       0\n",
       "HOUR_APPR_PROCESS_START          0\n",
       "FLAG_LAST_APPL_PER_CONTRACT      0\n",
       "NFLAG_LAST_APPL_IN_DAY           0\n",
       "NAME_CASH_LOAN_PURPOSE           0\n",
       "NAME_CONTRACT_STATUS             0\n",
       "DAYS_DECISION                    0\n",
       "NAME_PAYMENT_TYPE                0\n",
       "CODE_REJECT_REASON               0\n",
       "NAME_CLIENT_TYPE                 0\n",
       "NAME_GOODS_CATEGORY              0\n",
       "NAME_PORTFOLIO                   0\n",
       "NAME_PRODUCT_TYPE                0\n",
       "CHANNEL_TYPE                     0\n",
       "SELLERPLACE_AREA                 0\n",
       "NAME_SELLER_INDUSTRY             0\n",
       "CNT_PAYMENT                      0\n",
       "NAME_YIELD_GROUP                 0\n",
       "PRODUCT_COMBINATION            346\n",
       "dtype: int64"
      ]
     },
     "execution_count": 177,
     "metadata": {},
     "output_type": "execute_result"
    }
   ],
   "source": [
    "prev_df.isnull().sum()"
   ]
  },
  {
   "cell_type": "code",
   "execution_count": 178,
   "id": "632806b5",
   "metadata": {},
   "outputs": [
    {
     "data": {
      "text/plain": [
       "0    POS mobile with interest\n",
       "1            Cash X-Sell: low\n",
       "2           Cash X-Sell: high\n",
       "3         Cash X-Sell: middle\n",
       "4           Cash Street: high\n",
       "Name: PRODUCT_COMBINATION, dtype: object"
      ]
     },
     "execution_count": 178,
     "metadata": {},
     "output_type": "execute_result"
    }
   ],
   "source": [
    "prev_df.PRODUCT_COMBINATION.head()"
   ]
  },
  {
   "cell_type": "code",
   "execution_count": 179,
   "id": "55d0cc47",
   "metadata": {},
   "outputs": [
    {
     "data": {
      "text/plain": [
       "Cash                              285990\n",
       "POS household with interest       263622\n",
       "POS mobile with interest          220670\n",
       "Cash X-Sell: middle               143883\n",
       "Cash X-Sell: low                  130248\n",
       "Card Street                       112581\n",
       "POS industry with interest         98833\n",
       "POS household without interest     82908\n",
       "Card X-Sell                        80582\n",
       "Cash Street: high                  59639\n",
       "Cash X-Sell: high                  59301\n",
       "Cash Street: middle                34658\n",
       "Cash Street: low                   33834\n",
       "POS mobile without interest        24082\n",
       "POS other with interest            23879\n",
       "POS industry without interest      12602\n",
       "POS others without interest         2555\n",
       "Name: PRODUCT_COMBINATION, dtype: int64"
      ]
     },
     "execution_count": 179,
     "metadata": {},
     "output_type": "execute_result"
    }
   ],
   "source": [
    "prev_df.PRODUCT_COMBINATION.value_counts()"
   ]
  },
  {
   "cell_type": "markdown",
   "id": "b60a9f6f",
   "metadata": {},
   "source": [
    "These value are random and no logic we can use to impute. Also as the percentage is very less (0.02%). lets keep those values as is. if needed we can tackle that later"
   ]
  },
  {
   "cell_type": "code",
   "execution_count": 180,
   "id": "a7b1257b",
   "metadata": {},
   "outputs": [
    {
     "data": {
      "text/plain": [
       "SK_ID_PREV                     0.000000\n",
       "SK_ID_CURR                     0.000000\n",
       "NAME_CONTRACT_TYPE             0.000000\n",
       "AMT_ANNUITY                    0.000000\n",
       "AMT_APPLICATION                0.000000\n",
       "AMT_CREDIT                     0.000000\n",
       "AMT_GOODS_PRICE                0.000000\n",
       "WEEKDAY_APPR_PROCESS_START     0.000000\n",
       "HOUR_APPR_PROCESS_START        0.000000\n",
       "FLAG_LAST_APPL_PER_CONTRACT    0.000000\n",
       "NFLAG_LAST_APPL_IN_DAY         0.000000\n",
       "NAME_CASH_LOAN_PURPOSE         0.000000\n",
       "NAME_CONTRACT_STATUS           0.000000\n",
       "DAYS_DECISION                  0.000000\n",
       "NAME_PAYMENT_TYPE              0.000000\n",
       "CODE_REJECT_REASON             0.000000\n",
       "NAME_CLIENT_TYPE               0.000000\n",
       "NAME_GOODS_CATEGORY            0.000000\n",
       "NAME_PORTFOLIO                 0.000000\n",
       "NAME_PRODUCT_TYPE              0.000000\n",
       "CHANNEL_TYPE                   0.000000\n",
       "SELLERPLACE_AREA               0.000000\n",
       "NAME_SELLER_INDUSTRY           0.000000\n",
       "CNT_PAYMENT                    0.000000\n",
       "NAME_YIELD_GROUP               0.000000\n",
       "PRODUCT_COMBINATION            0.020716\n",
       "dtype: float64"
      ]
     },
     "execution_count": 180,
     "metadata": {},
     "output_type": "execute_result"
    }
   ],
   "source": [
    "prev_df.isnull().sum() * 100 / prev_df.shape[0]"
   ]
  },
  {
   "cell_type": "code",
   "execution_count": null,
   "id": "809e26dc",
   "metadata": {},
   "outputs": [],
   "source": [
    "##"
   ]
  }
 ],
 "metadata": {
  "kernelspec": {
   "display_name": "Python 3 (ipykernel)",
   "language": "python",
   "name": "python3"
  },
  "language_info": {
   "codemirror_mode": {
    "name": "ipython",
    "version": 3
   },
   "file_extension": ".py",
   "mimetype": "text/x-python",
   "name": "python",
   "nbconvert_exporter": "python",
   "pygments_lexer": "ipython3",
   "version": "3.9.13"
  }
 },
 "nbformat": 4,
 "nbformat_minor": 5
}
